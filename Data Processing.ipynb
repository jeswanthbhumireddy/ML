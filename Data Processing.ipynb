{
 "cells": [
  {
   "cell_type": "markdown",
   "metadata": {},
   "source": [
    "Spark practice"
   ]
  },
  {
   "cell_type": "code",
   "execution_count": 1,
   "metadata": {},
   "outputs": [],
   "source": [
    "from pyspark.sql import SparkSession"
   ]
  },
  {
   "cell_type": "code",
   "execution_count": 2,
   "metadata": {},
   "outputs": [],
   "source": [
    "spark = SparkSession.builder.appName(\"data_processing\").getOrCreate()"
   ]
  },
  {
   "cell_type": "code",
   "execution_count": 3,
   "metadata": {},
   "outputs": [],
   "source": [
    "df = spark.read.csv(\"/Users/jessu/Documents/Spark ML/sample_data.csv\",inferSchema=True,header=True)"
   ]
  },
  {
   "cell_type": "code",
   "execution_count": 4,
   "metadata": {},
   "outputs": [
    {
     "name": "stdout",
     "output_type": "stream",
     "text": [
      "+-------+---+----------+------+-------+\n",
      "|ratings|age|experience|family| mobile|\n",
      "+-------+---+----------+------+-------+\n",
      "|      3| 32|       9.0|     3|   Vivo|\n",
      "|      3| 27|      13.0|     3|  Apple|\n",
      "|      4| 22|       2.5|     0|Samsung|\n",
      "+-------+---+----------+------+-------+\n",
      "only showing top 3 rows\n",
      "\n"
     ]
    }
   ],
   "source": [
    "df.show(3)"
   ]
  },
  {
   "cell_type": "code",
   "execution_count": 5,
   "metadata": {},
   "outputs": [
    {
     "data": {
      "text/plain": [
       "list"
      ]
     },
     "execution_count": 5,
     "metadata": {},
     "output_type": "execute_result"
    }
   ],
   "source": [
    "type(df.columns)"
   ]
  },
  {
   "cell_type": "code",
   "execution_count": 6,
   "metadata": {},
   "outputs": [
    {
     "data": {
      "text/plain": [
       "5"
      ]
     },
     "execution_count": 6,
     "metadata": {},
     "output_type": "execute_result"
    }
   ],
   "source": [
    "len(df.columns)"
   ]
  },
  {
   "cell_type": "code",
   "execution_count": 7,
   "metadata": {},
   "outputs": [
    {
     "data": {
      "text/plain": [
       "33"
      ]
     },
     "execution_count": 7,
     "metadata": {},
     "output_type": "execute_result"
    }
   ],
   "source": [
    "df.count()"
   ]
  },
  {
   "cell_type": "code",
   "execution_count": 8,
   "metadata": {},
   "outputs": [
    {
     "name": "stdout",
     "output_type": "stream",
     "text": [
      "root\n",
      " |-- ratings: integer (nullable = true)\n",
      " |-- age: integer (nullable = true)\n",
      " |-- experience: double (nullable = true)\n",
      " |-- family: integer (nullable = true)\n",
      " |-- mobile: string (nullable = true)\n",
      "\n"
     ]
    }
   ],
   "source": [
    "df.printSchema()"
   ]
  },
  {
   "cell_type": "code",
   "execution_count": 9,
   "metadata": {},
   "outputs": [
    {
     "name": "stdout",
     "output_type": "stream",
     "text": [
      "+-------+---+\n",
      "|ratings|age|\n",
      "+-------+---+\n",
      "|      3| 32|\n",
      "|      3| 27|\n",
      "|      4| 22|\n",
      "+-------+---+\n",
      "only showing top 3 rows\n",
      "\n"
     ]
    }
   ],
   "source": [
    "df.select(\"ratings\",\"age\").show(3)"
   ]
  },
  {
   "cell_type": "code",
   "execution_count": 10,
   "metadata": {},
   "outputs": [
    {
     "name": "stdout",
     "output_type": "stream",
     "text": [
      "+-------+------------------+------------------+------------------+------------------+------+\n",
      "|summary|           ratings|               age|        experience|            family|mobile|\n",
      "+-------+------------------+------------------+------------------+------------------+------+\n",
      "|  count|                33|                33|                33|                33|    33|\n",
      "|   mean|3.5757575757575757|30.484848484848484|10.303030303030303|1.8181818181818181|  null|\n",
      "| stddev|1.1188806636071336|  6.18527087180309| 6.770731351213326|1.8448330794164254|  null|\n",
      "|    min|                 1|                22|               2.5|                 0| Apple|\n",
      "|    max|                 5|                42|              23.0|                 5|  Vivo|\n",
      "+-------+------------------+------------------+------------------+------------------+------+\n",
      "\n"
     ]
    }
   ],
   "source": [
    "df.describe().show()"
   ]
  },
  {
   "cell_type": "code",
   "execution_count": 11,
   "metadata": {},
   "outputs": [
    {
     "data": {
      "text/plain": [
       "pyspark.sql.dataframe.DataFrame"
      ]
     },
     "execution_count": 11,
     "metadata": {},
     "output_type": "execute_result"
    }
   ],
   "source": [
    "type(df)"
   ]
  },
  {
   "cell_type": "code",
   "execution_count": 12,
   "metadata": {},
   "outputs": [
    {
     "name": "stdout",
     "output_type": "stream",
     "text": [
      "+-------+---+----------+------+-------+---------------+\n",
      "|ratings|age|experience|family| mobile|ageafter10years|\n",
      "+-------+---+----------+------+-------+---------------+\n",
      "|      3| 32|       9.0|     3|   Vivo|             42|\n",
      "|      3| 27|      13.0|     3|  Apple|             37|\n",
      "|      4| 22|       2.5|     0|Samsung|             32|\n",
      "|      4| 37|      16.5|     4|  Apple|             47|\n",
      "|      5| 27|       9.0|     1|     MI|             37|\n",
      "|      4| 27|       9.0|     0|   Oppo|             37|\n",
      "|      5| 37|      23.0|     5|   Vivo|             47|\n",
      "|      5| 37|      23.0|     5|Samsung|             47|\n",
      "|      3| 22|       2.5|     0|  Apple|             32|\n",
      "|      3| 27|       6.0|     0|     MI|             37|\n",
      "|      2| 27|       6.0|     2|   Oppo|             37|\n",
      "|      5| 27|       6.0|     2|Samsung|             37|\n",
      "|      3| 37|      16.5|     5|  Apple|             47|\n",
      "|      5| 27|       6.0|     0|     MI|             37|\n",
      "|      4| 22|       6.0|     1|   Oppo|             32|\n",
      "|      4| 37|       9.0|     2|Samsung|             47|\n",
      "|      4| 27|       6.0|     1|  Apple|             37|\n",
      "|      1| 37|      23.0|     5|     MI|             47|\n",
      "|      2| 42|      23.0|     2|   Oppo|             52|\n",
      "|      4| 37|       6.0|     0|   Vivo|             47|\n",
      "+-------+---+----------+------+-------+---------------+\n",
      "only showing top 20 rows\n",
      "\n"
     ]
    }
   ],
   "source": [
    "df.withColumn(\"ageafter10years\",df['age']+10).show()"
   ]
  },
  {
   "cell_type": "code",
   "execution_count": 13,
   "metadata": {},
   "outputs": [
    {
     "name": "stdout",
     "output_type": "stream",
     "text": [
      "+-------+----------+----------+------+-------+\n",
      "|ratings|currentage|experience|family| mobile|\n",
      "+-------+----------+----------+------+-------+\n",
      "|      3|        32|       9.0|     3|   Vivo|\n",
      "|      3|        27|      13.0|     3|  Apple|\n",
      "|      4|        22|       2.5|     0|Samsung|\n",
      "|      4|        37|      16.5|     4|  Apple|\n",
      "|      5|        27|       9.0|     1|     MI|\n",
      "|      4|        27|       9.0|     0|   Oppo|\n",
      "|      5|        37|      23.0|     5|   Vivo|\n",
      "|      5|        37|      23.0|     5|Samsung|\n",
      "|      3|        22|       2.5|     0|  Apple|\n",
      "|      3|        27|       6.0|     0|     MI|\n",
      "|      2|        27|       6.0|     2|   Oppo|\n",
      "|      5|        27|       6.0|     2|Samsung|\n",
      "|      3|        37|      16.5|     5|  Apple|\n",
      "|      5|        27|       6.0|     0|     MI|\n",
      "|      4|        22|       6.0|     1|   Oppo|\n",
      "|      4|        37|       9.0|     2|Samsung|\n",
      "|      4|        27|       6.0|     1|  Apple|\n",
      "|      1|        37|      23.0|     5|     MI|\n",
      "|      2|        42|      23.0|     2|   Oppo|\n",
      "|      4|        37|       6.0|     0|   Vivo|\n",
      "+-------+----------+----------+------+-------+\n",
      "only showing top 20 rows\n",
      "\n"
     ]
    }
   ],
   "source": [
    "df.withColumnRenamed(\"age\",\"currentage\").show()"
   ]
  },
  {
   "cell_type": "code",
   "execution_count": 14,
   "metadata": {},
   "outputs": [
    {
     "name": "stdout",
     "output_type": "stream",
     "text": [
      "+-------+---+----------+------+-------+\n",
      "|ratings|age|experience|family| mobile|\n",
      "+-------+---+----------+------+-------+\n",
      "|      3| 32|       9.0|     3|   Vivo|\n",
      "|      4| 22|       2.5|     0|Samsung|\n",
      "|      5| 27|       6.0|     0|     MI|\n",
      "|      4| 22|       6.0|     1|   Oppo|\n",
      "|      3| 27|       6.0|     0|     MI|\n",
      "|      2| 32|      16.5|     2|   Oppo|\n",
      "|      4| 27|       9.0|     0|   Oppo|\n",
      "|      2| 27|       9.0|     2|Samsung|\n",
      "|      3| 37|      16.5|     5|  Apple|\n",
      "|      4| 27|       6.0|     1|  Apple|\n",
      "|      5| 37|      23.0|     5|   Vivo|\n",
      "|      2| 27|       6.0|     2|   Oppo|\n",
      "|      4| 37|       6.0|     0|   Vivo|\n",
      "|      5| 37|      23.0|     5|Samsung|\n",
      "|      4| 37|       9.0|     2|Samsung|\n",
      "|      5| 37|      13.0|     1|   Vivo|\n",
      "|      5| 27|       2.5|     0|     MI|\n",
      "|      3| 42|      23.0|     5|     MI|\n",
      "|      5| 22|       2.5|     0|Samsung|\n",
      "|      1| 37|      23.0|     5|     MI|\n",
      "+-------+---+----------+------+-------+\n",
      "only showing top 20 rows\n",
      "\n"
     ]
    }
   ],
   "source": [
    "df.distinct().show()"
   ]
  },
  {
   "cell_type": "code",
   "execution_count": 15,
   "metadata": {},
   "outputs": [
    {
     "name": "stdout",
     "output_type": "stream",
     "text": [
      "+-------+---+----------+------+-------+\n",
      "|ratings|age|experience|family| mobile|\n",
      "+-------+---+----------+------+-------+\n",
      "|      3| 32|       9.0|     3|   Vivo|\n",
      "|      3| 27|      13.0|     3|  Apple|\n",
      "|      4| 22|       2.5|     0|Samsung|\n",
      "|      4| 37|      16.5|     4|  Apple|\n",
      "|      5| 27|       9.0|     1|     MI|\n",
      "|      4| 27|       9.0|     0|   Oppo|\n",
      "|      5| 37|      23.0|     5|   Vivo|\n",
      "|      5| 37|      23.0|     5|Samsung|\n",
      "|      3| 22|       2.5|     0|  Apple|\n",
      "|      3| 27|       6.0|     0|     MI|\n",
      "|      2| 27|       6.0|     2|   Oppo|\n",
      "|      5| 27|       6.0|     2|Samsung|\n",
      "|      3| 37|      16.5|     5|  Apple|\n",
      "|      5| 27|       6.0|     0|     MI|\n",
      "|      4| 22|       6.0|     1|   Oppo|\n",
      "|      4| 37|       9.0|     2|Samsung|\n",
      "|      4| 27|       6.0|     1|  Apple|\n",
      "|      1| 37|      23.0|     5|     MI|\n",
      "|      2| 42|      23.0|     2|   Oppo|\n",
      "|      4| 37|       6.0|     0|   Vivo|\n",
      "+-------+---+----------+------+-------+\n",
      "only showing top 20 rows\n",
      "\n"
     ]
    }
   ],
   "source": [
    "df.show(n=20,vertical=False)"
   ]
  },
  {
   "cell_type": "code",
   "execution_count": 16,
   "metadata": {},
   "outputs": [
    {
     "name": "stdout",
     "output_type": "stream",
     "text": [
      "+-------+---------------+\n",
      "|mobile |sum(experience)|\n",
      "+-------+---------------+\n",
      "|MI     |81.5           |\n",
      "|Oppo   |72.5           |\n",
      "|Samsung|52.0           |\n",
      "|Vivo   |57.0           |\n",
      "|Apple  |77.0           |\n",
      "+-------+---------------+\n",
      "\n"
     ]
    }
   ],
   "source": [
    "df.groupBy('mobile').agg({'experience':'sum'}).show(5,False)"
   ]
  },
  {
   "cell_type": "code",
   "execution_count": 17,
   "metadata": {},
   "outputs": [],
   "source": [
    "from pyspark.sql.functions import udf"
   ]
  },
  {
   "cell_type": "code",
   "execution_count": 20,
   "metadata": {},
   "outputs": [],
   "source": [
    "def price_range(brand):\n",
    "    if brand in ['Samsung','Apple']: return 'High Price'\n",
    "    elif brand =='MI': return 'Mid Price'\n",
    "    else: return 'Low Price'"
   ]
  },
  {
   "cell_type": "code",
   "execution_count": 22,
   "metadata": {},
   "outputs": [],
   "source": [
    "brand_udf=udf(price_range)"
   ]
  },
  {
   "cell_type": "code",
   "execution_count": 23,
   "metadata": {},
   "outputs": [
    {
     "name": "stdout",
     "output_type": "stream",
     "text": [
      "+-------+---+----------+------+-------+-----------+\n",
      "|ratings|age|experience|family| mobile|price_range|\n",
      "+-------+---+----------+------+-------+-----------+\n",
      "|      3| 32|       9.0|     3|   Vivo|  Low Price|\n",
      "|      3| 27|      13.0|     3|  Apple| High Price|\n",
      "|      4| 22|       2.5|     0|Samsung| High Price|\n",
      "|      4| 37|      16.5|     4|  Apple| High Price|\n",
      "|      5| 27|       9.0|     1|     MI|  Mid Price|\n",
      "|      4| 27|       9.0|     0|   Oppo|  Low Price|\n",
      "|      5| 37|      23.0|     5|   Vivo|  Low Price|\n",
      "|      5| 37|      23.0|     5|Samsung| High Price|\n",
      "|      3| 22|       2.5|     0|  Apple| High Price|\n",
      "|      3| 27|       6.0|     0|     MI|  Mid Price|\n",
      "|      2| 27|       6.0|     2|   Oppo|  Low Price|\n",
      "|      5| 27|       6.0|     2|Samsung| High Price|\n",
      "|      3| 37|      16.5|     5|  Apple| High Price|\n",
      "|      5| 27|       6.0|     0|     MI|  Mid Price|\n",
      "|      4| 22|       6.0|     1|   Oppo|  Low Price|\n",
      "|      4| 37|       9.0|     2|Samsung| High Price|\n",
      "|      4| 27|       6.0|     1|  Apple| High Price|\n",
      "|      1| 37|      23.0|     5|     MI|  Mid Price|\n",
      "|      2| 42|      23.0|     2|   Oppo|  Low Price|\n",
      "|      4| 37|       6.0|     0|   Vivo|  Low Price|\n",
      "+-------+---+----------+------+-------+-----------+\n",
      "only showing top 20 rows\n",
      "\n"
     ]
    }
   ],
   "source": [
    "df.withColumn('price_range',brand_udf(df['mobile'])).show()"
   ]
  },
  {
   "cell_type": "code",
   "execution_count": 29,
   "metadata": {},
   "outputs": [
    {
     "data": {
      "text/plain": [
       "33"
      ]
     },
     "execution_count": 29,
     "metadata": {},
     "output_type": "execute_result"
    }
   ],
   "source": [
    "df.count()"
   ]
  },
  {
   "cell_type": "code",
   "execution_count": 32,
   "metadata": {},
   "outputs": [],
   "source": [
    "df = df.dropDuplicates()"
   ]
  },
  {
   "cell_type": "code",
   "execution_count": 33,
   "metadata": {},
   "outputs": [
    {
     "data": {
      "text/plain": [
       "26"
      ]
     },
     "execution_count": 33,
     "metadata": {},
     "output_type": "execute_result"
    }
   ],
   "source": [
    "df.count()"
   ]
  },
  {
   "cell_type": "code",
   "execution_count": 34,
   "metadata": {},
   "outputs": [
    {
     "data": {
      "text/plain": [
       "'/Users/jessu/Documents/Spark ML'"
      ]
     },
     "execution_count": 34,
     "metadata": {},
     "output_type": "execute_result"
    }
   ],
   "source": [
    "pwd"
   ]
  },
  {
   "cell_type": "code",
   "execution_count": 39,
   "metadata": {},
   "outputs": [],
   "source": [
    "write_loc = '/Users/jessu/Documents/Spark ML/df_csv'"
   ]
  },
  {
   "cell_type": "code",
   "execution_count": 40,
   "metadata": {},
   "outputs": [],
   "source": [
    "df.coalesce(1).write.format('csv').option(\"header\",True).save(write_loc)"
   ]
  },
  {
   "cell_type": "code",
   "execution_count": 49,
   "metadata": {},
   "outputs": [],
   "source": [
    "parquet_url = '/Users/jessu/Documents/Spark ML/parquet_partition'"
   ]
  },
  {
   "cell_type": "code",
   "execution_count": 50,
   "metadata": {},
   "outputs": [],
   "source": [
    "df.coalesce(1).write.format('parquet').partitionBy('mobile').save(parquet_url)"
   ]
  },
  {
   "cell_type": "code",
   "execution_count": null,
   "metadata": {},
   "outputs": [],
   "source": [
    "df"
   ]
  }
 ],
 "metadata": {
  "kernelspec": {
   "display_name": "Python 3",
   "language": "python",
   "name": "python3"
  },
  "language_info": {
   "codemirror_mode": {
    "name": "ipython",
    "version": 3
   },
   "file_extension": ".py",
   "mimetype": "text/x-python",
   "name": "python",
   "nbconvert_exporter": "python",
   "pygments_lexer": "ipython3",
   "version": "3.8.5"
  }
 },
 "nbformat": 4,
 "nbformat_minor": 4
}
