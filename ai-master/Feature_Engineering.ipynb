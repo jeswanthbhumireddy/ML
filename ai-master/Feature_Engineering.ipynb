{
  "nbformat": 4,
  "nbformat_minor": 0,
  "metadata": {
    "colab": {
      "name": "Feature_Engineering.ipynb",
      "version": "0.3.2",
      "provenance": [],
      "collapsed_sections": [],
      "include_colab_link": true
    },
    "kernelspec": {
      "name": "python3",
      "display_name": "Python 3"
    }
  },
  "cells": [
    {
      "cell_type": "markdown",
      "metadata": {
        "id": "view-in-github",
        "colab_type": "text"
      },
      "source": [
        "<a href=\"https://colab.research.google.com/github/futurexskill/ai/blob/master/Feature_Engineering.ipynb\" target=\"_parent\"><img src=\"https://colab.research.google.com/assets/colab-badge.svg\" alt=\"Open In Colab\"/></a>"
      ]
    },
    {
      "cell_type": "markdown",
      "metadata": {
        "id": "6_D_q6QpGiZZ",
        "colab_type": "text"
      },
      "source": [
        "## Import the libraries"
      ]
    },
    {
      "cell_type": "code",
      "metadata": {
        "id": "CoM_FF5sDr9F",
        "colab_type": "code",
        "colab": {}
      },
      "source": [
        "import numpy as np\n",
        "import matplotlib.pyplot as plt\n",
        "import pandas as pd"
      ],
      "execution_count": 0,
      "outputs": []
    },
    {
      "cell_type": "markdown",
      "metadata": {
        "id": "MK6jKpayGmWR",
        "colab_type": "text"
      },
      "source": [
        "## Read the dataset"
      ]
    },
    {
      "cell_type": "code",
      "metadata": {
        "id": "E6gPFz8xEZeg",
        "colab_type": "code",
        "colab": {}
      },
      "source": [
        "dataset = pd.read_csv('https://raw.githubusercontent.com/futurexskill/ai/master/retailstore.csv')"
      ],
      "execution_count": 0,
      "outputs": []
    },
    {
      "cell_type": "markdown",
      "metadata": {
        "id": "ToHySi2LGqEz",
        "colab_type": "text"
      },
      "source": [
        "## Get Info"
      ]
    },
    {
      "cell_type": "code",
      "metadata": {
        "id": "3L63dR-JEwUu",
        "colab_type": "code",
        "outputId": "ff37da6c-4a9f-4f42-a8bd-dc84ec49d72e",
        "colab": {
          "base_uri": "https://localhost:8080/",
          "height": 187
        }
      },
      "source": [
        "dataset.info()"
      ],
      "execution_count": 3,
      "outputs": [
        {
          "output_type": "stream",
          "text": [
            "<class 'pandas.core.frame.DataFrame'>\n",
            "RangeIndex: 10 entries, 0 to 9\n",
            "Data columns (total 5 columns):\n",
            "Age          9 non-null float64\n",
            "Salary       8 non-null float64\n",
            "Gender       10 non-null object\n",
            "Country      10 non-null object\n",
            "Purchased    10 non-null object\n",
            "dtypes: float64(2), object(3)\n",
            "memory usage: 480.0+ bytes\n"
          ],
          "name": "stdout"
        }
      ]
    },
    {
      "cell_type": "markdown",
      "metadata": {
        "id": "l_qpphVhGuCz",
        "colab_type": "text"
      },
      "source": [
        "## Print records"
      ]
    },
    {
      "cell_type": "code",
      "metadata": {
        "id": "i1VY3xdbEhZr",
        "colab_type": "code",
        "outputId": "6c03aacc-00a5-4f1a-b83c-dc7f3544d047",
        "colab": {
          "base_uri": "https://localhost:8080/",
          "height": 359
        }
      },
      "source": [
        "dataset"
      ],
      "execution_count": 4,
      "outputs": [
        {
          "output_type": "execute_result",
          "data": {
            "text/html": [
              "<div>\n",
              "<style scoped>\n",
              "    .dataframe tbody tr th:only-of-type {\n",
              "        vertical-align: middle;\n",
              "    }\n",
              "\n",
              "    .dataframe tbody tr th {\n",
              "        vertical-align: top;\n",
              "    }\n",
              "\n",
              "    .dataframe thead th {\n",
              "        text-align: right;\n",
              "    }\n",
              "</style>\n",
              "<table border=\"1\" class=\"dataframe\">\n",
              "  <thead>\n",
              "    <tr style=\"text-align: right;\">\n",
              "      <th></th>\n",
              "      <th>Age</th>\n",
              "      <th>Salary</th>\n",
              "      <th>Gender</th>\n",
              "      <th>Country</th>\n",
              "      <th>Purchased</th>\n",
              "    </tr>\n",
              "  </thead>\n",
              "  <tbody>\n",
              "    <tr>\n",
              "      <th>0</th>\n",
              "      <td>18.0</td>\n",
              "      <td>20000.0</td>\n",
              "      <td>Male</td>\n",
              "      <td>Germany</td>\n",
              "      <td>N</td>\n",
              "    </tr>\n",
              "    <tr>\n",
              "      <th>1</th>\n",
              "      <td>19.0</td>\n",
              "      <td>22000.0</td>\n",
              "      <td>Female</td>\n",
              "      <td>France</td>\n",
              "      <td>N</td>\n",
              "    </tr>\n",
              "    <tr>\n",
              "      <th>2</th>\n",
              "      <td>20.0</td>\n",
              "      <td>24000.0</td>\n",
              "      <td>Female</td>\n",
              "      <td>England</td>\n",
              "      <td>N</td>\n",
              "    </tr>\n",
              "    <tr>\n",
              "      <th>3</th>\n",
              "      <td>21.0</td>\n",
              "      <td>NaN</td>\n",
              "      <td>Male</td>\n",
              "      <td>England</td>\n",
              "      <td>N</td>\n",
              "    </tr>\n",
              "    <tr>\n",
              "      <th>4</th>\n",
              "      <td>22.0</td>\n",
              "      <td>50000.0</td>\n",
              "      <td>Male</td>\n",
              "      <td>France</td>\n",
              "      <td>Y</td>\n",
              "    </tr>\n",
              "    <tr>\n",
              "      <th>5</th>\n",
              "      <td>23.0</td>\n",
              "      <td>35000.0</td>\n",
              "      <td>Female</td>\n",
              "      <td>England</td>\n",
              "      <td>N</td>\n",
              "    </tr>\n",
              "    <tr>\n",
              "      <th>6</th>\n",
              "      <td>24.0</td>\n",
              "      <td>NaN</td>\n",
              "      <td>Male</td>\n",
              "      <td>Germany</td>\n",
              "      <td>N</td>\n",
              "    </tr>\n",
              "    <tr>\n",
              "      <th>7</th>\n",
              "      <td>25.0</td>\n",
              "      <td>32000.0</td>\n",
              "      <td>Female</td>\n",
              "      <td>France</td>\n",
              "      <td>Y</td>\n",
              "    </tr>\n",
              "    <tr>\n",
              "      <th>8</th>\n",
              "      <td>NaN</td>\n",
              "      <td>35000.0</td>\n",
              "      <td>Male</td>\n",
              "      <td>Germany</td>\n",
              "      <td>N</td>\n",
              "    </tr>\n",
              "    <tr>\n",
              "      <th>9</th>\n",
              "      <td>27.0</td>\n",
              "      <td>37000.0</td>\n",
              "      <td>Female</td>\n",
              "      <td>France</td>\n",
              "      <td>N</td>\n",
              "    </tr>\n",
              "  </tbody>\n",
              "</table>\n",
              "</div>"
            ],
            "text/plain": [
              "    Age   Salary  Gender  Country Purchased\n",
              "0  18.0  20000.0    Male  Germany         N\n",
              "1  19.0  22000.0  Female   France         N\n",
              "2  20.0  24000.0  Female  England         N\n",
              "3  21.0      NaN    Male  England         N\n",
              "4  22.0  50000.0    Male   France         Y\n",
              "5  23.0  35000.0  Female  England         N\n",
              "6  24.0      NaN    Male  Germany         N\n",
              "7  25.0  32000.0  Female   France         Y\n",
              "8   NaN  35000.0    Male  Germany         N\n",
              "9  27.0  37000.0  Female   France         N"
            ]
          },
          "metadata": {
            "tags": []
          },
          "execution_count": 4
        }
      ]
    },
    {
      "cell_type": "markdown",
      "metadata": {
        "id": "tB8GVvoTIgX2",
        "colab_type": "text"
      },
      "source": [
        "## Separate the Independent and Dependent variables\n"
      ]
    },
    {
      "cell_type": "code",
      "metadata": {
        "id": "8J0Vo2x8IkuQ",
        "colab_type": "code",
        "outputId": "c32f611b-7201-4720-9176-0883aebd8987",
        "colab": {
          "base_uri": "https://localhost:8080/",
          "height": 187
        }
      },
      "source": [
        "X = dataset.iloc[:, :-1].values\n",
        "X"
      ],
      "execution_count": 5,
      "outputs": [
        {
          "output_type": "execute_result",
          "data": {
            "text/plain": [
              "array([[18.0, 20000.0, 'Male', 'Germany'],\n",
              "       [19.0, 22000.0, 'Female', 'France'],\n",
              "       [20.0, 24000.0, 'Female', 'England'],\n",
              "       [21.0, nan, 'Male', 'England'],\n",
              "       [22.0, 50000.0, 'Male', 'France'],\n",
              "       [23.0, 35000.0, 'Female', 'England'],\n",
              "       [24.0, nan, 'Male', 'Germany'],\n",
              "       [25.0, 32000.0, 'Female', 'France'],\n",
              "       [nan, 35000.0, 'Male', 'Germany'],\n",
              "       [27.0, 37000.0, 'Female', 'France']], dtype=object)"
            ]
          },
          "metadata": {
            "tags": []
          },
          "execution_count": 5
        }
      ]
    },
    {
      "cell_type": "code",
      "metadata": {
        "id": "Xu6WwnQkIp2G",
        "colab_type": "code",
        "outputId": "2b56a20b-6199-407e-8f58-2cfc4a8cd871",
        "colab": {
          "base_uri": "https://localhost:8080/",
          "height": 34
        }
      },
      "source": [
        "y = dataset.iloc[0:,-1].values\n",
        "y\n"
      ],
      "execution_count": 6,
      "outputs": [
        {
          "output_type": "execute_result",
          "data": {
            "text/plain": [
              "array(['N', 'N', 'N', 'N', 'Y', 'N', 'N', 'Y', 'N', 'N'], dtype=object)"
            ]
          },
          "metadata": {
            "tags": []
          },
          "execution_count": 6
        }
      ]
    },
    {
      "cell_type": "markdown",
      "metadata": {
        "id": "ybywZr2nLbmy",
        "colab_type": "text"
      },
      "source": [
        "## Replacing the missing values\n",
        "\n",
        "### Imputer class"
      ]
    },
    {
      "cell_type": "code",
      "metadata": {
        "id": "mmWJD9HLLevx",
        "colab_type": "code",
        "colab": {}
      },
      "source": [
        "from sklearn.preprocessing import Imputer"
      ],
      "execution_count": 0,
      "outputs": []
    },
    {
      "cell_type": "code",
      "metadata": {
        "id": "ts914PvmMGNZ",
        "colab_type": "code",
        "outputId": "777856b8-bb3f-4a2f-fd31-2fd96e1053e2",
        "colab": {
          "base_uri": "https://localhost:8080/",
          "height": 71
        }
      },
      "source": [
        "imputer = Imputer(missing_values = 'NaN', strategy = 'mean', axis = 0)"
      ],
      "execution_count": 8,
      "outputs": [
        {
          "output_type": "stream",
          "text": [
            "/usr/local/lib/python3.6/dist-packages/sklearn/utils/deprecation.py:66: DeprecationWarning: Class Imputer is deprecated; Imputer was deprecated in version 0.20 and will be removed in 0.22. Import impute.SimpleImputer from sklearn instead.\n",
            "  warnings.warn(msg, category=DeprecationWarning)\n"
          ],
          "name": "stderr"
        }
      ]
    },
    {
      "cell_type": "code",
      "metadata": {
        "id": "t43XixprL01f",
        "colab_type": "code",
        "colab": {}
      },
      "source": [
        "imputer = imputer.fit(X[:, 0:2])"
      ],
      "execution_count": 0,
      "outputs": []
    },
    {
      "cell_type": "code",
      "metadata": {
        "id": "36FIiI10MKjR",
        "colab_type": "code",
        "colab": {}
      },
      "source": [
        "X[:, 0:2] = imputer.transform(X[:, 0:2])"
      ],
      "execution_count": 0,
      "outputs": []
    },
    {
      "cell_type": "code",
      "metadata": {
        "id": "OYEFYY5iMSGB",
        "colab_type": "code",
        "outputId": "798de486-c43c-4c10-f164-a8b93d3963e3",
        "colab": {
          "base_uri": "https://localhost:8080/",
          "height": 187
        }
      },
      "source": [
        "X"
      ],
      "execution_count": 11,
      "outputs": [
        {
          "output_type": "execute_result",
          "data": {
            "text/plain": [
              "array([[18.0, 20000.0, 'Male', 'Germany'],\n",
              "       [19.0, 22000.0, 'Female', 'France'],\n",
              "       [20.0, 24000.0, 'Female', 'England'],\n",
              "       [21.0, 31875.0, 'Male', 'England'],\n",
              "       [22.0, 50000.0, 'Male', 'France'],\n",
              "       [23.0, 35000.0, 'Female', 'England'],\n",
              "       [24.0, 31875.0, 'Male', 'Germany'],\n",
              "       [25.0, 32000.0, 'Female', 'France'],\n",
              "       [22.11111111111111, 35000.0, 'Male', 'Germany'],\n",
              "       [27.0, 37000.0, 'Female', 'France']], dtype=object)"
            ]
          },
          "metadata": {
            "tags": []
          },
          "execution_count": 11
        }
      ]
    },
    {
      "cell_type": "code",
      "metadata": {
        "id": "FVVOPB92l3O9",
        "colab_type": "code",
        "outputId": "f22a0e01-8026-452a-d346-c5827415105f",
        "colab": {
          "base_uri": "https://localhost:8080/",
          "height": 297
        }
      },
      "source": [
        "dataset.describe()"
      ],
      "execution_count": 12,
      "outputs": [
        {
          "output_type": "execute_result",
          "data": {
            "text/html": [
              "<div>\n",
              "<style scoped>\n",
              "    .dataframe tbody tr th:only-of-type {\n",
              "        vertical-align: middle;\n",
              "    }\n",
              "\n",
              "    .dataframe tbody tr th {\n",
              "        vertical-align: top;\n",
              "    }\n",
              "\n",
              "    .dataframe thead th {\n",
              "        text-align: right;\n",
              "    }\n",
              "</style>\n",
              "<table border=\"1\" class=\"dataframe\">\n",
              "  <thead>\n",
              "    <tr style=\"text-align: right;\">\n",
              "      <th></th>\n",
              "      <th>Age</th>\n",
              "      <th>Salary</th>\n",
              "    </tr>\n",
              "  </thead>\n",
              "  <tbody>\n",
              "    <tr>\n",
              "      <th>count</th>\n",
              "      <td>9.000000</td>\n",
              "      <td>8.000000</td>\n",
              "    </tr>\n",
              "    <tr>\n",
              "      <th>mean</th>\n",
              "      <td>22.111111</td>\n",
              "      <td>31875.000000</td>\n",
              "    </tr>\n",
              "    <tr>\n",
              "      <th>std</th>\n",
              "      <td>2.934469</td>\n",
              "      <td>9818.895777</td>\n",
              "    </tr>\n",
              "    <tr>\n",
              "      <th>min</th>\n",
              "      <td>18.000000</td>\n",
              "      <td>20000.000000</td>\n",
              "    </tr>\n",
              "    <tr>\n",
              "      <th>25%</th>\n",
              "      <td>20.000000</td>\n",
              "      <td>23500.000000</td>\n",
              "    </tr>\n",
              "    <tr>\n",
              "      <th>50%</th>\n",
              "      <td>22.000000</td>\n",
              "      <td>33500.000000</td>\n",
              "    </tr>\n",
              "    <tr>\n",
              "      <th>75%</th>\n",
              "      <td>24.000000</td>\n",
              "      <td>35500.000000</td>\n",
              "    </tr>\n",
              "    <tr>\n",
              "      <th>max</th>\n",
              "      <td>27.000000</td>\n",
              "      <td>50000.000000</td>\n",
              "    </tr>\n",
              "  </tbody>\n",
              "</table>\n",
              "</div>"
            ],
            "text/plain": [
              "             Age        Salary\n",
              "count   9.000000      8.000000\n",
              "mean   22.111111  31875.000000\n",
              "std     2.934469   9818.895777\n",
              "min    18.000000  20000.000000\n",
              "25%    20.000000  23500.000000\n",
              "50%    22.000000  33500.000000\n",
              "75%    24.000000  35500.000000\n",
              "max    27.000000  50000.000000"
            ]
          },
          "metadata": {
            "tags": []
          },
          "execution_count": 12
        }
      ]
    },
    {
      "cell_type": "markdown",
      "metadata": {
        "id": "a2ZFEmbHHnFs",
        "colab_type": "text"
      },
      "source": [
        "## Encoding the Independent variables\n"
      ]
    },
    {
      "cell_type": "markdown",
      "metadata": {
        "id": "_-BCGKXzHfHX",
        "colab_type": "text"
      },
      "source": [
        "### Label Encoder\n",
        "\n"
      ]
    },
    {
      "cell_type": "code",
      "metadata": {
        "id": "D-j3-G8iHqI0",
        "colab_type": "code",
        "colab": {}
      },
      "source": [
        "from sklearn.preprocessing import LabelEncoder \n",
        "labelencoder_X = LabelEncoder()"
      ],
      "execution_count": 0,
      "outputs": []
    },
    {
      "cell_type": "markdown",
      "metadata": {
        "id": "TAx8dyLBI_oA",
        "colab_type": "text"
      },
      "source": [
        "Convert Age to Numerical value"
      ]
    },
    {
      "cell_type": "code",
      "metadata": {
        "id": "N_O16dKQHu0d",
        "colab_type": "code",
        "colab": {}
      },
      "source": [
        "X[:, 2] = labelencoder_X.fit_transform(X[:, 2])"
      ],
      "execution_count": 0,
      "outputs": []
    },
    {
      "cell_type": "code",
      "metadata": {
        "id": "OEkJCJmGHyBc",
        "colab_type": "code",
        "outputId": "cf227781-1191-4096-a104-32042139805d",
        "colab": {
          "base_uri": "https://localhost:8080/",
          "height": 187
        }
      },
      "source": [
        "X"
      ],
      "execution_count": 15,
      "outputs": [
        {
          "output_type": "execute_result",
          "data": {
            "text/plain": [
              "array([[18.0, 20000.0, 1, 'Germany'],\n",
              "       [19.0, 22000.0, 0, 'France'],\n",
              "       [20.0, 24000.0, 0, 'England'],\n",
              "       [21.0, 31875.0, 1, 'England'],\n",
              "       [22.0, 50000.0, 1, 'France'],\n",
              "       [23.0, 35000.0, 0, 'England'],\n",
              "       [24.0, 31875.0, 1, 'Germany'],\n",
              "       [25.0, 32000.0, 0, 'France'],\n",
              "       [22.11111111111111, 35000.0, 1, 'Germany'],\n",
              "       [27.0, 37000.0, 0, 'France']], dtype=object)"
            ]
          },
          "metadata": {
            "tags": []
          },
          "execution_count": 15
        }
      ]
    },
    {
      "cell_type": "markdown",
      "metadata": {
        "id": "easp1R34JIHd",
        "colab_type": "text"
      },
      "source": [
        "Convert Country to Numeric Value"
      ]
    },
    {
      "cell_type": "code",
      "metadata": {
        "id": "JaOWs6RZI7N5",
        "colab_type": "code",
        "colab": {}
      },
      "source": [
        "X[:, 3] = labelencoder_X.fit_transform(X[:, 3])"
      ],
      "execution_count": 0,
      "outputs": []
    },
    {
      "cell_type": "code",
      "metadata": {
        "id": "HPsjykX4JO_O",
        "colab_type": "code",
        "outputId": "384a24d4-0a99-4de9-cd94-8899b3e3a9e7",
        "colab": {
          "base_uri": "https://localhost:8080/",
          "height": 187
        }
      },
      "source": [
        "X"
      ],
      "execution_count": 17,
      "outputs": [
        {
          "output_type": "execute_result",
          "data": {
            "text/plain": [
              "array([[18.0, 20000.0, 1, 2],\n",
              "       [19.0, 22000.0, 0, 1],\n",
              "       [20.0, 24000.0, 0, 0],\n",
              "       [21.0, 31875.0, 1, 0],\n",
              "       [22.0, 50000.0, 1, 1],\n",
              "       [23.0, 35000.0, 0, 0],\n",
              "       [24.0, 31875.0, 1, 2],\n",
              "       [25.0, 32000.0, 0, 1],\n",
              "       [22.11111111111111, 35000.0, 1, 2],\n",
              "       [27.0, 37000.0, 0, 1]], dtype=object)"
            ]
          },
          "metadata": {
            "tags": []
          },
          "execution_count": 17
        }
      ]
    },
    {
      "cell_type": "markdown",
      "metadata": {
        "id": "_fW8eBxMJdRX",
        "colab_type": "text"
      },
      "source": [
        "### One Hot Encoder"
      ]
    },
    {
      "cell_type": "code",
      "metadata": {
        "id": "20_3CJ17JP-5",
        "colab_type": "code",
        "colab": {}
      },
      "source": [
        "from sklearn.preprocessing import OneHotEncoder"
      ],
      "execution_count": 0,
      "outputs": []
    },
    {
      "cell_type": "code",
      "metadata": {
        "id": "eipnF7CZJlne",
        "colab_type": "code",
        "colab": {}
      },
      "source": [
        "onehotencoder = OneHotEncoder(categorical_features = [3])\n"
      ],
      "execution_count": 0,
      "outputs": []
    },
    {
      "cell_type": "code",
      "metadata": {
        "id": "SZyeGmsfKkkk",
        "colab_type": "code",
        "outputId": "cedad671-5b06-42fd-eca9-9f9a40eafd56",
        "colab": {
          "base_uri": "https://localhost:8080/",
          "height": 139
        }
      },
      "source": [
        "X = onehotencoder.fit_transform(X).toarray()"
      ],
      "execution_count": 20,
      "outputs": [
        {
          "output_type": "stream",
          "text": [
            "/usr/local/lib/python3.6/dist-packages/sklearn/preprocessing/_encoders.py:415: FutureWarning: The handling of integer data will change in version 0.22. Currently, the categories are determined based on the range [0, max(values)], while in the future they will be determined based on the unique values.\n",
            "If you want the future behaviour and silence this warning, you can specify \"categories='auto'\".\n",
            "In case you used a LabelEncoder before this OneHotEncoder to convert the categories to integers, then you can now use the OneHotEncoder directly.\n",
            "  warnings.warn(msg, FutureWarning)\n",
            "/usr/local/lib/python3.6/dist-packages/sklearn/preprocessing/_encoders.py:451: DeprecationWarning: The 'categorical_features' keyword is deprecated in version 0.20 and will be removed in 0.22. You can use the ColumnTransformer instead.\n",
            "  \"use the ColumnTransformer instead.\", DeprecationWarning)\n"
          ],
          "name": "stderr"
        }
      ]
    },
    {
      "cell_type": "code",
      "metadata": {
        "id": "yiNFKXavMbfP",
        "colab_type": "code",
        "outputId": "5a1b7b9b-c70f-4558-be2d-410ecedeab8e",
        "colab": {
          "base_uri": "https://localhost:8080/",
          "height": 357
        }
      },
      "source": [
        "X"
      ],
      "execution_count": 21,
      "outputs": [
        {
          "output_type": "execute_result",
          "data": {
            "text/plain": [
              "array([[0.00000000e+00, 0.00000000e+00, 1.00000000e+00, 1.80000000e+01,\n",
              "        2.00000000e+04, 1.00000000e+00],\n",
              "       [0.00000000e+00, 1.00000000e+00, 0.00000000e+00, 1.90000000e+01,\n",
              "        2.20000000e+04, 0.00000000e+00],\n",
              "       [1.00000000e+00, 0.00000000e+00, 0.00000000e+00, 2.00000000e+01,\n",
              "        2.40000000e+04, 0.00000000e+00],\n",
              "       [1.00000000e+00, 0.00000000e+00, 0.00000000e+00, 2.10000000e+01,\n",
              "        3.18750000e+04, 1.00000000e+00],\n",
              "       [0.00000000e+00, 1.00000000e+00, 0.00000000e+00, 2.20000000e+01,\n",
              "        5.00000000e+04, 1.00000000e+00],\n",
              "       [1.00000000e+00, 0.00000000e+00, 0.00000000e+00, 2.30000000e+01,\n",
              "        3.50000000e+04, 0.00000000e+00],\n",
              "       [0.00000000e+00, 0.00000000e+00, 1.00000000e+00, 2.40000000e+01,\n",
              "        3.18750000e+04, 1.00000000e+00],\n",
              "       [0.00000000e+00, 1.00000000e+00, 0.00000000e+00, 2.50000000e+01,\n",
              "        3.20000000e+04, 0.00000000e+00],\n",
              "       [0.00000000e+00, 0.00000000e+00, 1.00000000e+00, 2.21111111e+01,\n",
              "        3.50000000e+04, 1.00000000e+00],\n",
              "       [0.00000000e+00, 1.00000000e+00, 0.00000000e+00, 2.70000000e+01,\n",
              "        3.70000000e+04, 0.00000000e+00]])"
            ]
          },
          "metadata": {
            "tags": []
          },
          "execution_count": 21
        }
      ]
    },
    {
      "cell_type": "markdown",
      "metadata": {
        "id": "c90BsQZkxCi6",
        "colab_type": "text"
      },
      "source": [
        "Remove the First Column"
      ]
    },
    {
      "cell_type": "code",
      "metadata": {
        "id": "R-NVr9E6KuHT",
        "colab_type": "code",
        "colab": {}
      },
      "source": [
        "X = X[:,1:]"
      ],
      "execution_count": 0,
      "outputs": []
    },
    {
      "cell_type": "code",
      "metadata": {
        "id": "g24MxVcPKpAG",
        "colab_type": "code",
        "outputId": "a625a822-d2d7-4a53-b215-a8f49a47345b",
        "colab": {
          "base_uri": "https://localhost:8080/",
          "height": 357
        }
      },
      "source": [
        "X"
      ],
      "execution_count": 23,
      "outputs": [
        {
          "output_type": "execute_result",
          "data": {
            "text/plain": [
              "array([[0.00000000e+00, 1.00000000e+00, 1.80000000e+01, 2.00000000e+04,\n",
              "        1.00000000e+00],\n",
              "       [1.00000000e+00, 0.00000000e+00, 1.90000000e+01, 2.20000000e+04,\n",
              "        0.00000000e+00],\n",
              "       [0.00000000e+00, 0.00000000e+00, 2.00000000e+01, 2.40000000e+04,\n",
              "        0.00000000e+00],\n",
              "       [0.00000000e+00, 0.00000000e+00, 2.10000000e+01, 3.18750000e+04,\n",
              "        1.00000000e+00],\n",
              "       [1.00000000e+00, 0.00000000e+00, 2.20000000e+01, 5.00000000e+04,\n",
              "        1.00000000e+00],\n",
              "       [0.00000000e+00, 0.00000000e+00, 2.30000000e+01, 3.50000000e+04,\n",
              "        0.00000000e+00],\n",
              "       [0.00000000e+00, 1.00000000e+00, 2.40000000e+01, 3.18750000e+04,\n",
              "        1.00000000e+00],\n",
              "       [1.00000000e+00, 0.00000000e+00, 2.50000000e+01, 3.20000000e+04,\n",
              "        0.00000000e+00],\n",
              "       [0.00000000e+00, 1.00000000e+00, 2.21111111e+01, 3.50000000e+04,\n",
              "        1.00000000e+00],\n",
              "       [1.00000000e+00, 0.00000000e+00, 2.70000000e+01, 3.70000000e+04,\n",
              "        0.00000000e+00]])"
            ]
          },
          "metadata": {
            "tags": []
          },
          "execution_count": 23
        }
      ]
    },
    {
      "cell_type": "markdown",
      "metadata": {
        "id": "CFwSH2_TQgUA",
        "colab_type": "text"
      },
      "source": [
        "## Encoding the dependent value"
      ]
    },
    {
      "cell_type": "code",
      "metadata": {
        "id": "VgwcXX_PQfi-",
        "colab_type": "code",
        "colab": {}
      },
      "source": [
        "labelencoder_y = LabelEncoder()"
      ],
      "execution_count": 0,
      "outputs": []
    },
    {
      "cell_type": "code",
      "metadata": {
        "id": "tGMMIsHpNfeb",
        "colab_type": "code",
        "colab": {}
      },
      "source": [
        "y = labelencoder_X.fit_transform(X[:, 0])"
      ],
      "execution_count": 0,
      "outputs": []
    },
    {
      "cell_type": "code",
      "metadata": {
        "id": "98S9mydzRA9n",
        "colab_type": "code",
        "outputId": "0623f494-54f5-480e-f585-aba56f238990",
        "colab": {
          "base_uri": "https://localhost:8080/",
          "height": 34
        }
      },
      "source": [
        "y"
      ],
      "execution_count": 26,
      "outputs": [
        {
          "output_type": "execute_result",
          "data": {
            "text/plain": [
              "array([0, 1, 0, 0, 1, 0, 0, 1, 0, 1])"
            ]
          },
          "metadata": {
            "tags": []
          },
          "execution_count": 26
        }
      ]
    },
    {
      "cell_type": "markdown",
      "metadata": {
        "id": "WgqwtmOORJeu",
        "colab_type": "text"
      },
      "source": [
        "## Split the Training and Test Data\n"
      ]
    },
    {
      "cell_type": "code",
      "metadata": {
        "id": "H_q3cMGfRBq5",
        "colab_type": "code",
        "colab": {}
      },
      "source": [
        "from sklearn.model_selection import train_test_split\n",
        "X_train, X_test, y_train, y_test = train_test_split(X, y, test_size =.20,random_state=100)"
      ],
      "execution_count": 0,
      "outputs": []
    },
    {
      "cell_type": "markdown",
      "metadata": {
        "id": "KksGBYlCRN8u",
        "colab_type": "text"
      },
      "source": [
        "## Feature Scaling"
      ]
    },
    {
      "cell_type": "code",
      "metadata": {
        "id": "P9umhM2wRH-J",
        "colab_type": "code",
        "colab": {}
      },
      "source": [
        "from sklearn.preprocessing import StandardScaler\n",
        "sc = StandardScaler()\n",
        "X_train = sc.fit_transform(X_train)\n",
        "X_test = sc.transform(X_test)"
      ],
      "execution_count": 0,
      "outputs": []
    },
    {
      "cell_type": "markdown",
      "metadata": {
        "id": "PoV0iansRU97",
        "colab_type": "text"
      },
      "source": [
        "## Build a Classification Model"
      ]
    },
    {
      "cell_type": "code",
      "metadata": {
        "id": "I902XNqbRQg5",
        "colab_type": "code",
        "outputId": "4465aaf3-4f28-4505-99db-78f59d7f7dec",
        "colab": {
          "base_uri": "https://localhost:8080/",
          "height": 68
        }
      },
      "source": [
        "from sklearn.neighbors import KNeighborsClassifier\n",
        "# minkowski is for ecledian distance\n",
        "classifier = KNeighborsClassifier(n_neighbors = 5, metric = 'minkowski', p = 2)\n",
        "classifier.fit(X_train, y_train)"
      ],
      "execution_count": 29,
      "outputs": [
        {
          "output_type": "execute_result",
          "data": {
            "text/plain": [
              "KNeighborsClassifier(algorithm='auto', leaf_size=30, metric='minkowski',\n",
              "                     metric_params=None, n_jobs=None, n_neighbors=5, p=2,\n",
              "                     weights='uniform')"
            ]
          },
          "metadata": {
            "tags": []
          },
          "execution_count": 29
        }
      ]
    },
    {
      "cell_type": "markdown",
      "metadata": {
        "id": "5_pA_skmRgXy",
        "colab_type": "text"
      },
      "source": [
        "## Evaluate the Model"
      ]
    },
    {
      "cell_type": "code",
      "metadata": {
        "id": "-6W3TzMwRUVz",
        "colab_type": "code",
        "colab": {}
      },
      "source": [
        "y_pred = classifier.predict(X_test)"
      ],
      "execution_count": 0,
      "outputs": []
    },
    {
      "cell_type": "code",
      "metadata": {
        "id": "NjHsOn_3Rl9T",
        "colab_type": "code",
        "colab": {}
      },
      "source": [
        "from sklearn.metrics import confusion_matrix, accuracy_score\n"
      ],
      "execution_count": 0,
      "outputs": []
    },
    {
      "cell_type": "code",
      "metadata": {
        "id": "-oKXaDYWRdhN",
        "colab_type": "code",
        "outputId": "bac8ad7d-90f2-4759-a106-1e533c85804e",
        "colab": {
          "base_uri": "https://localhost:8080/",
          "height": 51
        }
      },
      "source": [
        "cm = confusion_matrix(y_test, y_pred)\n",
        "cm\n"
      ],
      "execution_count": 32,
      "outputs": [
        {
          "output_type": "execute_result",
          "data": {
            "text/plain": [
              "array([[1, 0],\n",
              "       [0, 1]])"
            ]
          },
          "metadata": {
            "tags": []
          },
          "execution_count": 32
        }
      ]
    },
    {
      "cell_type": "code",
      "metadata": {
        "id": "qFqpqf3XRoqC",
        "colab_type": "code",
        "outputId": "7b7504b1-6fdf-445a-db97-0ae2248abb57",
        "colab": {
          "base_uri": "https://localhost:8080/",
          "height": 34
        }
      },
      "source": [
        "accuracy_score(y_test,y_pred)"
      ],
      "execution_count": 33,
      "outputs": [
        {
          "output_type": "execute_result",
          "data": {
            "text/plain": [
              "1.0"
            ]
          },
          "metadata": {
            "tags": []
          },
          "execution_count": 33
        }
      ]
    },
    {
      "cell_type": "code",
      "metadata": {
        "id": "ojZkdP-zS4U6",
        "colab_type": "code",
        "colab": {}
      },
      "source": [
        ""
      ],
      "execution_count": 0,
      "outputs": []
    }
  ]
}