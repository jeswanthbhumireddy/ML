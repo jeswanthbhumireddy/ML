{
  "nbformat": 4,
  "nbformat_minor": 0,
  "metadata": {
    "colab": {
      "name": "K_Means_Clustering.ipynb",
      "version": "0.3.2",
      "provenance": [],
      "collapsed_sections": [],
      "include_colab_link": true
    },
    "kernelspec": {
      "name": "python3",
      "display_name": "Python 3"
    }
  },
  "cells": [
    {
      "cell_type": "markdown",
      "metadata": {
        "id": "view-in-github",
        "colab_type": "text"
      },
      "source": [
        "<a href=\"https://colab.research.google.com/github/futurexskill/ai/blob/master/K_Means_Clustering.ipynb\" target=\"_parent\"><img src=\"https://colab.research.google.com/assets/colab-badge.svg\" alt=\"Open In Colab\"/></a>"
      ]
    },
    {
      "cell_type": "markdown",
      "metadata": {
        "id": "HaiYdQJeFpsL",
        "colab_type": "text"
      },
      "source": [
        "## Import the libraries"
      ]
    },
    {
      "cell_type": "code",
      "metadata": {
        "id": "j5naUEtjU9OD",
        "colab_type": "code",
        "colab": {}
      },
      "source": [
        "import numpy as np\n",
        "import matplotlib.pyplot as plt\n",
        "import pandas as pd"
      ],
      "execution_count": 0,
      "outputs": []
    },
    {
      "cell_type": "markdown",
      "metadata": {
        "id": "rq2wegR-FxG0",
        "colab_type": "text"
      },
      "source": [
        "## Read the dataset"
      ]
    },
    {
      "cell_type": "code",
      "metadata": {
        "id": "ALjSDEl8VLT8",
        "colab_type": "code",
        "colab": {}
      },
      "source": [
        "dataset = pd.read_csv('https://raw.githubusercontent.com/futurexskill/ai/master/ageincome.csv')"
      ],
      "execution_count": 0,
      "outputs": []
    },
    {
      "cell_type": "markdown",
      "metadata": {
        "id": "rn_lJPyfF26k",
        "colab_type": "text"
      },
      "source": [
        "## Read the features\n",
        "\n",
        "All values are features. There is no dependent variable in unsupoervised learning"
      ]
    },
    {
      "cell_type": "code",
      "metadata": {
        "id": "re3X_9h2VNOt",
        "colab_type": "code",
        "outputId": "befe985a-8978-40b0-a1ac-88837515ae2e",
        "colab": {
          "base_uri": "https://localhost:8080/",
          "height": 136
        }
      },
      "source": [
        "X = dataset.iloc[:, :].values\n",
        "X"
      ],
      "execution_count": 3,
      "outputs": [
        {
          "output_type": "execute_result",
          "data": {
            "text/plain": [
              "array([[   20, 25000],\n",
              "       [   21, 30000],\n",
              "       [   22, 35000],\n",
              "       ...,\n",
              "       [   69, 30000],\n",
              "       [   70, 34000],\n",
              "       [   20, 32000]])"
            ]
          },
          "metadata": {
            "tags": []
          },
          "execution_count": 3
        }
      ]
    },
    {
      "cell_type": "markdown",
      "metadata": {
        "id": "ZGN6dcP3GBb0",
        "colab_type": "text"
      },
      "source": [
        "## Import KMeans from Scikit-learn libraries"
      ]
    },
    {
      "cell_type": "code",
      "metadata": {
        "id": "3E5oGls8Vuzt",
        "colab_type": "code",
        "colab": {}
      },
      "source": [
        "from sklearn.cluster import KMeans"
      ],
      "execution_count": 0,
      "outputs": []
    },
    {
      "cell_type": "markdown",
      "metadata": {
        "id": "1mDswZ6JGGxq",
        "colab_type": "text"
      },
      "source": [
        "## Create an empty List to store WCSS values"
      ]
    },
    {
      "cell_type": "code",
      "metadata": {
        "id": "uEFscuiPVw5p",
        "colab_type": "code",
        "colab": {}
      },
      "source": [
        "wcss = []"
      ],
      "execution_count": 0,
      "outputs": []
    },
    {
      "cell_type": "markdown",
      "metadata": {
        "id": "b-yqoMrlGMkK",
        "colab_type": "text"
      },
      "source": [
        "## For number of cluster 1 to 10 calculate WCSS value\n",
        "\n",
        "n_clusters : int, optional, default: 8\n",
        "The number of clusters to form as well as the number of centroids to generate.\n",
        "\n",
        "\n",
        "init : {‘k-means++’, ‘random’ or an ndarray}\n",
        "Method for initialization, defaults to ‘k-means++’:\n",
        "\n",
        "\n",
        "max_iter : int, default: 300\n",
        "Maximum number of iterations of the k-means algorithm for a single run.\n",
        "\n",
        "\n",
        "n_init : int, default: 10\n",
        "Number of time the k-means algorithm will be run with different centroid seeds. The final results will be the best output of n_init consecutive runs in terms of inertia."
      ]
    },
    {
      "cell_type": "code",
      "metadata": {
        "id": "FfbQ0cfyVyJI",
        "colab_type": "code",
        "colab": {}
      },
      "source": [
        "for i in range(1, 11):\n",
        "    kmeans = KMeans(n_clusters = i, init = 'k-means++',max_iter=300,n_init=10 ,random_state = 42)\n",
        "    # feed the data\n",
        "    kmeans.fit(X)\n",
        "    # kmeans.inertia_ gives the wcss\n",
        "    wcss.append(kmeans.inertia_)"
      ],
      "execution_count": 0,
      "outputs": []
    },
    {
      "cell_type": "code",
      "metadata": {
        "id": "-8ntbIGMg5Ku",
        "colab_type": "code",
        "outputId": "ef1a1835-db22-4344-9590-3cfe0d2c4f2a",
        "colab": {
          "base_uri": "https://localhost:8080/",
          "height": 187
        }
      },
      "source": [
        "wcss"
      ],
      "execution_count": 7,
      "outputs": [
        {
          "output_type": "execute_result",
          "data": {
            "text/plain": [
              "[6161115776.969697,\n",
              " 1530829452.03977,\n",
              " 494456614.44693625,\n",
              " 257093944.4428153,\n",
              " 109330749.4793907,\n",
              " 41991557.68808635,\n",
              " 19591356.08808635,\n",
              " 4509350.259232955,\n",
              " 145707.7421875,\n",
              " 119660.24107142858]"
            ]
          },
          "metadata": {
            "tags": []
          },
          "execution_count": 7
        }
      ]
    },
    {
      "cell_type": "markdown",
      "metadata": {
        "id": "MkjajN_THZKd",
        "colab_type": "text"
      },
      "source": [
        "## Plot WCSS and number of clusters"
      ]
    },
    {
      "cell_type": "code",
      "metadata": {
        "id": "WXgH6r2IVz2T",
        "colab_type": "code",
        "outputId": "17076a19-a896-48d4-cdd0-5faadd7091e0",
        "colab": {
          "base_uri": "https://localhost:8080/",
          "height": 295
        }
      },
      "source": [
        "plt.plot(range(1, 11), wcss)\n",
        "plt.title('Deriving optimal number of clusters')\n",
        "plt.xlabel('Number of clusters')\n",
        "plt.ylabel('WCSS')\n",
        "plt.show()"
      ],
      "execution_count": 8,
      "outputs": [
        {
          "output_type": "display_data",
          "data": {
            "image/png": "[encoded data removed]",
            "text/plain": [
              "<Figure size 432x288 with 1 Axes>"
            ]
          },
          "metadata": {
            "tags": []
          }
        }
      ]
    },
    {
      "cell_type": "markdown",
      "metadata": {
        "id": "jL0CrwsdFnH5",
        "colab_type": "text"
      },
      "source": [
        ""
      ]
    },
    {
      "cell_type": "markdown",
      "metadata": {
        "id": "FW68YycpHoJ7",
        "colab_type": "text"
      },
      "source": [
        "## Create KMeans class with 3 clusters"
      ]
    },
    {
      "cell_type": "code",
      "metadata": {
        "id": "G5bytWxVV2zO",
        "colab_type": "code",
        "colab": {}
      },
      "source": [
        "kmeans = KMeans(n_clusters = 3, init = 'k-means++', random_state = 42)\n"
      ],
      "execution_count": 0,
      "outputs": []
    },
    {
      "cell_type": "markdown",
      "metadata": {
        "id": "jySEo0tIHujs",
        "colab_type": "text"
      },
      "source": [
        "## Predict Cluster value for each data point\n",
        "\n",
        "0 - Cluster 1\n",
        "\n",
        "1 - Cluster 2\n",
        "\n",
        "2 - Cluster 3"
      ]
    },
    {
      "cell_type": "code",
      "metadata": {
        "id": "BQDaeBZBV5hY",
        "colab_type": "code",
        "outputId": "d453e2ff-17dd-4cf7-b3a2-19044fef46f0",
        "colab": {
          "base_uri": "https://localhost:8080/",
          "height": 442
        }
      },
      "source": [
        "y_kmeans = kmeans.fit_predict(X)\n",
        "y_kmeans"
      ],
      "execution_count": 10,
      "outputs": [
        {
          "output_type": "execute_result",
          "data": {
            "text/plain": [
              "array([2, 0, 1, 0, 2, 2, 0, 1, 0, 2, 1, 2, 0, 1, 0, 2, 2, 0, 1, 0, 2, 1,\n",
              "       2, 0, 1, 0, 2, 2, 0, 1, 0, 2, 1, 2, 0, 1, 0, 2, 2, 0, 1, 0, 2, 1,\n",
              "       2, 0, 1, 0, 2, 2, 0, 1, 0, 2, 1, 2, 0, 1, 0, 2, 2, 0, 1, 0, 2, 1,\n",
              "       2, 1, 2, 0, 1, 0, 2, 2, 0, 1, 0, 2, 1, 2, 0, 1, 0, 2, 2, 0, 1, 0,\n",
              "       2, 1, 2, 0, 1, 0, 2, 2, 0, 1, 0, 2, 1, 2, 0, 1, 0, 2, 2, 0, 1, 0,\n",
              "       2, 1, 2, 0, 1, 0, 2, 2, 0, 1, 0, 2, 1, 2, 0, 1, 0, 2, 2, 0, 1, 0,\n",
              "       2, 0, 1, 0, 2, 2, 0, 1, 0, 2, 1, 2, 0, 1, 0, 2, 2, 0, 1, 0, 2, 1,\n",
              "       2, 0, 1, 0, 2, 2, 0, 1, 0, 2, 1, 2, 0, 1, 0, 2, 2, 0, 1, 0, 2, 1,\n",
              "       2, 0, 1, 0, 2, 2, 0, 1, 0, 2, 1, 2, 0, 1, 0, 2, 2, 0, 1, 0, 2, 1,\n",
              "       2, 1, 2, 0, 1, 0, 2, 2, 0, 1, 0, 2, 1, 2, 0, 1, 0, 2, 2, 0, 1, 0,\n",
              "       2, 1, 2, 0, 1, 0, 2, 2, 0, 1, 0, 2, 1, 2, 0, 1, 0, 2, 2, 0, 1, 0,\n",
              "       2, 1, 2, 0, 1, 0, 2, 2, 0, 1, 0, 2, 1, 2, 0, 1, 0, 2, 2, 0, 1, 0,\n",
              "       2, 0, 1, 0, 0, 2, 0, 1, 0, 0, 2, 2, 0, 1, 0, 0, 2, 0, 1, 0, 2, 2,\n",
              "       2, 0, 1, 0, 2, 2, 0, 1, 0, 2, 2, 2, 0, 1, 0, 2, 2, 0, 1, 0, 2, 2,\n",
              "       2, 0, 1, 0, 2, 2, 0, 1, 0, 2, 2, 2, 0, 1, 0, 2, 2, 0, 1, 0, 2, 2,\n",
              "       2, 1, 2, 0, 1, 0, 2, 2, 0, 1, 0, 2, 1, 2, 0, 1, 0, 2, 2, 0, 1, 0,\n",
              "       2, 1, 2, 0, 1, 0, 2, 2, 0, 1, 0, 2, 1, 2, 0, 1, 0, 2, 2, 0, 1, 0,\n",
              "       2, 1, 2, 0, 1, 0, 2, 2, 0, 1, 0, 2, 1, 2, 0, 1, 0, 2, 2, 0, 1, 0,\n",
              "       2, 0, 1, 0, 2, 2, 0, 1, 0, 2, 1, 2, 0, 1, 0, 2, 2, 0, 1, 0, 2, 1,\n",
              "       2, 0, 1, 0, 2, 2, 0, 1, 0, 2, 1, 2, 0, 1, 0, 2, 2, 0, 1, 0, 2, 1,\n",
              "       2, 0, 1, 0, 2, 2, 0, 1, 0, 2, 1, 2, 0, 1, 0, 2, 2, 0, 1, 0, 2, 1,\n",
              "       2, 1, 2, 0, 1, 0, 2, 2, 0, 1, 0, 2, 1, 2, 0, 1, 0, 2, 2, 0, 1, 0,\n",
              "       2, 1, 2, 0, 1, 0, 2, 0, 0, 1, 0, 0, 1, 0, 0, 1, 0, 0, 0, 0, 1, 0,\n",
              "       0, 1, 0, 0, 1, 0, 0, 0, 0, 1, 0, 0, 1, 0, 0, 1, 0, 0, 0, 0, 1, 0],\n",
              "      dtype=int32)"
            ]
          },
          "metadata": {
            "tags": []
          },
          "execution_count": 10
        }
      ]
    },
    {
      "cell_type": "markdown",
      "metadata": {
        "id": "yj-Qql8fIKry",
        "colab_type": "text"
      },
      "source": [
        "## Assign color to each cluster and plot"
      ]
    },
    {
      "cell_type": "code",
      "metadata": {
        "id": "bh9rYWQhV7zW",
        "colab_type": "code",
        "outputId": "58bcd4d7-c5fe-47ce-d78d-0f28d05645f1",
        "colab": {
          "base_uri": "https://localhost:8080/",
          "height": 300
        }
      },
      "source": [
        "plt.xlabel('Age')\n",
        "plt.ylabel('Salary')\n",
        "plt.scatter(X[y_kmeans == 0, 0], X[y_kmeans == 0, 1], s = 100, c = 'orange')\n",
        "plt.scatter(X[y_kmeans == 1, 0], X[y_kmeans == 1, 1], s = 100, c = 'black')\n",
        "plt.scatter(X[y_kmeans == 2, 0], X[y_kmeans == 2, 1], s = 100, c = 'green')\n"
      ],
      "execution_count": 11,
      "outputs": [
        {
          "output_type": "execute_result",
          "data": {
            "text/plain": [
              "<matplotlib.collections.PathCollection at 0x7f7a919e6c88>"
            ]
          },
          "metadata": {
            "tags": []
          },
          "execution_count": 11
        },
        {
          "output_type": "display_data",
          "data": {
            "image/png": "[encoded data removed]",
            "text/plain": [
              "<Figure size 432x288 with 1 Axes>"
            ]
          },
          "metadata": {
            "tags": []
          }
        }
      ]
    },
    {
      "cell_type": "code",
      "metadata": {
        "id": "W0cFcZe3V9ta",
        "colab_type": "code",
        "colab": {}
      },
      "source": [
        ""
      ],
      "execution_count": 0,
      "outputs": []
    }
  ]
}