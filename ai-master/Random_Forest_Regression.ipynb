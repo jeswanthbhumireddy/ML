{
  "nbformat": 4,
  "nbformat_minor": 0,
  "metadata": {
    "colab": {
      "name": "Random_Forest_Regression.ipynb",
      "version": "0.3.2",
      "provenance": [],
      "collapsed_sections": [],
      "include_colab_link": true
    },
    "kernelspec": {
      "name": "python3",
      "display_name": "Python 3"
    }
  },
  "cells": [
    {
      "cell_type": "markdown",
      "metadata": {
        "id": "view-in-github",
        "colab_type": "text"
      },
      "source": [
        "<a href=\"https://colab.research.google.com/github/futurexskill/ai/blob/master/Random_Forest_Regression.ipynb\" target=\"_parent\"><img src=\"https://colab.research.google.com/assets/colab-badge.svg\" alt=\"Open In Colab\"/></a>"
      ]
    },
    {
      "cell_type": "markdown",
      "metadata": {
        "id": "x-OXZkMolqdI",
        "colab_type": "text"
      },
      "source": [
        "## Random Forest Regression  "
      ]
    },
    {
      "cell_type": "markdown",
      "metadata": {
        "id": "OjJVqL78d3ay",
        "colab_type": "text"
      },
      "source": [
        "## Import the libraries"
      ]
    },
    {
      "cell_type": "code",
      "metadata": {
        "id": "7nD_-mDQGcXG",
        "colab_type": "code",
        "colab": {}
      },
      "source": [
        "import numpy as np\n",
        "import matplotlib.pyplot as plt\n",
        "import pandas as pd\n"
      ],
      "execution_count": 0,
      "outputs": []
    },
    {
      "cell_type": "markdown",
      "metadata": {
        "id": "FS2CJ_tdd66y",
        "colab_type": "text"
      },
      "source": [
        "## Read the dataset and check sample records"
      ]
    },
    {
      "cell_type": "code",
      "metadata": {
        "id": "iC-KNFArL11E",
        "colab_type": "code",
        "outputId": "c603bafe-5fb4-4fc1-bedc-1d43c0a2dd44",
        "colab": {
          "base_uri": "https://localhost:8080/",
          "height": 204
        }
      },
      "source": [
        "dataset = pd.read_csv('https://raw.githubusercontent.com/futurexskill/ai/master/automilespergallon.csv')\n",
        "dataset.head()"
      ],
      "execution_count": 2,
      "outputs": [
        {
          "output_type": "execute_result",
          "data": {
            "text/html": [
              "<div>\n",
              "<style scoped>\n",
              "    .dataframe tbody tr th:only-of-type {\n",
              "        vertical-align: middle;\n",
              "    }\n",
              "\n",
              "    .dataframe tbody tr th {\n",
              "        vertical-align: top;\n",
              "    }\n",
              "\n",
              "    .dataframe thead th {\n",
              "        text-align: right;\n",
              "    }\n",
              "</style>\n",
              "<table border=\"1\" class=\"dataframe\">\n",
              "  <thead>\n",
              "    <tr style=\"text-align: right;\">\n",
              "      <th></th>\n",
              "      <th>car name</th>\n",
              "      <th>displacement</th>\n",
              "      <th>horsepower</th>\n",
              "      <th>weight</th>\n",
              "      <th>acceleration</th>\n",
              "      <th>milespergallon</th>\n",
              "    </tr>\n",
              "  </thead>\n",
              "  <tbody>\n",
              "    <tr>\n",
              "      <th>0</th>\n",
              "      <td>chevrolet chevelle malibu</td>\n",
              "      <td>307.0</td>\n",
              "      <td>130</td>\n",
              "      <td>3504</td>\n",
              "      <td>12.0</td>\n",
              "      <td>18.0</td>\n",
              "    </tr>\n",
              "    <tr>\n",
              "      <th>1</th>\n",
              "      <td>buick skylark 320</td>\n",
              "      <td>350.0</td>\n",
              "      <td>165</td>\n",
              "      <td>3693</td>\n",
              "      <td>11.5</td>\n",
              "      <td>15.0</td>\n",
              "    </tr>\n",
              "    <tr>\n",
              "      <th>2</th>\n",
              "      <td>plymouth satellite</td>\n",
              "      <td>318.0</td>\n",
              "      <td>150</td>\n",
              "      <td>3436</td>\n",
              "      <td>11.0</td>\n",
              "      <td>18.0</td>\n",
              "    </tr>\n",
              "    <tr>\n",
              "      <th>3</th>\n",
              "      <td>amc rebel sst</td>\n",
              "      <td>304.0</td>\n",
              "      <td>150</td>\n",
              "      <td>3433</td>\n",
              "      <td>12.0</td>\n",
              "      <td>16.0</td>\n",
              "    </tr>\n",
              "    <tr>\n",
              "      <th>4</th>\n",
              "      <td>ford torino</td>\n",
              "      <td>302.0</td>\n",
              "      <td>140</td>\n",
              "      <td>3449</td>\n",
              "      <td>10.5</td>\n",
              "      <td>17.0</td>\n",
              "    </tr>\n",
              "  </tbody>\n",
              "</table>\n",
              "</div>"
            ],
            "text/plain": [
              "                    car name  displacement  ...  acceleration  milespergallon\n",
              "0  chevrolet chevelle malibu         307.0  ...          12.0            18.0\n",
              "1          buick skylark 320         350.0  ...          11.5            15.0\n",
              "2         plymouth satellite         318.0  ...          11.0            18.0\n",
              "3              amc rebel sst         304.0  ...          12.0            16.0\n",
              "4                ford torino         302.0  ...          10.5            17.0\n",
              "\n",
              "[5 rows x 6 columns]"
            ]
          },
          "metadata": {
            "tags": []
          },
          "execution_count": 2
        }
      ]
    },
    {
      "cell_type": "markdown",
      "metadata": {
        "id": "HP-aGWibd-WU",
        "colab_type": "text"
      },
      "source": [
        "## Get Dataset information"
      ]
    },
    {
      "cell_type": "code",
      "metadata": {
        "id": "Qb6veIcML3aL",
        "colab_type": "code",
        "outputId": "cf531cc6-1785-4540-f003-50cbf53f6a14",
        "colab": {
          "base_uri": "https://localhost:8080/",
          "height": 221
        }
      },
      "source": [
        "print(dataset.info())"
      ],
      "execution_count": 3,
      "outputs": [
        {
          "output_type": "stream",
          "text": [
            "<class 'pandas.core.frame.DataFrame'>\n",
            "RangeIndex: 392 entries, 0 to 391\n",
            "Data columns (total 6 columns):\n",
            "car name          392 non-null object\n",
            "displacement      392 non-null float64\n",
            "horsepower        392 non-null int64\n",
            "weight            392 non-null int64\n",
            "acceleration      392 non-null float64\n",
            "milespergallon    392 non-null float64\n",
            "dtypes: float64(3), int64(2), object(1)\n",
            "memory usage: 18.5+ KB\n",
            "None\n"
          ],
          "name": "stdout"
        }
      ]
    },
    {
      "cell_type": "markdown",
      "metadata": {
        "id": "ny7Q2CIAeH1k",
        "colab_type": "text"
      },
      "source": [
        "## Separate out the independent and dependent variables\n"
      ]
    },
    {
      "cell_type": "markdown",
      "metadata": {
        "id": "cnKvexs0eLAD",
        "colab_type": "text"
      },
      "source": [
        "### X will contain displacement, horsepower,\tweight,\tacceleration\t"
      ]
    },
    {
      "cell_type": "code",
      "metadata": {
        "id": "zYXZSos3L9r2",
        "colab_type": "code",
        "colab": {}
      },
      "source": [
        "X = dataset.iloc[:, 1:-1].values"
      ],
      "execution_count": 0,
      "outputs": []
    },
    {
      "cell_type": "code",
      "metadata": {
        "id": "42LetWQvXlt8",
        "colab_type": "code",
        "outputId": "21908d67-b7ba-4ad7-88a3-ab3ee329fa50",
        "colab": {
          "base_uri": "https://localhost:8080/",
          "height": 34
        }
      },
      "source": [
        "X[0]"
      ],
      "execution_count": 5,
      "outputs": [
        {
          "output_type": "execute_result",
          "data": {
            "text/plain": [
              "array([ 307.,  130., 3504.,   12.])"
            ]
          },
          "metadata": {
            "tags": []
          },
          "execution_count": 5
        }
      ]
    },
    {
      "cell_type": "markdown",
      "metadata": {
        "id": "jPymIpkAeTVb",
        "colab_type": "text"
      },
      "source": [
        "### y will contain milespergallon"
      ]
    },
    {
      "cell_type": "code",
      "metadata": {
        "id": "ugApyEAlMV90",
        "colab_type": "code",
        "colab": {}
      },
      "source": [
        "y = dataset.iloc[:, -1].values"
      ],
      "execution_count": 0,
      "outputs": []
    },
    {
      "cell_type": "markdown",
      "metadata": {
        "id": "cvXL4pElesDx",
        "colab_type": "text"
      },
      "source": [
        "## Exploratory Data Analysis using MatplotLib"
      ]
    },
    {
      "cell_type": "markdown",
      "metadata": {
        "id": "5XfCcfWdewTD",
        "colab_type": "text"
      },
      "source": [
        "### Plot displacement vs milespergallon"
      ]
    },
    {
      "cell_type": "code",
      "metadata": {
        "id": "19byAcyXMXrC",
        "colab_type": "code",
        "outputId": "ff205415-c2d1-402b-c861-ecbe7f6716de",
        "colab": {
          "base_uri": "https://localhost:8080/",
          "height": 286
        }
      },
      "source": [
        "plt.scatter(X[:,0],y)\n"
      ],
      "execution_count": 7,
      "outputs": [
        {
          "output_type": "execute_result",
          "data": {
            "text/plain": [
              "<matplotlib.collections.PathCollection at 0x7fec78235a20>"
            ]
          },
          "metadata": {
            "tags": []
          },
          "execution_count": 7
        },
        {
          "output_type": "display_data",
          "data": {
            "image/png": "[encoded data removed]",
            "text/plain": [
              "<Figure size 432x288 with 1 Axes>"
            ]
          },
          "metadata": {
            "tags": []
          }
        }
      ]
    },
    {
      "cell_type": "markdown",
      "metadata": {
        "id": "W0bEZrexe6Ux",
        "colab_type": "text"
      },
      "source": [
        "### Plot horsepower vs milespergallon"
      ]
    },
    {
      "cell_type": "code",
      "metadata": {
        "id": "PMpS-pKpMrJv",
        "colab_type": "code",
        "outputId": "f31ec940-7fde-4807-f40f-56b88ff196d9",
        "colab": {
          "base_uri": "https://localhost:8080/",
          "height": 286
        }
      },
      "source": [
        "plt.scatter(X[:,1],y)\n"
      ],
      "execution_count": 8,
      "outputs": [
        {
          "output_type": "execute_result",
          "data": {
            "text/plain": [
              "<matplotlib.collections.PathCollection at 0x7fec7595e7b8>"
            ]
          },
          "metadata": {
            "tags": []
          },
          "execution_count": 8
        },
        {
          "output_type": "display_data",
          "data": {
            "image/png": "[encoded data removed]",
            "text/plain": [
              "<Figure size 432x288 with 1 Axes>"
            ]
          },
          "metadata": {
            "tags": []
          }
        }
      ]
    },
    {
      "cell_type": "markdown",
      "metadata": {
        "id": "zIYH-9w2fBs8",
        "colab_type": "text"
      },
      "source": [
        "### Plot weight vs milespergallon"
      ]
    },
    {
      "cell_type": "code",
      "metadata": {
        "id": "jm2IffslMz-P",
        "colab_type": "code",
        "outputId": "fd745640-45cf-44be-b2ed-ee527293bc3a",
        "colab": {
          "base_uri": "https://localhost:8080/",
          "height": 286
        }
      },
      "source": [
        "plt.scatter(X[:,2],y)\n"
      ],
      "execution_count": 9,
      "outputs": [
        {
          "output_type": "execute_result",
          "data": {
            "text/plain": [
              "<matplotlib.collections.PathCollection at 0x7fec75945c50>"
            ]
          },
          "metadata": {
            "tags": []
          },
          "execution_count": 9
        },
        {
          "output_type": "display_data",
          "data": {
            "image/png": "[encoded data removed]",
            "text/plain": [
              "<Figure size 432x288 with 1 Axes>"
            ]
          },
          "metadata": {
            "tags": []
          }
        }
      ]
    },
    {
      "cell_type": "markdown",
      "metadata": {
        "id": "LZ1aX0PmfF-T",
        "colab_type": "text"
      },
      "source": [
        "### Plot acceleration vs milespergallon\n",
        "\n"
      ]
    },
    {
      "cell_type": "code",
      "metadata": {
        "id": "yTF0ToZgM2aU",
        "colab_type": "code",
        "outputId": "1d030701-fc64-4d6b-dd97-2d2b0580d5c2",
        "colab": {
          "base_uri": "https://localhost:8080/",
          "height": 286
        }
      },
      "source": [
        "plt.scatter(X[:,3],y)\n"
      ],
      "execution_count": 10,
      "outputs": [
        {
          "output_type": "execute_result",
          "data": {
            "text/plain": [
              "<matplotlib.collections.PathCollection at 0x7fec758a8b70>"
            ]
          },
          "metadata": {
            "tags": []
          },
          "execution_count": 10
        },
        {
          "output_type": "display_data",
          "data": {
            "image/png": "[encoded data removed]",
            "text/plain": [
              "<Figure size 432x288 with 1 Axes>"
            ]
          },
          "metadata": {
            "tags": []
          }
        }
      ]
    },
    {
      "cell_type": "markdown",
      "metadata": {
        "id": "OsD7y1hHfR6j",
        "colab_type": "text"
      },
      "source": [
        "## Split the Training and Test Data"
      ]
    },
    {
      "cell_type": "code",
      "metadata": {
        "id": "xLfanS7mM3pB",
        "colab_type": "code",
        "colab": {}
      },
      "source": [
        "from sklearn.model_selection import train_test_split\n",
        "X_train, X_test, y_train, y_test = train_test_split(X, y, test_size = 0.2,random_state=0)"
      ],
      "execution_count": 0,
      "outputs": []
    },
    {
      "cell_type": "markdown",
      "metadata": {
        "id": "q3DJsGnKfU49",
        "colab_type": "text"
      },
      "source": [
        "## Build a Random Forest Regression model"
      ]
    },
    {
      "cell_type": "code",
      "metadata": {
        "id": "wmdy-_1MM6UH",
        "colab_type": "code",
        "colab": {}
      },
      "source": [
        "from sklearn.ensemble import RandomForestRegressor\n",
        "#n_estimators is the number of trees you want in the forest\n",
        "regressor = RandomForestRegressor(n_estimators = 10, random_state = 0)"
      ],
      "execution_count": 0,
      "outputs": []
    },
    {
      "cell_type": "markdown",
      "metadata": {
        "id": "zYMFrchAfa8i",
        "colab_type": "text"
      },
      "source": [
        "Train the model. This step is Machine Learning.  Machine is learning from training data"
      ]
    },
    {
      "cell_type": "code",
      "metadata": {
        "id": "eeep5HYCM76X",
        "colab_type": "code",
        "outputId": "b04f0edd-1d17-450a-a0d9-4032dce69828",
        "colab": {
          "base_uri": "https://localhost:8080/",
          "height": 136
        }
      },
      "source": [
        "regressor.fit(X_train, y_train)\n"
      ],
      "execution_count": 13,
      "outputs": [
        {
          "output_type": "execute_result",
          "data": {
            "text/plain": [
              "RandomForestRegressor(bootstrap=True, criterion='mse', max_depth=None,\n",
              "                      max_features='auto', max_leaf_nodes=None,\n",
              "                      min_impurity_decrease=0.0, min_impurity_split=None,\n",
              "                      min_samples_leaf=1, min_samples_split=2,\n",
              "                      min_weight_fraction_leaf=0.0, n_estimators=10,\n",
              "                      n_jobs=None, oob_score=False, random_state=0, verbose=0,\n",
              "                      warm_start=False)"
            ]
          },
          "metadata": {
            "tags": []
          },
          "execution_count": 13
        }
      ]
    },
    {
      "cell_type": "markdown",
      "metadata": {
        "id": "XvZF_rsyfog0",
        "colab_type": "text"
      },
      "source": [
        "## Evaluate the model"
      ]
    },
    {
      "cell_type": "code",
      "metadata": {
        "id": "c67sL0IYfnC7",
        "colab_type": "code",
        "outputId": "ca8433c5-d803-44e2-d2c3-0a2ae3080366",
        "colab": {
          "base_uri": "https://localhost:8080/",
          "height": 34
        }
      },
      "source": [
        "rsqaured = regressor.score(X_test, y_test)\n",
        "rsqaured"
      ],
      "execution_count": 14,
      "outputs": [
        {
          "output_type": "execute_result",
          "data": {
            "text/plain": [
              "0.7940929264451473"
            ]
          },
          "metadata": {
            "tags": []
          },
          "execution_count": 14
        }
      ]
    },
    {
      "cell_type": "markdown",
      "metadata": {
        "id": "AtfewIyBfYfW",
        "colab_type": "text"
      },
      "source": [
        "## Predict output for the test set"
      ]
    },
    {
      "cell_type": "code",
      "metadata": {
        "id": "MnYLaT-oNSVC",
        "colab_type": "code",
        "outputId": "e5473ed1-4f8e-4e1a-a9eb-21a09e40881c",
        "colab": {
          "base_uri": "https://localhost:8080/",
          "height": 170
        }
      },
      "source": [
        "y_pred = regressor.predict(X_test)\n",
        "y_pred\n"
      ],
      "execution_count": 15,
      "outputs": [
        {
          "output_type": "execute_result",
          "data": {
            "text/plain": [
              "array([29.6 , 25.5 , 13.4 , 38.35, 33.09, 19.24, 35.78, 28.34, 20.09,\n",
              "       25.8 , 34.73, 12.9 , 26.68, 13.35, 13.9 , 34.09, 26.08, 14.05,\n",
              "       26.7 , 27.64, 17.26, 16.95, 22.73, 20.29, 30.42, 14.2 , 25.44,\n",
              "       26.69, 18.8 , 15.12, 25.39, 25.88, 25.64, 31.  , 22.21, 25.35,\n",
              "       33.88, 15.1 , 15.3 , 14.3 , 16.74, 33.16, 26.34, 14.85, 30.96,\n",
              "       14.75, 27.02, 13.9 , 14.4 , 19.3 , 32.56, 15.83, 11.4 , 24.36,\n",
              "       28.5 , 25.4 , 22.69, 18.11, 33.62, 24.7 , 19.52, 30.36, 33.38,\n",
              "       15.1 , 33.91, 16.55, 15.35, 29.14, 28.44, 41.44, 34.82, 28.7 ,\n",
              "       18.95, 14.75, 19.54, 14.3 , 31.63, 16.86, 34.76])"
            ]
          },
          "metadata": {
            "tags": []
          },
          "execution_count": 15
        }
      ]
    },
    {
      "cell_type": "markdown",
      "metadata": {
        "id": "xyZmFME2gED9",
        "colab_type": "text"
      },
      "source": [
        "Compare with actual data"
      ]
    },
    {
      "cell_type": "code",
      "metadata": {
        "id": "EJMwFglKNUio",
        "colab_type": "code",
        "outputId": "17ed5c30-2acb-4d00-9aa7-e3e0e5baaba3",
        "colab": {
          "base_uri": "https://localhost:8080/",
          "height": 153
        }
      },
      "source": [
        "y_test"
      ],
      "execution_count": 16,
      "outputs": [
        {
          "output_type": "execute_result",
          "data": {
            "text/plain": [
              "array([28. , 22.3, 12. , 38. , 33.8, 19.4, 38.1, 30. , 20. , 20. , 27. ,\n",
              "       16.5, 24.5, 11. , 16.9, 33.7, 21.6, 14. , 26. , 28.4, 13. , 16. ,\n",
              "       20. , 25. , 41.5, 14. , 25.8, 25.1, 20. , 17. , 20. , 31.6, 22. ,\n",
              "       26. , 21. , 29.8, 31. , 13. , 16. , 14. , 15. , 44.6, 31.3, 16. ,\n",
              "       29. , 16. , 29. , 13. , 17.5, 18. , 26. , 15. , 10. , 22. , 34.3,\n",
              "       30.7, 20.2, 22. , 33. , 21. , 22. , 24. , 31.5, 15. , 26. , 16. ,\n",
              "       14. , 27. , 25. , 40.8, 36.1, 30. , 17.6, 15.5, 23. , 14. , 26. ,\n",
              "       19.2, 31.5])"
            ]
          },
          "metadata": {
            "tags": []
          },
          "execution_count": 16
        }
      ]
    },
    {
      "cell_type": "markdown",
      "metadata": {
        "id": "WORD5kfjgN6h",
        "colab_type": "text"
      },
      "source": [
        "## Predict for new data "
      ]
    },
    {
      "cell_type": "code",
      "metadata": {
        "id": "dwbILeNiNcAj",
        "colab_type": "code",
        "outputId": "1042c2d0-fcc4-4826-cc4c-5b3b6a7d1dd9",
        "colab": {
          "base_uri": "https://localhost:8080/",
          "height": 34
        }
      },
      "source": [
        "y_new_pred_sample = regressor.predict(np.array([[200,100,3000,15]]))\n",
        "\n",
        "y_new_pred_sample"
      ],
      "execution_count": 17,
      "outputs": [
        {
          "output_type": "execute_result",
          "data": {
            "text/plain": [
              "array([19.6])"
            ]
          },
          "metadata": {
            "tags": []
          },
          "execution_count": 17
        }
      ]
    },
    {
      "cell_type": "code",
      "metadata": {
        "id": "QU0bEKInbeo3",
        "colab_type": "code",
        "colab": {}
      },
      "source": [
        ""
      ],
      "execution_count": 0,
      "outputs": []
    }
  ]
}