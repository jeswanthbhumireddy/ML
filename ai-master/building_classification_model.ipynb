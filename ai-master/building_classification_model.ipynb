{
  "nbformat": 4,
  "nbformat_minor": 0,
  "metadata": {
    "colab": {
      "name": "building_classification_model.ipynb",
      "version": "0.3.2",
      "provenance": [],
      "collapsed_sections": [],
      "include_colab_link": true
    },
    "kernelspec": {
      "name": "python3",
      "display_name": "Python 3"
    }
  },
  "cells": [
    {
      "cell_type": "markdown",
      "metadata": {
        "id": "view-in-github",
        "colab_type": "text"
      },
      "source": [
        "<a href=\"https://colab.research.google.com/github/futurexskill/ai/blob/master/building_classification_model.ipynb\" target=\"_parent\"><img src=\"https://colab.research.google.com/assets/colab-badge.svg\" alt=\"Open In Colab\"/></a>"
      ]
    },
    {
      "cell_type": "markdown",
      "metadata": {
        "id": "VqY0nzzyZ1G-",
        "colab_type": "text"
      },
      "source": [
        "# Building & Deploying a Machine Learning Classification model  "
      ]
    },
    {
      "cell_type": "markdown",
      "metadata": {
        "id": "5oYFJocj7Dui",
        "colab_type": "text"
      },
      "source": [
        "## Import the libraries"
      ]
    },
    {
      "cell_type": "code",
      "metadata": {
        "id": "RNqTXi1V6wLe",
        "colab_type": "code",
        "colab": {}
      },
      "source": [
        "import numpy as np\n",
        "import matplotlib.pyplot as plt\n",
        "import pandas as pd\n"
      ],
      "execution_count": 0,
      "outputs": []
    },
    {
      "cell_type": "markdown",
      "metadata": {
        "id": "AkPytBxrZwhD",
        "colab_type": "text"
      },
      "source": [
        "## Read the dataset"
      ]
    },
    {
      "cell_type": "code",
      "metadata": {
        "id": "W2EkULoy5Q5l",
        "colab_type": "code",
        "colab": {}
      },
      "source": [
        "dataset = pd.read_csv('https://raw.githubusercontent.com/futurexskill/ai/master/storepurchasedata.csv')"
      ],
      "execution_count": 0,
      "outputs": []
    },
    {
      "cell_type": "markdown",
      "metadata": {
        "id": "MJr8LxGbaJAQ",
        "colab_type": "text"
      },
      "source": [
        "## Sample records "
      ]
    },
    {
      "cell_type": "code",
      "metadata": {
        "id": "yx6vrsKuaGFf",
        "colab_type": "code",
        "outputId": "0dbef77b-7247-4392-920f-3a2cb65aaea9",
        "colab": {
          "base_uri": "https://localhost:8080/",
          "height": 204
        }
      },
      "source": [
        "dataset.head(5)"
      ],
      "execution_count": 3,
      "outputs": [
        {
          "output_type": "execute_result",
          "data": {
            "text/html": [
              "<div>\n",
              "<style scoped>\n",
              "    .dataframe tbody tr th:only-of-type {\n",
              "        vertical-align: middle;\n",
              "    }\n",
              "\n",
              "    .dataframe tbody tr th {\n",
              "        vertical-align: top;\n",
              "    }\n",
              "\n",
              "    .dataframe thead th {\n",
              "        text-align: right;\n",
              "    }\n",
              "</style>\n",
              "<table border=\"1\" class=\"dataframe\">\n",
              "  <thead>\n",
              "    <tr style=\"text-align: right;\">\n",
              "      <th></th>\n",
              "      <th>Age</th>\n",
              "      <th>Salary</th>\n",
              "      <th>Purchased</th>\n",
              "    </tr>\n",
              "  </thead>\n",
              "  <tbody>\n",
              "    <tr>\n",
              "      <th>0</th>\n",
              "      <td>18</td>\n",
              "      <td>20000</td>\n",
              "      <td>0</td>\n",
              "    </tr>\n",
              "    <tr>\n",
              "      <th>1</th>\n",
              "      <td>19</td>\n",
              "      <td>22000</td>\n",
              "      <td>0</td>\n",
              "    </tr>\n",
              "    <tr>\n",
              "      <th>2</th>\n",
              "      <td>20</td>\n",
              "      <td>24000</td>\n",
              "      <td>0</td>\n",
              "    </tr>\n",
              "    <tr>\n",
              "      <th>3</th>\n",
              "      <td>21</td>\n",
              "      <td>28000</td>\n",
              "      <td>0</td>\n",
              "    </tr>\n",
              "    <tr>\n",
              "      <th>4</th>\n",
              "      <td>22</td>\n",
              "      <td>50000</td>\n",
              "      <td>1</td>\n",
              "    </tr>\n",
              "  </tbody>\n",
              "</table>\n",
              "</div>"
            ],
            "text/plain": [
              "   Age  Salary  Purchased\n",
              "0   18   20000          0\n",
              "1   19   22000          0\n",
              "2   20   24000          0\n",
              "3   21   28000          0\n",
              "4   22   50000          1"
            ]
          },
          "metadata": {
            "tags": []
          },
          "execution_count": 3
        }
      ]
    },
    {
      "cell_type": "markdown",
      "metadata": {
        "id": "SfUjbmdAZ99X",
        "colab_type": "text"
      },
      "source": [
        "## Get  dataset info"
      ]
    },
    {
      "cell_type": "code",
      "metadata": {
        "id": "O8Mrrkdj7REi",
        "colab_type": "code",
        "outputId": "d3c8cb7a-602c-4ac2-eb26-6003463e3547",
        "colab": {
          "base_uri": "https://localhost:8080/",
          "height": 153
        }
      },
      "source": [
        "dataset.info()"
      ],
      "execution_count": 4,
      "outputs": [
        {
          "output_type": "stream",
          "text": [
            "<class 'pandas.core.frame.DataFrame'>\n",
            "RangeIndex: 40 entries, 0 to 39\n",
            "Data columns (total 3 columns):\n",
            "Age          40 non-null int64\n",
            "Salary       40 non-null int64\n",
            "Purchased    40 non-null int64\n",
            "dtypes: int64(3)\n",
            "memory usage: 1.0 KB\n"
          ],
          "name": "stdout"
        }
      ]
    },
    {
      "cell_type": "markdown",
      "metadata": {
        "id": "evwLnb7hbub7",
        "colab_type": "text"
      },
      "source": [
        "## Get statistical info"
      ]
    },
    {
      "cell_type": "code",
      "metadata": {
        "id": "7hH5wLYmaUEd",
        "colab_type": "code",
        "outputId": "6a4ab006-194f-48b9-beb7-db686f0fe6fb",
        "colab": {
          "base_uri": "https://localhost:8080/",
          "height": 297
        }
      },
      "source": [
        "dataset.describe()"
      ],
      "execution_count": 5,
      "outputs": [
        {
          "output_type": "execute_result",
          "data": {
            "text/html": [
              "<div>\n",
              "<style scoped>\n",
              "    .dataframe tbody tr th:only-of-type {\n",
              "        vertical-align: middle;\n",
              "    }\n",
              "\n",
              "    .dataframe tbody tr th {\n",
              "        vertical-align: top;\n",
              "    }\n",
              "\n",
              "    .dataframe thead th {\n",
              "        text-align: right;\n",
              "    }\n",
              "</style>\n",
              "<table border=\"1\" class=\"dataframe\">\n",
              "  <thead>\n",
              "    <tr style=\"text-align: right;\">\n",
              "      <th></th>\n",
              "      <th>Age</th>\n",
              "      <th>Salary</th>\n",
              "      <th>Purchased</th>\n",
              "    </tr>\n",
              "  </thead>\n",
              "  <tbody>\n",
              "    <tr>\n",
              "      <th>count</th>\n",
              "      <td>40.000000</td>\n",
              "      <td>40.000000</td>\n",
              "      <td>40.000000</td>\n",
              "    </tr>\n",
              "    <tr>\n",
              "      <th>mean</th>\n",
              "      <td>38.100000</td>\n",
              "      <td>49525.000000</td>\n",
              "      <td>0.550000</td>\n",
              "    </tr>\n",
              "    <tr>\n",
              "      <th>std</th>\n",
              "      <td>12.557151</td>\n",
              "      <td>19046.484971</td>\n",
              "      <td>0.503831</td>\n",
              "    </tr>\n",
              "    <tr>\n",
              "      <th>min</th>\n",
              "      <td>18.000000</td>\n",
              "      <td>20000.000000</td>\n",
              "      <td>0.000000</td>\n",
              "    </tr>\n",
              "    <tr>\n",
              "      <th>25%</th>\n",
              "      <td>27.750000</td>\n",
              "      <td>35000.000000</td>\n",
              "      <td>0.000000</td>\n",
              "    </tr>\n",
              "    <tr>\n",
              "      <th>50%</th>\n",
              "      <td>37.500000</td>\n",
              "      <td>48500.000000</td>\n",
              "      <td>1.000000</td>\n",
              "    </tr>\n",
              "    <tr>\n",
              "      <th>75%</th>\n",
              "      <td>47.250000</td>\n",
              "      <td>60000.000000</td>\n",
              "      <td>1.000000</td>\n",
              "    </tr>\n",
              "    <tr>\n",
              "      <th>max</th>\n",
              "      <td>60.000000</td>\n",
              "      <td>95000.000000</td>\n",
              "      <td>1.000000</td>\n",
              "    </tr>\n",
              "  </tbody>\n",
              "</table>\n",
              "</div>"
            ],
            "text/plain": [
              "             Age        Salary  Purchased\n",
              "count  40.000000     40.000000  40.000000\n",
              "mean   38.100000  49525.000000   0.550000\n",
              "std    12.557151  19046.484971   0.503831\n",
              "min    18.000000  20000.000000   0.000000\n",
              "25%    27.750000  35000.000000   0.000000\n",
              "50%    37.500000  48500.000000   1.000000\n",
              "75%    47.250000  60000.000000   1.000000\n",
              "max    60.000000  95000.000000   1.000000"
            ]
          },
          "metadata": {
            "tags": []
          },
          "execution_count": 5
        }
      ]
    },
    {
      "cell_type": "markdown",
      "metadata": {
        "id": "gZ9rseDDb3xn",
        "colab_type": "text"
      },
      "source": [
        "## Feature selection\n",
        "\n",
        "### Store the features (Age & Salary) in a NumPy array X "
      ]
    },
    {
      "cell_type": "code",
      "metadata": {
        "id": "Mv34Gk_d7LVl",
        "colab_type": "code",
        "outputId": "72532b1e-7bf5-4ef2-a026-a140f6351d04",
        "colab": {
          "base_uri": "https://localhost:8080/",
          "height": 697
        }
      },
      "source": [
        "X = dataset.iloc[:, :-1].values\n",
        "X"
      ],
      "execution_count": 6,
      "outputs": [
        {
          "output_type": "execute_result",
          "data": {
            "text/plain": [
              "array([[   18, 20000],\n",
              "       [   19, 22000],\n",
              "       [   20, 24000],\n",
              "       [   21, 28000],\n",
              "       [   22, 50000],\n",
              "       [   23, 35000],\n",
              "       [   24, 30000],\n",
              "       [   25, 32000],\n",
              "       [   26, 35000],\n",
              "       [   27, 37000],\n",
              "       [   28, 80000],\n",
              "       [   29, 40000],\n",
              "       [   30, 45000],\n",
              "       [   31, 50000],\n",
              "       [   32, 45000],\n",
              "       [   33, 47000],\n",
              "       [   34, 46000],\n",
              "       [   35, 56000],\n",
              "       [   36, 60000],\n",
              "       [   37, 23000],\n",
              "       [   38, 53000],\n",
              "       [   39, 30000],\n",
              "       [   40, 60000],\n",
              "       [   41, 63000],\n",
              "       [   42, 45000],\n",
              "       [   43, 52000],\n",
              "       [   44, 51000],\n",
              "       [   45, 60000],\n",
              "       [   46, 22000],\n",
              "       [   47, 55000],\n",
              "       [   48, 53000],\n",
              "       [   50, 45000],\n",
              "       [   52, 65000],\n",
              "       [   54, 78000],\n",
              "       [   55, 78000],\n",
              "       [   56, 45000],\n",
              "       [   57, 56000],\n",
              "       [   58, 80000],\n",
              "       [   59, 90000],\n",
              "       [   60, 95000]])"
            ]
          },
          "metadata": {
            "tags": []
          },
          "execution_count": 6
        }
      ]
    },
    {
      "cell_type": "markdown",
      "metadata": {
        "id": "qNyVu-sAcLTp",
        "colab_type": "text"
      },
      "source": [
        "## Store  the Dependent variaable in a NumPy Array"
      ]
    },
    {
      "cell_type": "code",
      "metadata": {
        "id": "R5asBAAS7NW2",
        "colab_type": "code",
        "outputId": "69fd6f13-8181-4a14-c5c9-8b250d594de9",
        "colab": {
          "base_uri": "https://localhost:8080/",
          "height": 51
        }
      },
      "source": [
        "y = dataset.iloc[:,-1].values\n",
        "y"
      ],
      "execution_count": 7,
      "outputs": [
        {
          "output_type": "execute_result",
          "data": {
            "text/plain": [
              "array([0, 0, 0, 0, 1, 0, 0, 1, 0, 0, 1, 0, 0, 0, 0, 0, 0, 1, 1, 0, 1, 0,\n",
              "       1, 1, 0, 1, 1, 1, 0, 1, 1, 1, 1, 1, 1, 1, 1, 1, 1, 1])"
            ]
          },
          "metadata": {
            "tags": []
          },
          "execution_count": 7
        }
      ]
    },
    {
      "cell_type": "markdown",
      "metadata": {
        "id": "n42BGjwWcWS6",
        "colab_type": "text"
      },
      "source": [
        "## Exploratory Data Analysis using MatplotLib"
      ]
    },
    {
      "cell_type": "markdown",
      "metadata": {
        "id": "wALrpNWQhRd7",
        "colab_type": "text"
      },
      "source": [
        "### Plot Purchased Vs Age"
      ]
    },
    {
      "cell_type": "code",
      "metadata": {
        "id": "iH2f45rs7P5n",
        "colab_type": "code",
        "outputId": "358125de-ac20-4302-d289-eda971bc1656",
        "colab": {
          "base_uri": "https://localhost:8080/",
          "height": 286
        }
      },
      "source": [
        "plt.scatter(X[:,0], y, color = 'blue')"
      ],
      "execution_count": 8,
      "outputs": [
        {
          "output_type": "execute_result",
          "data": {
            "text/plain": [
              "<matplotlib.collections.PathCollection at 0x7f4e81339ba8>"
            ]
          },
          "metadata": {
            "tags": []
          },
          "execution_count": 8
        },
        {
          "output_type": "display_data",
          "data": {
            "image/png": "[encoded data removed]",
            "text/plain": [
              "<Figure size 432x288 with 1 Axes>"
            ]
          },
          "metadata": {
            "tags": []
          }
        }
      ]
    },
    {
      "cell_type": "markdown",
      "metadata": {
        "id": "k-cYaMMOhZk-",
        "colab_type": "text"
      },
      "source": [
        "### Plot Purchased Vs Salary"
      ]
    },
    {
      "cell_type": "code",
      "metadata": {
        "id": "GstFfukc7W_n",
        "colab_type": "code",
        "outputId": "72fe432c-1daa-4ddc-fdab-2f84bd75c29a",
        "colab": {
          "base_uri": "https://localhost:8080/",
          "height": 286
        }
      },
      "source": [
        "plt.scatter(X[:,1], y, color = 'red')\n"
      ],
      "execution_count": 9,
      "outputs": [
        {
          "output_type": "execute_result",
          "data": {
            "text/plain": [
              "<matplotlib.collections.PathCollection at 0x7f4e7eac6978>"
            ]
          },
          "metadata": {
            "tags": []
          },
          "execution_count": 9
        },
        {
          "output_type": "display_data",
          "data": {
            "image/png": "[encoded data removed]",
            "text/plain": [
              "<Figure size 432x288 with 1 Axes>"
            ]
          },
          "metadata": {
            "tags": []
          }
        }
      ]
    },
    {
      "cell_type": "markdown",
      "metadata": {
        "id": "1UgNOx9Nc3k_",
        "colab_type": "text"
      },
      "source": [
        "## Split the Training and Test Data"
      ]
    },
    {
      "cell_type": "code",
      "metadata": {
        "id": "8JGZ257h7Yrn",
        "colab_type": "code",
        "colab": {}
      },
      "source": [
        "from sklearn.model_selection import train_test_split\n",
        "X_train, X_test, y_train, y_test = train_test_split(X, y, test_size =.20,random_state=0)"
      ],
      "execution_count": 0,
      "outputs": []
    },
    {
      "cell_type": "markdown",
      "metadata": {
        "id": "XMVFCtKghrJh",
        "colab_type": "text"
      },
      "source": [
        "### Print the training set features (Independent Variables - Age, Salary)"
      ]
    },
    {
      "cell_type": "code",
      "metadata": {
        "id": "A3kYIdlKd_sK",
        "colab_type": "code",
        "outputId": "41f24065-22e8-47be-e6d3-9ab2bd6d2d15",
        "colab": {
          "base_uri": "https://localhost:8080/",
          "height": 561
        }
      },
      "source": [
        "X_train"
      ],
      "execution_count": 11,
      "outputs": [
        {
          "output_type": "execute_result",
          "data": {
            "text/plain": [
              "array([[   36, 60000],\n",
              "       [   47, 55000],\n",
              "       [   45, 60000],\n",
              "       [   56, 45000],\n",
              "       [   58, 80000],\n",
              "       [   20, 24000],\n",
              "       [   60, 95000],\n",
              "       [   48, 53000],\n",
              "       [   55, 78000],\n",
              "       [   34, 46000],\n",
              "       [   57, 56000],\n",
              "       [   26, 35000],\n",
              "       [   31, 50000],\n",
              "       [   23, 35000],\n",
              "       [   35, 56000],\n",
              "       [   32, 45000],\n",
              "       [   54, 78000],\n",
              "       [   25, 32000],\n",
              "       [   52, 65000],\n",
              "       [   19, 22000],\n",
              "       [   44, 51000],\n",
              "       [   30, 45000],\n",
              "       [   50, 45000],\n",
              "       [   42, 45000],\n",
              "       [   24, 30000],\n",
              "       [   41, 63000],\n",
              "       [   39, 30000],\n",
              "       [   37, 23000],\n",
              "       [   27, 37000],\n",
              "       [   59, 90000],\n",
              "       [   21, 28000],\n",
              "       [   18, 20000]])"
            ]
          },
          "metadata": {
            "tags": []
          },
          "execution_count": 11
        }
      ]
    },
    {
      "cell_type": "markdown",
      "metadata": {
        "id": "VoZmxdVvh2IE",
        "colab_type": "text"
      },
      "source": [
        "### Print the training set dependent variable - Purchased\n",
        "\n",
        "\n"
      ]
    },
    {
      "cell_type": "code",
      "metadata": {
        "id": "cC7ZNM5-eMHX",
        "colab_type": "code",
        "outputId": "37b7a950-6a4f-40d2-d33b-3ee3539c274e",
        "colab": {
          "base_uri": "https://localhost:8080/",
          "height": 51
        }
      },
      "source": [
        "y_train"
      ],
      "execution_count": 12,
      "outputs": [
        {
          "output_type": "execute_result",
          "data": {
            "text/plain": [
              "array([1, 1, 1, 1, 1, 0, 1, 1, 1, 0, 1, 0, 0, 0, 1, 0, 1, 1, 1, 0, 1, 0,\n",
              "       1, 0, 0, 1, 0, 0, 0, 1, 0, 0])"
            ]
          },
          "metadata": {
            "tags": []
          },
          "execution_count": 12
        }
      ]
    },
    {
      "cell_type": "markdown",
      "metadata": {
        "id": "NquBAu0eh7Jp",
        "colab_type": "text"
      },
      "source": [
        "### Print the test set features (Independent Variables) - Age & Salary"
      ]
    },
    {
      "cell_type": "code",
      "metadata": {
        "id": "fIXwTR5PeSz_",
        "colab_type": "code",
        "outputId": "6da44eb6-8d01-4c17-a68f-aa8183669ac0",
        "colab": {
          "base_uri": "https://localhost:8080/",
          "height": 153
        }
      },
      "source": [
        "X_test"
      ],
      "execution_count": 13,
      "outputs": [
        {
          "output_type": "execute_result",
          "data": {
            "text/plain": [
              "array([[   40, 60000],\n",
              "       [   38, 53000],\n",
              "       [   43, 52000],\n",
              "       [   22, 50000],\n",
              "       [   28, 80000],\n",
              "       [   33, 47000],\n",
              "       [   46, 22000],\n",
              "       [   29, 40000]])"
            ]
          },
          "metadata": {
            "tags": []
          },
          "execution_count": 13
        }
      ]
    },
    {
      "cell_type": "markdown",
      "metadata": {
        "id": "d7hUJOPPiE10",
        "colab_type": "text"
      },
      "source": [
        "### Print the test set dependent variable - Purchased"
      ]
    },
    {
      "cell_type": "code",
      "metadata": {
        "id": "3_nVpIcNeNpz",
        "colab_type": "code",
        "outputId": "37299005-dba9-4eb7-cd70-8d99cef1e872",
        "colab": {
          "base_uri": "https://localhost:8080/",
          "height": 34
        }
      },
      "source": [
        "y_test"
      ],
      "execution_count": 14,
      "outputs": [
        {
          "output_type": "execute_result",
          "data": {
            "text/plain": [
              "array([1, 1, 1, 1, 1, 0, 0, 0])"
            ]
          },
          "metadata": {
            "tags": []
          },
          "execution_count": 14
        }
      ]
    },
    {
      "cell_type": "markdown",
      "metadata": {
        "id": "hP_2kV5Welz3",
        "colab_type": "text"
      },
      "source": [
        "## Feature Scaling\n",
        "\n",
        "StandardScaler will transform your data such that its distribution will have a mean value 0 and standard deviation of 1"
      ]
    },
    {
      "cell_type": "code",
      "metadata": {
        "id": "6zOr4sDv7afM",
        "colab_type": "code",
        "colab": {}
      },
      "source": [
        "from sklearn.preprocessing import StandardScaler\n",
        "sc = StandardScaler()\n",
        "X_train = sc.fit_transform(X_train)\n",
        "X_test = sc.transform(X_test)"
      ],
      "execution_count": 0,
      "outputs": []
    },
    {
      "cell_type": "markdown",
      "metadata": {
        "id": "kFt2GqRTi5IW",
        "colab_type": "text"
      },
      "source": [
        "### Print feature scaled training independent variables"
      ]
    },
    {
      "cell_type": "code",
      "metadata": {
        "id": "v3CAldFselFp",
        "colab_type": "code",
        "outputId": "5184b0f9-8897-4654-d7a5-2a76cefb8b0a",
        "colab": {
          "base_uri": "https://localhost:8080/",
          "height": 561
        }
      },
      "source": [
        "X_train"
      ],
      "execution_count": 16,
      "outputs": [
        {
          "output_type": "execute_result",
          "data": {
            "text/plain": [
              "array([[-0.22030803,  0.54818427],\n",
              "       [ 0.61354601,  0.29247149],\n",
              "       [ 0.46193618,  0.54818427],\n",
              "       [ 1.29579021, -0.21895407],\n",
              "       [ 1.44740004,  1.5710354 ],\n",
              "       [-1.43318661, -1.29294775],\n",
              "       [ 1.59900986,  2.33817374],\n",
              "       [ 0.68935092,  0.19018638],\n",
              "       [ 1.2199853 ,  1.46875029],\n",
              "       [-0.37191785, -0.16781151],\n",
              "       [ 1.37159512,  0.34361405],\n",
              "       [-0.97835714, -0.73037963],\n",
              "       [-0.59933258,  0.03675871],\n",
              "       [-1.20577188, -0.73037963],\n",
              "       [-0.29611294,  0.34361405],\n",
              "       [-0.52352767, -0.21895407],\n",
              "       [ 1.14418039,  1.46875029],\n",
              "       [-1.05416206, -0.8838073 ],\n",
              "       [ 0.99257056,  0.80389706],\n",
              "       [-1.50899153, -1.39523286],\n",
              "       [ 0.38613127,  0.08790127],\n",
              "       [-0.6751375 , -0.21895407],\n",
              "       [ 0.84096074, -0.21895407],\n",
              "       [ 0.23452145, -0.21895407],\n",
              "       [-1.12996697, -0.98609241],\n",
              "       [ 0.15871653,  0.70161194],\n",
              "       [ 0.00710671, -0.98609241],\n",
              "       [-0.14450311, -1.34409031],\n",
              "       [-0.90255223, -0.62809452],\n",
              "       [ 1.52320495,  2.08246096],\n",
              "       [-1.3573817 , -1.08837752],\n",
              "       [-1.58479644, -1.49751797]])"
            ]
          },
          "metadata": {
            "tags": []
          },
          "execution_count": 16
        }
      ]
    },
    {
      "cell_type": "markdown",
      "metadata": {
        "id": "YPgsrgUOjCdi",
        "colab_type": "text"
      },
      "source": [
        "### Print feature scaled training independent variables"
      ]
    },
    {
      "cell_type": "code",
      "metadata": {
        "id": "EIX5If-VeqMm",
        "colab_type": "code",
        "outputId": "7277b548-db27-4689-e148-ea4e8641788b",
        "colab": {
          "base_uri": "https://localhost:8080/",
          "height": 153
        }
      },
      "source": [
        "X_test"
      ],
      "execution_count": 17,
      "outputs": [
        {
          "output_type": "execute_result",
          "data": {
            "text/plain": [
              "array([[ 0.08291162,  0.54818427],\n",
              "       [-0.0686982 ,  0.19018638],\n",
              "       [ 0.31032636,  0.13904382],\n",
              "       [-1.28157679,  0.03675871],\n",
              "       [-0.82674732,  1.5710354 ],\n",
              "       [-0.44772276, -0.11666896],\n",
              "       [ 0.53774109, -1.39523286],\n",
              "       [-0.75094241, -0.47466685]])"
            ]
          },
          "metadata": {
            "tags": []
          },
          "execution_count": 17
        }
      ]
    },
    {
      "cell_type": "markdown",
      "metadata": {
        "id": "_-ioPA5LeuPr",
        "colab_type": "text"
      },
      "source": [
        "## Build a Classification model\n",
        "\n",
        "### We are using KNN Classifier in this example\n",
        "\n",
        "*n_neighbors = 5 -* Number of neighbors\n",
        "\n",
        "\n",
        "*metric = 'minkowski', p = 2* - For Eucledian distance calculation"
      ]
    },
    {
      "cell_type": "code",
      "metadata": {
        "id": "NNNXuUTF7b1S",
        "colab_type": "code",
        "colab": {}
      },
      "source": [
        "from sklearn.neighbors import KNeighborsClassifier\n",
        "# minkowski is for ecledian distance\n",
        "classifier = KNeighborsClassifier(n_neighbors = 5, metric = 'minkowski', p = 2)\n",
        "\n"
      ],
      "execution_count": 0,
      "outputs": []
    },
    {
      "cell_type": "markdown",
      "metadata": {
        "id": "jY8uw9-8gOIt",
        "colab_type": "text"
      },
      "source": [
        "## Train your Classifier\n",
        "\n",
        "### This step is Machine Learning"
      ]
    },
    {
      "cell_type": "code",
      "metadata": {
        "id": "sSrjSljWgM_3",
        "colab_type": "code",
        "outputId": "34b73c98-27f0-44ba-b53f-8016b5390fd8",
        "colab": {
          "base_uri": "https://localhost:8080/",
          "height": 68
        }
      },
      "source": [
        "classifier.fit(X_train, y_train)"
      ],
      "execution_count": 19,
      "outputs": [
        {
          "output_type": "execute_result",
          "data": {
            "text/plain": [
              "KNeighborsClassifier(algorithm='auto', leaf_size=30, metric='minkowski',\n",
              "                     metric_params=None, n_jobs=None, n_neighbors=5, p=2,\n",
              "                     weights='uniform')"
            ]
          },
          "metadata": {
            "tags": []
          },
          "execution_count": 19
        }
      ]
    },
    {
      "cell_type": "markdown",
      "metadata": {
        "id": "msHbTmCzjb1s",
        "colab_type": "text"
      },
      "source": [
        "### Now \"classifier\" is your trained model"
      ]
    },
    {
      "cell_type": "markdown",
      "metadata": {
        "id": "83osPyR_gWhn",
        "colab_type": "text"
      },
      "source": [
        "## Predict output for the test set"
      ]
    },
    {
      "cell_type": "code",
      "metadata": {
        "id": "ZdT8r-ja7eCS",
        "colab_type": "code",
        "outputId": "cb9d89ed-7129-4c1a-a18d-979955ac321f",
        "colab": {
          "base_uri": "https://localhost:8080/",
          "height": 34
        }
      },
      "source": [
        "y_pred = classifier.predict(X_test)\n",
        "y_pred"
      ],
      "execution_count": 20,
      "outputs": [
        {
          "output_type": "execute_result",
          "data": {
            "text/plain": [
              "array([1, 1, 1, 0, 1, 0, 0, 0])"
            ]
          },
          "metadata": {
            "tags": []
          },
          "execution_count": 20
        }
      ]
    },
    {
      "cell_type": "code",
      "metadata": {
        "id": "vV2nMOJOFa44",
        "colab_type": "code",
        "outputId": "d1f36285-6038-495e-d978-19d649987179",
        "colab": {
          "base_uri": "https://localhost:8080/",
          "height": 34
        }
      },
      "source": [
        "y_test"
      ],
      "execution_count": 21,
      "outputs": [
        {
          "output_type": "execute_result",
          "data": {
            "text/plain": [
              "array([1, 1, 1, 1, 1, 0, 0, 0])"
            ]
          },
          "metadata": {
            "tags": []
          },
          "execution_count": 21
        }
      ]
    },
    {
      "cell_type": "markdown",
      "metadata": {
        "id": "M4b3vaOKgiAR",
        "colab_type": "text"
      },
      "source": [
        "## Predict probability"
      ]
    },
    {
      "cell_type": "code",
      "metadata": {
        "id": "T8gh5wwn7hFP",
        "colab_type": "code",
        "outputId": "eb13ba77-fa5e-48d9-b58c-54d0981cbeaa",
        "colab": {
          "base_uri": "https://localhost:8080/",
          "height": 34
        }
      },
      "source": [
        "y_prob = classifier.predict_proba(X_test)[:,1]\n",
        "y_prob"
      ],
      "execution_count": 22,
      "outputs": [
        {
          "output_type": "execute_result",
          "data": {
            "text/plain": [
              "array([1. , 0.6, 0.8, 0. , 0.8, 0.2, 0.4, 0. ])"
            ]
          },
          "metadata": {
            "tags": []
          },
          "execution_count": 22
        }
      ]
    },
    {
      "cell_type": "markdown",
      "metadata": {
        "id": "a2SStPThguSL",
        "colab_type": "text"
      },
      "source": [
        "## Evaluate the Model"
      ]
    },
    {
      "cell_type": "code",
      "metadata": {
        "id": "1eNw4Fkn7hwU",
        "colab_type": "code",
        "colab": {}
      },
      "source": [
        "from sklearn.metrics import confusion_matrix\n"
      ],
      "execution_count": 0,
      "outputs": []
    },
    {
      "cell_type": "markdown",
      "metadata": {
        "id": "1NBd_Op_g5P1",
        "colab_type": "text"
      },
      "source": [
        "### Create Confusion Matrix"
      ]
    },
    {
      "cell_type": "code",
      "metadata": {
        "id": "2AA3evcI7jC3",
        "colab_type": "code",
        "outputId": "d7c56a71-1d03-48bd-aff4-14fbead9ab63",
        "colab": {
          "base_uri": "https://localhost:8080/",
          "height": 51
        }
      },
      "source": [
        "cm = confusion_matrix(y_test, y_pred)\n",
        "cm"
      ],
      "execution_count": 24,
      "outputs": [
        {
          "output_type": "execute_result",
          "data": {
            "text/plain": [
              "array([[3, 0],\n",
              "       [1, 4]])"
            ]
          },
          "metadata": {
            "tags": []
          },
          "execution_count": 24
        }
      ]
    },
    {
      "cell_type": "markdown",
      "metadata": {
        "id": "bcH-9eAag9lF",
        "colab_type": "text"
      },
      "source": [
        "### Calculate Accuracy"
      ]
    },
    {
      "cell_type": "code",
      "metadata": {
        "id": "mWK4xa0koM0_",
        "colab_type": "code",
        "colab": {}
      },
      "source": [
        "from sklearn.metrics import accuracy_score\n"
      ],
      "execution_count": 0,
      "outputs": []
    },
    {
      "cell_type": "code",
      "metadata": {
        "id": "jCFELbWw7kGe",
        "colab_type": "code",
        "outputId": "b4b5811f-44da-4831-80c6-05b7dd730bd3",
        "colab": {
          "base_uri": "https://localhost:8080/",
          "height": 34
        }
      },
      "source": [
        "print(accuracy_score(y_test,y_pred))\n"
      ],
      "execution_count": 26,
      "outputs": [
        {
          "output_type": "stream",
          "text": [
            "0.875\n"
          ],
          "name": "stdout"
        }
      ]
    },
    {
      "cell_type": "markdown",
      "metadata": {
        "id": "VBOWMh56hGD8",
        "colab_type": "text"
      },
      "source": [
        "### Derive the classification report\n",
        "\n",
        "precision (true posistive / (true postive + false positive)) . It is the fraction of relevant instances among the retrieved instances\n",
        "\n",
        "recall (true positive / (true postive + false negatives) ) . It is the fraction of relevant instances that have been retrieved over the total amount of relevant instances.\n",
        "\n",
        "f1-score is weighted score of precision and recall.   2*((precision*recall)/(precision+recall))\n",
        "\n",
        "The support is the number of samples of the true response that lie in that class\n"
      ]
    },
    {
      "cell_type": "code",
      "metadata": {
        "id": "wtBmUa56oQPR",
        "colab_type": "code",
        "colab": {}
      },
      "source": [
        "from sklearn.metrics import classification_report"
      ],
      "execution_count": 0,
      "outputs": []
    },
    {
      "cell_type": "code",
      "metadata": {
        "id": "pWu-ILTm7lha",
        "colab_type": "code",
        "outputId": "c6cc22b5-71b6-4485-b207-a1d965d4108d",
        "colab": {
          "base_uri": "https://localhost:8080/",
          "height": 170
        }
      },
      "source": [
        "print(classification_report(y_test,y_pred))\n"
      ],
      "execution_count": 28,
      "outputs": [
        {
          "output_type": "stream",
          "text": [
            "              precision    recall  f1-score   support\n",
            "\n",
            "           0       0.75      1.00      0.86         3\n",
            "           1       1.00      0.80      0.89         5\n",
            "\n",
            "    accuracy                           0.88         8\n",
            "   macro avg       0.88      0.90      0.87         8\n",
            "weighted avg       0.91      0.88      0.88         8\n",
            "\n"
          ],
          "name": "stdout"
        }
      ]
    },
    {
      "cell_type": "markdown",
      "metadata": {
        "id": "FY093IvK0UOB",
        "colab_type": "text"
      },
      "source": [
        "## Predict using the Model"
      ]
    },
    {
      "cell_type": "code",
      "metadata": {
        "id": "zJ3CsaG-7mqv",
        "colab_type": "code",
        "outputId": "63798b7b-fcc4-4270-d838-a2549c7c963a",
        "colab": {
          "base_uri": "https://localhost:8080/",
          "height": 34
        }
      },
      "source": [
        "new_prediction = classifier.predict(sc.transform(np.array([[40,20000]])))\n",
        "new_prediction"
      ],
      "execution_count": 29,
      "outputs": [
        {
          "output_type": "execute_result",
          "data": {
            "text/plain": [
              "array([0])"
            ]
          },
          "metadata": {
            "tags": []
          },
          "execution_count": 29
        }
      ]
    },
    {
      "cell_type": "code",
      "metadata": {
        "id": "DG5h8OTm7qGA",
        "colab_type": "code",
        "outputId": "587439be-d5ee-4a11-856b-1fd1f959b485",
        "colab": {
          "base_uri": "https://localhost:8080/",
          "height": 34
        }
      },
      "source": [
        "new_prediction_proba = classifier.predict_proba(sc.transform(np.array([[40,20000]])))[:,1]\n",
        "new_prediction_proba"
      ],
      "execution_count": 30,
      "outputs": [
        {
          "output_type": "execute_result",
          "data": {
            "text/plain": [
              "array([0.2])"
            ]
          },
          "metadata": {
            "tags": []
          },
          "execution_count": 30
        }
      ]
    },
    {
      "cell_type": "code",
      "metadata": {
        "id": "A52DpUXIXAmR",
        "colab_type": "code",
        "outputId": "ba7afb06-f38a-404c-9927-088e32422e1d",
        "colab": {
          "base_uri": "https://localhost:8080/",
          "height": 34
        }
      },
      "source": [
        "new_pred = classifier.predict(sc.transform(np.array([[42,50000]])))\n",
        "new_pred"
      ],
      "execution_count": 31,
      "outputs": [
        {
          "output_type": "execute_result",
          "data": {
            "text/plain": [
              "array([1])"
            ]
          },
          "metadata": {
            "tags": []
          },
          "execution_count": 31
        }
      ]
    },
    {
      "cell_type": "code",
      "metadata": {
        "id": "DA_XrPo8YcRD",
        "colab_type": "code",
        "outputId": "abf02e43-c737-4f5e-a165-2c983528357b",
        "colab": {
          "base_uri": "https://localhost:8080/",
          "height": 34
        }
      },
      "source": [
        "new_pred_proba = classifier.predict_proba(sc.transform(np.array([[42,50000]])))[:,1]\n",
        "new_pred_proba"
      ],
      "execution_count": 32,
      "outputs": [
        {
          "output_type": "execute_result",
          "data": {
            "text/plain": [
              "array([0.8])"
            ]
          },
          "metadata": {
            "tags": []
          },
          "execution_count": 32
        }
      ]
    },
    {
      "cell_type": "markdown",
      "metadata": {
        "id": "WuR6Ot5dMF9c",
        "colab_type": "text"
      },
      "source": [
        "## Store the Model & the Scaler"
      ]
    },
    {
      "cell_type": "code",
      "metadata": {
        "id": "8ty_pmsW7smP",
        "colab_type": "code",
        "colab": {}
      },
      "source": [
        "import pickle\n"
      ],
      "execution_count": 0,
      "outputs": []
    },
    {
      "cell_type": "code",
      "metadata": {
        "id": "ScZsLOpK8N1X",
        "colab_type": "code",
        "colab": {}
      },
      "source": [
        "filename = \"knnmodel.pickle\"\n"
      ],
      "execution_count": 0,
      "outputs": []
    },
    {
      "cell_type": "code",
      "metadata": {
        "id": "ePLa2RdF8Pnj",
        "colab_type": "code",
        "colab": {}
      },
      "source": [
        "pickle.dump(classifier, open(filename,'wb'))\n"
      ],
      "execution_count": 0,
      "outputs": []
    },
    {
      "cell_type": "code",
      "metadata": {
        "id": "sSUf3kl38RVs",
        "colab_type": "code",
        "colab": {}
      },
      "source": [
        "filename2 = \"sc.pickle\""
      ],
      "execution_count": 0,
      "outputs": []
    },
    {
      "cell_type": "code",
      "metadata": {
        "id": "40Crxnx188s5",
        "colab_type": "code",
        "colab": {}
      },
      "source": [
        "pickle.dump(sc, open(filename2,'wb'))\n"
      ],
      "execution_count": 0,
      "outputs": []
    },
    {
      "cell_type": "code",
      "metadata": {
        "id": "JMPnWbow9Qgg",
        "colab_type": "code",
        "outputId": "a60fb358-36b7-4b81-a681-4d8200d866fc",
        "colab": {
          "base_uri": "https://localhost:8080/",
          "height": 34
        }
      },
      "source": [
        "!ls"
      ],
      "execution_count": 38,
      "outputs": [
        {
          "output_type": "stream",
          "text": [
            "knnmodel.pickle  sample_data  sc.pickle\n"
          ],
          "name": "stdout"
        }
      ]
    },
    {
      "cell_type": "code",
      "metadata": {
        "id": "rz2uAmmA9RLg",
        "colab_type": "code",
        "colab": {}
      },
      "source": [
        ""
      ],
      "execution_count": 0,
      "outputs": []
    }
  ]
}