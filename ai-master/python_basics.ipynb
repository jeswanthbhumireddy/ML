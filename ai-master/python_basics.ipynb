{
  "nbformat": 4,
  "nbformat_minor": 0,
  "metadata": {
    "colab": {
      "name": "python_basics.ipynb",
      "version": "0.3.2",
      "provenance": [],
      "collapsed_sections": [],
      "include_colab_link": true
    },
    "kernelspec": {
      "name": "python3",
      "display_name": "Python 3"
    }
  },
  "cells": [
    {
      "cell_type": "markdown",
      "metadata": {
        "id": "view-in-github",
        "colab_type": "text"
      },
      "source": [
        "<a href=\"https://colab.research.google.com/github/futurexskill/ai/blob/master/python_basics.ipynb\" target=\"_parent\"><img src=\"https://colab.research.google.com/assets/colab-badge.svg\" alt=\"Open In Colab\"/></a>"
      ]
    },
    {
      "cell_type": "markdown",
      "metadata": {
        "id": "pqXcCfAhWSj9",
        "colab_type": "text"
      },
      "source": [
        "# Why Python\n",
        "\n",
        "Python is an interpreted language with simple syntax. It has many prebuilt libraries to simplify Machine Learning model building process\n",
        "\n",
        "Since Python is an interpreted language it doesn't required compilation or jar file creation like other programming languages\n"
      ]
    },
    {
      "cell_type": "markdown",
      "metadata": {
        "id": "wM0FDi6tpb1s",
        "colab_type": "text"
      },
      "source": [
        "#Python Basics"
      ]
    },
    {
      "cell_type": "markdown",
      "metadata": {
        "id": "KjJyxow-qVWR",
        "colab_type": "text"
      },
      "source": [
        "## Arithmetic Operations\n",
        "\n",
        "Python supports all basic arithmetic operations like addition,subtraction, multiplication, division , exponetial, modulus operations etc\n"
      ]
    },
    {
      "cell_type": "code",
      "metadata": {
        "id": "wgrERp8gs6YU",
        "colab_type": "code",
        "outputId": "bde41959-aa49-4031-94b3-80825f682de6",
        "colab": {
          "base_uri": "https://localhost:8080/",
          "height": 34
        }
      },
      "source": [
        "10+50"
      ],
      "execution_count": 0,
      "outputs": [
        {
          "output_type": "execute_result",
          "data": {
            "text/plain": [
              "60"
            ]
          },
          "metadata": {
            "tags": []
          },
          "execution_count": 4
        }
      ]
    },
    {
      "cell_type": "code",
      "metadata": {
        "id": "gqv_SfcFqeTk",
        "colab_type": "code",
        "outputId": "4afe0b1a-30e2-423f-85f1-17cd8417874a",
        "colab": {
          "base_uri": "https://localhost:8080/",
          "height": 34
        }
      },
      "source": [
        "10+50\n",
        "30+5"
      ],
      "execution_count": 0,
      "outputs": [
        {
          "output_type": "execute_result",
          "data": {
            "text/plain": [
              "35"
            ]
          },
          "metadata": {
            "tags": []
          },
          "execution_count": 5
        }
      ]
    },
    {
      "cell_type": "markdown",
      "metadata": {
        "id": "-X2HPg8Hu208",
        "colab_type": "text"
      },
      "source": [
        "Printing 2 lines"
      ]
    },
    {
      "cell_type": "code",
      "metadata": {
        "id": "XTbtVwXDqh1m",
        "colab_type": "code",
        "outputId": "cdb53f6f-74bc-49d2-c764-a0991e25f46e",
        "colab": {
          "base_uri": "https://localhost:8080/",
          "height": 51
        }
      },
      "source": [
        "## Printing 2 lines\n",
        "print(10+50)\n",
        "print(30+5)"
      ],
      "execution_count": 0,
      "outputs": [
        {
          "output_type": "stream",
          "text": [
            "60\n",
            "35\n"
          ],
          "name": "stdout"
        }
      ]
    },
    {
      "cell_type": "code",
      "metadata": {
        "id": "0XW_nxKFqpif",
        "colab_type": "code",
        "outputId": "b605c763-8d60-46e0-abf9-fa80a1d51f88",
        "colab": {
          "base_uri": "https://localhost:8080/",
          "height": 34
        }
      },
      "source": [
        "10*5"
      ],
      "execution_count": 0,
      "outputs": [
        {
          "output_type": "execute_result",
          "data": {
            "text/plain": [
              "50"
            ]
          },
          "metadata": {
            "tags": []
          },
          "execution_count": 7
        }
      ]
    },
    {
      "cell_type": "code",
      "metadata": {
        "id": "Mj4e2iF2qtUn",
        "colab_type": "code",
        "outputId": "c5b0df1d-fd1d-4e67-81ae-d5bcbca6c63e",
        "colab": {
          "base_uri": "https://localhost:8080/",
          "height": 34
        }
      },
      "source": [
        "10 / 2\n"
      ],
      "execution_count": 0,
      "outputs": [
        {
          "output_type": "execute_result",
          "data": {
            "text/plain": [
              "5.0"
            ]
          },
          "metadata": {
            "tags": []
          },
          "execution_count": 8
        }
      ]
    },
    {
      "cell_type": "code",
      "metadata": {
        "id": "uZs9n-MAq2Nc",
        "colab_type": "code",
        "outputId": "9cfab8bf-c151-4c4e-c9d9-d450a643c045",
        "colab": {
          "base_uri": "https://localhost:8080/",
          "height": 34
        }
      },
      "source": [
        "2 ** 4"
      ],
      "execution_count": 0,
      "outputs": [
        {
          "output_type": "execute_result",
          "data": {
            "text/plain": [
              "16"
            ]
          },
          "metadata": {
            "tags": []
          },
          "execution_count": 9
        }
      ]
    },
    {
      "cell_type": "code",
      "metadata": {
        "id": "yS2l-QWGq36N",
        "colab_type": "code",
        "outputId": "2e16810e-df11-4e03-e2c6-447a5b8db23e",
        "colab": {
          "base_uri": "https://localhost:8080/",
          "height": 34
        }
      },
      "source": [
        "7 % 2"
      ],
      "execution_count": 0,
      "outputs": [
        {
          "output_type": "execute_result",
          "data": {
            "text/plain": [
              "1"
            ]
          },
          "metadata": {
            "tags": []
          },
          "execution_count": 10
        }
      ]
    },
    {
      "cell_type": "markdown",
      "metadata": {
        "id": "XT_wFWrUq-nc",
        "colab_type": "text"
      },
      "source": [
        "## Variable Assignmnet\n",
        "\n",
        "You do not need to declare variable type explicitly. Variable data type will be determined based on the assigned value\n",
        "\n",
        "Variable name cannot start with number or special character"
      ]
    },
    {
      "cell_type": "code",
      "metadata": {
        "id": "MFVDI_3Qq5sG",
        "colab_type": "code",
        "colab": {}
      },
      "source": [
        "variable_one = 20"
      ],
      "execution_count": 0,
      "outputs": []
    },
    {
      "cell_type": "code",
      "metadata": {
        "id": "DJrF3CntrBsV",
        "colab_type": "code",
        "colab": {}
      },
      "source": [
        "variable_two = \"ML NLP\"\n"
      ],
      "execution_count": 0,
      "outputs": []
    },
    {
      "cell_type": "markdown",
      "metadata": {
        "id": "V6RVC135Y48d",
        "colab_type": "text"
      },
      "source": [
        "You can ceck the data type using type function"
      ]
    },
    {
      "cell_type": "code",
      "metadata": {
        "id": "8DfBkBvwrCvi",
        "colab_type": "code",
        "outputId": "52f03c6d-03d4-44cf-af0a-22897047aa9c",
        "colab": {
          "base_uri": "https://localhost:8080/",
          "height": 34
        }
      },
      "source": [
        "#to check the type\n",
        "type(variable_one)"
      ],
      "execution_count": 0,
      "outputs": [
        {
          "output_type": "execute_result",
          "data": {
            "text/plain": [
              "int"
            ]
          },
          "metadata": {
            "tags": []
          },
          "execution_count": 13
        }
      ]
    },
    {
      "cell_type": "code",
      "metadata": {
        "id": "Eo5KuInvrJUj",
        "colab_type": "code",
        "outputId": "35ff6e13-cac8-4def-b0c0-8444aa4f04b2",
        "colab": {
          "base_uri": "https://localhost:8080/",
          "height": 34
        }
      },
      "source": [
        "type(variable_two)"
      ],
      "execution_count": 0,
      "outputs": [
        {
          "output_type": "execute_result",
          "data": {
            "text/plain": [
              "str"
            ]
          },
          "metadata": {
            "tags": []
          },
          "execution_count": 14
        }
      ]
    },
    {
      "cell_type": "code",
      "metadata": {
        "id": "bI2ce0j2zJrv",
        "colab_type": "code",
        "colab": {}
      },
      "source": [
        "variable_two = 100.5"
      ],
      "execution_count": 0,
      "outputs": []
    },
    {
      "cell_type": "code",
      "metadata": {
        "id": "IpyTUjRjzOOq",
        "colab_type": "code",
        "outputId": "803e4040-ac27-4c0f-df42-20f2a1660559",
        "colab": {
          "base_uri": "https://localhost:8080/",
          "height": 34
        }
      },
      "source": [
        "type(variable_two)"
      ],
      "execution_count": 0,
      "outputs": [
        {
          "output_type": "execute_result",
          "data": {
            "text/plain": [
              "float"
            ]
          },
          "metadata": {
            "tags": []
          },
          "execution_count": 16
        }
      ]
    },
    {
      "cell_type": "code",
      "metadata": {
        "id": "tMTMukFP99BU",
        "colab_type": "code",
        "outputId": "9d7ec96c-ee76-4816-ddb7-0b2c2f1ca287",
        "colab": {
          "base_uri": "https://localhost:8080/",
          "height": 34
        }
      },
      "source": [
        "variable_two = 'ML NLP'\n",
        "variable_two"
      ],
      "execution_count": 0,
      "outputs": [
        {
          "output_type": "execute_result",
          "data": {
            "text/plain": [
              "'ML NLP'"
            ]
          },
          "metadata": {
            "tags": []
          },
          "execution_count": 17
        }
      ]
    },
    {
      "cell_type": "code",
      "metadata": {
        "id": "jQX5sS-V-Duv",
        "colab_type": "code",
        "outputId": "90dde3c3-56d8-419a-a6c3-ffda299a7215",
        "colab": {
          "base_uri": "https://localhost:8080/",
          "height": 34
        }
      },
      "source": [
        "variable_two = \"ML NLP\"\n",
        "variable_two"
      ],
      "execution_count": 0,
      "outputs": [
        {
          "output_type": "execute_result",
          "data": {
            "text/plain": [
              "'ML NLP'"
            ]
          },
          "metadata": {
            "tags": []
          },
          "execution_count": 18
        }
      ]
    },
    {
      "cell_type": "code",
      "metadata": {
        "id": "t3ldJWKY-Hfr",
        "colab_type": "code",
        "outputId": "b4ab26fd-4871-447f-83ef-e1c4d7da09ec",
        "colab": {
          "base_uri": "https://localhost:8080/",
          "height": 34
        }
      },
      "source": [
        "variable_two = 'ML \" NLP'\n",
        "variable_two"
      ],
      "execution_count": 0,
      "outputs": [
        {
          "output_type": "execute_result",
          "data": {
            "text/plain": [
              "'ML \" NLP'"
            ]
          },
          "metadata": {
            "tags": []
          },
          "execution_count": 20
        }
      ]
    },
    {
      "cell_type": "code",
      "metadata": {
        "id": "BPsT9Lv4-N3A",
        "colab_type": "code",
        "outputId": "043a0780-e386-4392-9f1e-ca8f19fd7b31",
        "colab": {
          "base_uri": "https://localhost:8080/",
          "height": 34
        }
      },
      "source": [
        "variable_two = \"ML ' NLP\"\n",
        "variable_two"
      ],
      "execution_count": 0,
      "outputs": [
        {
          "output_type": "execute_result",
          "data": {
            "text/plain": [
              "\"ML ' NLP\""
            ]
          },
          "metadata": {
            "tags": []
          },
          "execution_count": 21
        }
      ]
    },
    {
      "cell_type": "markdown",
      "metadata": {
        "id": "ubJRGxG7rZPu",
        "colab_type": "text"
      },
      "source": [
        "## List\n",
        "\n",
        "It is a collection data type to store a sequence of elements\n",
        "\n",
        "Since Machine Learning is all about data processing you need to understand how to store and retrieve value from a List"
      ]
    },
    {
      "cell_type": "code",
      "metadata": {
        "id": "-DGWSxIxrR0I",
        "colab_type": "code",
        "colab": {}
      },
      "source": [
        "var_list = [10,20,30,40]"
      ],
      "execution_count": 0,
      "outputs": []
    },
    {
      "cell_type": "code",
      "metadata": {
        "id": "jST7yp0o0chq",
        "colab_type": "code",
        "outputId": "3b0a2e1a-d22b-46e7-a700-be0ef6415ca1",
        "colab": {
          "base_uri": "https://localhost:8080/",
          "height": 34
        }
      },
      "source": [
        "type(var_list)"
      ],
      "execution_count": 0,
      "outputs": [
        {
          "output_type": "execute_result",
          "data": {
            "text/plain": [
              "list"
            ]
          },
          "metadata": {
            "tags": []
          },
          "execution_count": 33
        }
      ]
    },
    {
      "cell_type": "markdown",
      "metadata": {
        "id": "M1prmOg2beqf",
        "colab_type": "text"
      },
      "source": [
        "You can grab elements by specifying index locations"
      ]
    },
    {
      "cell_type": "code",
      "metadata": {
        "id": "tUB3sJvorbWZ",
        "colab_type": "code",
        "outputId": "a55c88fc-b7ab-467e-a315-a84d90a7d291",
        "colab": {
          "base_uri": "https://localhost:8080/",
          "height": 34
        }
      },
      "source": [
        "var_list[0]"
      ],
      "execution_count": 0,
      "outputs": [
        {
          "output_type": "execute_result",
          "data": {
            "text/plain": [
              "10"
            ]
          },
          "metadata": {
            "tags": []
          },
          "execution_count": 34
        }
      ]
    },
    {
      "cell_type": "code",
      "metadata": {
        "id": "yeEjV_nerd-O",
        "colab_type": "code",
        "outputId": "f31af207-2173-42b8-fb19-b094aa65d681",
        "colab": {
          "base_uri": "https://localhost:8080/",
          "height": 34
        }
      },
      "source": [
        "var_list[1]"
      ],
      "execution_count": 0,
      "outputs": [
        {
          "output_type": "execute_result",
          "data": {
            "text/plain": [
              "20"
            ]
          },
          "metadata": {
            "tags": []
          },
          "execution_count": 35
        }
      ]
    },
    {
      "cell_type": "code",
      "metadata": {
        "id": "9ssJK5GUrfN_",
        "colab_type": "code",
        "outputId": "90189889-5b3f-41ca-f98b-f7431dd1280f",
        "colab": {
          "base_uri": "https://localhost:8080/",
          "height": 34
        }
      },
      "source": [
        "var_list[2]"
      ],
      "execution_count": 0,
      "outputs": [
        {
          "output_type": "execute_result",
          "data": {
            "text/plain": [
              "30"
            ]
          },
          "metadata": {
            "tags": []
          },
          "execution_count": 36
        }
      ]
    },
    {
      "cell_type": "code",
      "metadata": {
        "id": "Bg-5HvrOrg_-",
        "colab_type": "code",
        "outputId": "7ac16972-5e98-45c9-ad92-d87152b70aef",
        "colab": {
          "base_uri": "https://localhost:8080/",
          "height": 34
        }
      },
      "source": [
        "var_list[3]"
      ],
      "execution_count": 0,
      "outputs": [
        {
          "output_type": "execute_result",
          "data": {
            "text/plain": [
              "40"
            ]
          },
          "metadata": {
            "tags": []
          },
          "execution_count": 37
        }
      ]
    },
    {
      "cell_type": "code",
      "metadata": {
        "id": "dEoNjyXXrh5P",
        "colab_type": "code",
        "outputId": "4dcbaa80-51b8-4d00-86e7-c34fcd226936",
        "colab": {
          "base_uri": "https://localhost:8080/",
          "height": 34
        }
      },
      "source": [
        "var_list[-1]"
      ],
      "execution_count": 0,
      "outputs": [
        {
          "output_type": "execute_result",
          "data": {
            "text/plain": [
              "40"
            ]
          },
          "metadata": {
            "tags": []
          },
          "execution_count": 38
        }
      ]
    },
    {
      "cell_type": "code",
      "metadata": {
        "id": "xTsUVlpHrkAD",
        "colab_type": "code",
        "outputId": "d050cfa5-791c-4f54-e801-624a6c5a1032",
        "colab": {
          "base_uri": "https://localhost:8080/",
          "height": 34
        }
      },
      "source": [
        "var_list[-2]"
      ],
      "execution_count": 0,
      "outputs": [
        {
          "output_type": "execute_result",
          "data": {
            "text/plain": [
              "30"
            ]
          },
          "metadata": {
            "tags": []
          },
          "execution_count": 39
        }
      ]
    },
    {
      "cell_type": "code",
      "metadata": {
        "id": "NV_ttI-FrnWw",
        "colab_type": "code",
        "outputId": "edbd0208-b7d1-4669-e316-15026069af45",
        "colab": {
          "base_uri": "https://localhost:8080/",
          "height": 34
        }
      },
      "source": [
        "var_list[-3]"
      ],
      "execution_count": 0,
      "outputs": [
        {
          "output_type": "execute_result",
          "data": {
            "text/plain": [
              "20"
            ]
          },
          "metadata": {
            "tags": []
          },
          "execution_count": 40
        }
      ]
    },
    {
      "cell_type": "code",
      "metadata": {
        "id": "pYtxsELSrre0",
        "colab_type": "code",
        "outputId": "50b1702e-d378-4617-924e-b89eca9592ce",
        "colab": {
          "base_uri": "https://localhost:8080/",
          "height": 34
        }
      },
      "source": [
        "var_list[-4]"
      ],
      "execution_count": 0,
      "outputs": [
        {
          "output_type": "execute_result",
          "data": {
            "text/plain": [
              "10"
            ]
          },
          "metadata": {
            "tags": []
          },
          "execution_count": 41
        }
      ]
    },
    {
      "cell_type": "markdown",
      "metadata": {
        "id": "r5Y690Ahbtef",
        "colab_type": "text"
      },
      "source": [
        "You can grab a portion of the list by specifying starting and end index. Note that the end index is always excluded. \n",
        "\n",
        "For example 1:3 will fetch elements starting with index 1 and up to 3rd element but not including the 3rd element "
      ]
    },
    {
      "cell_type": "code",
      "metadata": {
        "id": "pLyA8YHCbo73",
        "colab_type": "code",
        "outputId": "95d4f169-70e9-4f47-bfd6-0cc0a824e0d4",
        "colab": {
          "base_uri": "https://localhost:8080/",
          "height": 34
        }
      },
      "source": [
        "var_list[1:3]"
      ],
      "execution_count": 0,
      "outputs": [
        {
          "output_type": "execute_result",
          "data": {
            "text/plain": [
              "[20, 30]"
            ]
          },
          "metadata": {
            "tags": []
          },
          "execution_count": 42
        }
      ]
    },
    {
      "cell_type": "code",
      "metadata": {
        "id": "1wqXOUky594Z",
        "colab_type": "code",
        "outputId": "a77f5b82-de7e-4566-e4b7-93878d8a8020",
        "colab": {
          "base_uri": "https://localhost:8080/",
          "height": 34
        }
      },
      "source": [
        "var_list[:3]"
      ],
      "execution_count": 0,
      "outputs": [
        {
          "output_type": "execute_result",
          "data": {
            "text/plain": [
              "[10, 20, 30]"
            ]
          },
          "metadata": {
            "tags": []
          },
          "execution_count": 43
        }
      ]
    },
    {
      "cell_type": "code",
      "metadata": {
        "id": "SLUQ3kPy6WtR",
        "colab_type": "code",
        "outputId": "55f3e61b-cb01-413d-9001-416492d48c55",
        "colab": {
          "base_uri": "https://localhost:8080/",
          "height": 34
        }
      },
      "source": [
        "var_list[2:]"
      ],
      "execution_count": 0,
      "outputs": [
        {
          "output_type": "execute_result",
          "data": {
            "text/plain": [
              "[30, 40]"
            ]
          },
          "metadata": {
            "tags": []
          },
          "execution_count": 44
        }
      ]
    },
    {
      "cell_type": "code",
      "metadata": {
        "id": "TfKJuqk0zvpX",
        "colab_type": "code",
        "colab": {}
      },
      "source": [
        "another_list = [10,'abc',20]"
      ],
      "execution_count": 0,
      "outputs": []
    },
    {
      "cell_type": "code",
      "metadata": {
        "id": "V3sdw2isz32-",
        "colab_type": "code",
        "outputId": "6ab22462-7380-42da-bfdc-7aa8467a6815",
        "colab": {
          "base_uri": "https://localhost:8080/",
          "height": 34
        }
      },
      "source": [
        "another_list[1]"
      ],
      "execution_count": 0,
      "outputs": [
        {
          "output_type": "execute_result",
          "data": {
            "text/plain": [
              "'abc'"
            ]
          },
          "metadata": {
            "tags": []
          },
          "execution_count": 46
        }
      ]
    },
    {
      "cell_type": "code",
      "metadata": {
        "id": "FDO32t4ez5ZE",
        "colab_type": "code",
        "outputId": "be73c3d4-1764-469f-9d2f-57155fec06e9",
        "colab": {
          "base_uri": "https://localhost:8080/",
          "height": 34
        }
      },
      "source": [
        "another_list[2]"
      ],
      "execution_count": 0,
      "outputs": [
        {
          "output_type": "execute_result",
          "data": {
            "text/plain": [
              "20"
            ]
          },
          "metadata": {
            "tags": []
          },
          "execution_count": 47
        }
      ]
    },
    {
      "cell_type": "code",
      "metadata": {
        "id": "l68sj4Ma3rjU",
        "colab_type": "code",
        "colab": {}
      },
      "source": [
        "another_list.append(3)"
      ],
      "execution_count": 0,
      "outputs": []
    },
    {
      "cell_type": "code",
      "metadata": {
        "id": "cvbkz3m83uIh",
        "colab_type": "code",
        "outputId": "a5d1b49b-90c0-4266-a10a-1507880adaa3",
        "colab": {
          "base_uri": "https://localhost:8080/",
          "height": 34
        }
      },
      "source": [
        "another_list"
      ],
      "execution_count": 0,
      "outputs": [
        {
          "output_type": "execute_result",
          "data": {
            "text/plain": [
              "[10, 'abc', 20, 3]"
            ]
          },
          "metadata": {
            "tags": []
          },
          "execution_count": 49
        }
      ]
    },
    {
      "cell_type": "code",
      "metadata": {
        "id": "UyhP2_6q37VN",
        "colab_type": "code",
        "outputId": "61fe55e6-fd22-4fa5-f907-393497a3f325",
        "colab": {
          "base_uri": "https://localhost:8080/",
          "height": 34
        }
      },
      "source": [
        "another_list.pop()"
      ],
      "execution_count": 0,
      "outputs": [
        {
          "output_type": "execute_result",
          "data": {
            "text/plain": [
              "3"
            ]
          },
          "metadata": {
            "tags": []
          },
          "execution_count": 50
        }
      ]
    },
    {
      "cell_type": "code",
      "metadata": {
        "id": "RC1Mp4OD4BTV",
        "colab_type": "code",
        "outputId": "a4b21fc0-d92b-41c9-cd15-c394c64117bf",
        "colab": {
          "base_uri": "https://localhost:8080/",
          "height": 34
        }
      },
      "source": [
        "another_list"
      ],
      "execution_count": 0,
      "outputs": [
        {
          "output_type": "execute_result",
          "data": {
            "text/plain": [
              "[10, 'abc', 20]"
            ]
          },
          "metadata": {
            "tags": []
          },
          "execution_count": 51
        }
      ]
    },
    {
      "cell_type": "code",
      "metadata": {
        "id": "ZcnCjohQ4DOH",
        "colab_type": "code",
        "outputId": "3cd2d718-caa6-4a8b-a50f-4e2fac25df3f",
        "colab": {
          "base_uri": "https://localhost:8080/",
          "height": 34
        }
      },
      "source": [
        "another_list.pop(1)"
      ],
      "execution_count": 0,
      "outputs": [
        {
          "output_type": "execute_result",
          "data": {
            "text/plain": [
              "'abc'"
            ]
          },
          "metadata": {
            "tags": []
          },
          "execution_count": 52
        }
      ]
    },
    {
      "cell_type": "code",
      "metadata": {
        "id": "jzHw6GBd4F0y",
        "colab_type": "code",
        "outputId": "fd48c321-e492-4871-e4c5-f3a4a1ebc7f6",
        "colab": {
          "base_uri": "https://localhost:8080/",
          "height": 34
        }
      },
      "source": [
        "another_list"
      ],
      "execution_count": 0,
      "outputs": [
        {
          "output_type": "execute_result",
          "data": {
            "text/plain": [
              "[10, 20]"
            ]
          },
          "metadata": {
            "tags": []
          },
          "execution_count": 54
        }
      ]
    },
    {
      "cell_type": "markdown",
      "metadata": {
        "id": "j0ukUKFGsa2Z",
        "colab_type": "text"
      },
      "source": [
        "## if else elif"
      ]
    },
    {
      "cell_type": "code",
      "metadata": {
        "id": "AulBGDFRsIw2",
        "colab_type": "code",
        "outputId": "408a8d60-0011-497e-9e1d-408bcfb90070",
        "colab": {
          "base_uri": "https://localhost:8080/",
          "height": 34
        }
      },
      "source": [
        "if 1> 2:\n",
        "  # loop starts\n",
        "  print(\"Inside if block\")\n",
        "  print(\"Also Inside if block\")\n",
        "  # loop ends\n",
        "print('outside if block')\n"
      ],
      "execution_count": 0,
      "outputs": [
        {
          "output_type": "stream",
          "text": [
            "outside if block\n"
          ],
          "name": "stdout"
        }
      ]
    },
    {
      "cell_type": "code",
      "metadata": {
        "id": "xLWdWdUSse4S",
        "colab_type": "code",
        "outputId": "7e739381-5324-4c84-a5e5-4b85712ee9b4",
        "colab": {
          "base_uri": "https://localhost:8080/",
          "height": 68
        }
      },
      "source": [
        "if 1 < 2:\n",
        "  print(\"Inside if block\")\n",
        "  print(\"Also Inside if block\")\n",
        "print('outside if block')"
      ],
      "execution_count": 0,
      "outputs": [
        {
          "output_type": "stream",
          "text": [
            "Inside if block\n",
            "Also Inside if block\n",
            "outside if block\n"
          ],
          "name": "stdout"
        }
      ]
    },
    {
      "cell_type": "code",
      "metadata": {
        "id": "iuoFUy34sgmZ",
        "colab_type": "code",
        "outputId": "0d79af9f-6176-4097-b316-0c281a5d4334",
        "colab": {
          "base_uri": "https://localhost:8080/",
          "height": 34
        }
      },
      "source": [
        "if 1 == 2:\n",
        "  print('inside if block')\n",
        "elif 3 == 3:\n",
        "  print('inside elif block')\n",
        "else:\n",
        "  print('inside else block')"
      ],
      "execution_count": 0,
      "outputs": [
        {
          "output_type": "stream",
          "text": [
            "inside elif block\n"
          ],
          "name": "stdout"
        }
      ]
    },
    {
      "cell_type": "markdown",
      "metadata": {
        "id": "iKHsxIEVskP_",
        "colab_type": "text"
      },
      "source": [
        "## for loop"
      ]
    },
    {
      "cell_type": "code",
      "metadata": {
        "id": "FnF8ChlHsjXB",
        "colab_type": "code",
        "colab": {}
      },
      "source": [
        "var_list = [1,2,3,4,5]\n"
      ],
      "execution_count": 0,
      "outputs": []
    },
    {
      "cell_type": "code",
      "metadata": {
        "id": "pTA5pjG3soon",
        "colab_type": "code",
        "outputId": "85f8ea7e-e51e-4866-94f7-a9a5f0d443e4",
        "colab": {
          "base_uri": "https://localhost:8080/",
          "height": 374
        }
      },
      "source": [
        "for element in var_list:\n",
        "  print(\"printing item inside for loop\")\n",
        "  print(element)\n",
        "  print(\"now see square\")\n",
        "  print(element**2)\n",
        "\n",
        "print(\"We are outside for loop\")\n"
      ],
      "execution_count": 0,
      "outputs": [
        {
          "output_type": "stream",
          "text": [
            "printing item inside for loop\n",
            "1\n",
            "now see square\n",
            "1\n",
            "printing item inside for loop\n",
            "2\n",
            "now see square\n",
            "4\n",
            "printing item inside for loop\n",
            "3\n",
            "now see square\n",
            "9\n",
            "printing item inside for loop\n",
            "4\n",
            "now see square\n",
            "16\n",
            "printing item inside for loop\n",
            "5\n",
            "now see square\n",
            "25\n",
            "We are outside for loop\n"
          ],
          "name": "stdout"
        }
      ]
    },
    {
      "cell_type": "code",
      "metadata": {
        "id": "owuXN3IB3Y9n",
        "colab_type": "code",
        "colab": {}
      },
      "source": [
        "var_list = [1,2,3,4,5]"
      ],
      "execution_count": 0,
      "outputs": []
    },
    {
      "cell_type": "code",
      "metadata": {
        "id": "O48qRLJUtE2e",
        "colab_type": "code",
        "outputId": "e6c37540-67fd-473d-e427-c7801230ba12",
        "colab": {
          "base_uri": "https://localhost:8080/",
          "height": 34
        }
      },
      "source": [
        "new_list_with_sqaure_values = []\n",
        "\n",
        "for element in var_list:\n",
        "    new_list_with_sqaure_values.append(element**2)\n",
        "print(new_list_with_sqaure_values)"
      ],
      "execution_count": 0,
      "outputs": [
        {
          "output_type": "stream",
          "text": [
            "[1, 4, 9, 16, 25]\n"
          ],
          "name": "stdout"
        }
      ]
    },
    {
      "cell_type": "markdown",
      "metadata": {
        "id": "_HxJmKeo42sn",
        "colab_type": "text"
      },
      "source": [
        "Same operation in a single line"
      ]
    },
    {
      "cell_type": "code",
      "metadata": {
        "id": "L9VlhDFk4nZQ",
        "colab_type": "code",
        "outputId": "9a8c289e-fefc-45dd-dcd5-d607899d10ae",
        "colab": {
          "base_uri": "https://localhost:8080/",
          "height": 34
        }
      },
      "source": [
        "print([element**2 for element in var_list])\t"
      ],
      "execution_count": 0,
      "outputs": [
        {
          "output_type": "stream",
          "text": [
            "[1, 4, 9, 16, 25]\n"
          ],
          "name": "stdout"
        }
      ]
    },
    {
      "cell_type": "code",
      "metadata": {
        "id": "qEJW3tag3co7",
        "colab_type": "code",
        "colab": {}
      },
      "source": [
        "words = ['hello','peter','how','are','you']"
      ],
      "execution_count": 0,
      "outputs": []
    },
    {
      "cell_type": "code",
      "metadata": {
        "id": "Yvx6ytMl3e-t",
        "colab_type": "code",
        "colab": {}
      },
      "source": [
        "newwords = [word for word in words if not word in ['peter','jack']]\n"
      ],
      "execution_count": 0,
      "outputs": []
    },
    {
      "cell_type": "code",
      "metadata": {
        "id": "VK_-c9VS5JAL",
        "colab_type": "code",
        "outputId": "9e1e7c4b-d901-4d9f-80ba-191f58b63421",
        "colab": {
          "base_uri": "https://localhost:8080/",
          "height": 34
        }
      },
      "source": [
        "newwords"
      ],
      "execution_count": 0,
      "outputs": [
        {
          "output_type": "execute_result",
          "data": {
            "text/plain": [
              "['hello', 'how', 'are', 'you']"
            ]
          },
          "metadata": {
            "tags": []
          },
          "execution_count": 66
        }
      ]
    },
    {
      "cell_type": "code",
      "metadata": {
        "id": "-i9mqmiXsp4o",
        "colab_type": "code",
        "outputId": "2fc9b6df-74dd-4cd5-ad79-7d1281171492",
        "colab": {
          "base_uri": "https://localhost:8080/",
          "height": 34
        }
      },
      "source": [
        "list(range(10))"
      ],
      "execution_count": 0,
      "outputs": [
        {
          "output_type": "execute_result",
          "data": {
            "text/plain": [
              "[0, 1, 2, 3, 4, 5, 6, 7, 8, 9]"
            ]
          },
          "metadata": {
            "tags": []
          },
          "execution_count": 67
        }
      ]
    },
    {
      "cell_type": "code",
      "metadata": {
        "id": "iYGwrFWssvNS",
        "colab_type": "code",
        "outputId": "c36d4839-fa0b-46f1-d91c-09ac1331d732",
        "colab": {
          "base_uri": "https://localhost:8080/",
          "height": 272
        }
      },
      "source": [
        "for element in range(15):\n",
        "    print(element)"
      ],
      "execution_count": 0,
      "outputs": [
        {
          "output_type": "stream",
          "text": [
            "0\n",
            "1\n",
            "2\n",
            "3\n",
            "4\n",
            "5\n",
            "6\n",
            "7\n",
            "8\n",
            "9\n",
            "10\n",
            "11\n",
            "12\n",
            "13\n",
            "14\n"
          ],
          "name": "stdout"
        }
      ]
    },
    {
      "cell_type": "markdown",
      "metadata": {
        "id": "r-7NwplLtMSS",
        "colab_type": "text"
      },
      "source": [
        "## while loop"
      ]
    },
    {
      "cell_type": "code",
      "metadata": {
        "id": "oLY6M-NFtIf4",
        "colab_type": "code",
        "outputId": "691c357d-9abc-42a4-e42f-e47578a48ed8",
        "colab": {
          "base_uri": "https://localhost:8080/",
          "height": 238
        }
      },
      "source": [
        "var = 1\n",
        "while var < 7:\n",
        "  print(\"inside while loop\")\n",
        "  print(var)\n",
        "  var = var+1\n",
        "print(\"outside while loop\")\n"
      ],
      "execution_count": 0,
      "outputs": [
        {
          "output_type": "stream",
          "text": [
            "inside while loop\n",
            "1\n",
            "inside while loop\n",
            "2\n",
            "inside while loop\n",
            "3\n",
            "inside while loop\n",
            "4\n",
            "inside while loop\n",
            "5\n",
            "inside while loop\n",
            "6\n",
            "outside while loop\n"
          ],
          "name": "stdout"
        }
      ]
    },
    {
      "cell_type": "markdown",
      "metadata": {
        "id": "N8hCJJ8OtcAx",
        "colab_type": "text"
      },
      "source": [
        "## function"
      ]
    },
    {
      "cell_type": "code",
      "metadata": {
        "id": "xGIxtwlCtO2V",
        "colab_type": "code",
        "colab": {}
      },
      "source": [
        "def sample_function(x):\n",
        "  print(\"inside function\")\n",
        "  print(x)\n"
      ],
      "execution_count": 0,
      "outputs": []
    },
    {
      "cell_type": "code",
      "metadata": {
        "id": "Fq9jbTlote4e",
        "colab_type": "code",
        "outputId": "c3537833-5cdc-4f32-fe14-10419d5d3789",
        "colab": {
          "base_uri": "https://localhost:8080/",
          "height": 51
        }
      },
      "source": [
        "sample_function(\"sample text b\")"
      ],
      "execution_count": 0,
      "outputs": [
        {
          "output_type": "stream",
          "text": [
            "inside function\n",
            "sample text b\n"
          ],
          "name": "stdout"
        }
      ]
    },
    {
      "cell_type": "code",
      "metadata": {
        "id": "5C9fiHFXtt8_",
        "colab_type": "code",
        "colab": {}
      },
      "source": [
        "def calculate_sum(x,y):\n",
        "  return x+y"
      ],
      "execution_count": 0,
      "outputs": []
    },
    {
      "cell_type": "code",
      "metadata": {
        "id": "zcqHnkIwtond",
        "colab_type": "code",
        "outputId": "a5b3b0da-5dbc-473f-e81d-77963e032206",
        "colab": {
          "base_uri": "https://localhost:8080/",
          "height": 34
        }
      },
      "source": [
        "out = calculate_sum(2,3)\n",
        "print(out)"
      ],
      "execution_count": 0,
      "outputs": [
        {
          "output_type": "stream",
          "text": [
            "5\n"
          ],
          "name": "stdout"
        }
      ]
    },
    {
      "cell_type": "markdown",
      "metadata": {
        "id": "KvCRx0b6uZMI",
        "colab_type": "text"
      },
      "source": [
        "## methods\n",
        "Methods are essentially functions built into objects."
      ]
    },
    {
      "cell_type": "code",
      "metadata": {
        "id": "WvpXGdzat8e1",
        "colab_type": "code",
        "colab": {}
      },
      "source": [
        "sample_string = 'hello my name is Sam'\n"
      ],
      "execution_count": 0,
      "outputs": []
    },
    {
      "cell_type": "code",
      "metadata": {
        "id": "uzhvIZsRwI_M",
        "colab_type": "code",
        "outputId": "af020b09-e67e-475f-d69c-6833e12dd471",
        "colab": {
          "base_uri": "https://localhost:8080/",
          "height": 34
        }
      },
      "source": [
        "type(sample_string)"
      ],
      "execution_count": 0,
      "outputs": [
        {
          "output_type": "execute_result",
          "data": {
            "text/plain": [
              "str"
            ]
          },
          "metadata": {
            "tags": []
          },
          "execution_count": 77
        }
      ]
    },
    {
      "cell_type": "code",
      "metadata": {
        "id": "-FWzF5UZunjq",
        "colab_type": "code",
        "outputId": "4d8910ac-ac91-46ce-cf12-9896fdc26be2",
        "colab": {
          "base_uri": "https://localhost:8080/",
          "height": 34
        }
      },
      "source": [
        "sample_string.upper()\n"
      ],
      "execution_count": 0,
      "outputs": [
        {
          "output_type": "execute_result",
          "data": {
            "text/plain": [
              "'HELLO MY NAME IS SAM'"
            ]
          },
          "metadata": {
            "tags": []
          },
          "execution_count": 78
        }
      ]
    },
    {
      "cell_type": "code",
      "metadata": {
        "id": "VdYhGdvtGqG3",
        "colab_type": "code",
        "outputId": "fb37d461-ec1c-4d30-a357-95d288881c2b",
        "colab": {
          "base_uri": "https://localhost:8080/",
          "height": 34
        }
      },
      "source": [
        "sample_string.split()"
      ],
      "execution_count": 0,
      "outputs": [
        {
          "output_type": "execute_result",
          "data": {
            "text/plain": [
              "['hello', 'my', 'name', 'is', 'Sam']"
            ]
          },
          "metadata": {
            "tags": []
          },
          "execution_count": 80
        }
      ]
    },
    {
      "cell_type": "code",
      "metadata": {
        "id": "sPa0Lmmp6pkW",
        "colab_type": "code",
        "colab": {}
      },
      "source": [
        "\n",
        "var_list = [10,20,30]"
      ],
      "execution_count": 0,
      "outputs": []
    },
    {
      "cell_type": "code",
      "metadata": {
        "id": "tmxfub8l6uEc",
        "colab_type": "code",
        "colab": {}
      },
      "source": [
        "var_list.append(40)"
      ],
      "execution_count": 0,
      "outputs": []
    },
    {
      "cell_type": "code",
      "metadata": {
        "id": "4K44qY2d6wLD",
        "colab_type": "code",
        "outputId": "df978e44-e6b5-484f-9ac7-2c7f0f5e82c5",
        "colab": {
          "base_uri": "https://localhost:8080/",
          "height": 34
        }
      },
      "source": [
        "var_list"
      ],
      "execution_count": 0,
      "outputs": [
        {
          "output_type": "execute_result",
          "data": {
            "text/plain": [
              "[10, 20, 30, 40]"
            ]
          },
          "metadata": {
            "tags": []
          },
          "execution_count": 83
        }
      ]
    },
    {
      "cell_type": "code",
      "metadata": {
        "id": "OGAusLBIUqpN",
        "colab_type": "code",
        "colab": {}
      },
      "source": [
        ""
      ],
      "execution_count": 0,
      "outputs": []
    },
    {
      "cell_type": "markdown",
      "metadata": {
        "id": "qsgOxh4UVz8G",
        "colab_type": "text"
      },
      "source": [
        "## Writing data to a file on the disk"
      ]
    },
    {
      "cell_type": "code",
      "metadata": {
        "id": "_OVUB9x9V3qC",
        "colab_type": "code",
        "colab": {}
      },
      "source": [
        "with open(\"my_file_1.txt\",\"w\") as f:\n",
        "    f.write(\"sample content 1\")"
      ],
      "execution_count": 0,
      "outputs": []
    },
    {
      "cell_type": "markdown",
      "metadata": {
        "id": "piV7oMfVWRk3",
        "colab_type": "text"
      },
      "source": [
        "## View the file"
      ]
    },
    {
      "cell_type": "code",
      "metadata": {
        "id": "Y2z-LftcWJgf",
        "colab_type": "code",
        "outputId": "ba0c7571-157e-49cd-f692-67279a81749e",
        "colab": {
          "base_uri": "https://localhost:8080/",
          "height": 34
        }
      },
      "source": [
        "# Linux command to view the list of files in the current directory\n",
        "!ls"
      ],
      "execution_count": 0,
      "outputs": [
        {
          "output_type": "stream",
          "text": [
            "my_file_1.txt  sample_data\n"
          ],
          "name": "stdout"
        }
      ]
    },
    {
      "cell_type": "code",
      "metadata": {
        "id": "Lrxw2mXIWV4H",
        "colab_type": "code",
        "outputId": "e318969b-2fef-42d5-8303-23da406b3c43",
        "colab": {
          "base_uri": "https://localhost:8080/",
          "height": 34
        }
      },
      "source": [
        "# Linux command to read the content of the file\n",
        "!cat my_file_1.txt"
      ],
      "execution_count": 0,
      "outputs": [
        {
          "output_type": "stream",
          "text": [
            "sample content 1"
          ],
          "name": "stdout"
        }
      ]
    },
    {
      "cell_type": "markdown",
      "metadata": {
        "id": "Xz2wiEh1Wnav",
        "colab_type": "text"
      },
      "source": [
        "## Append to file"
      ]
    },
    {
      "cell_type": "code",
      "metadata": {
        "id": "zl-vk8tuWN3F",
        "colab_type": "code",
        "colab": {}
      },
      "source": [
        "with open(\"my_file_1.txt\",\"a\") as f:\n",
        "    f.write(\"more content\")"
      ],
      "execution_count": 0,
      "outputs": []
    },
    {
      "cell_type": "code",
      "metadata": {
        "id": "zC1YTGDpWzh9",
        "colab_type": "code",
        "outputId": "eb91c7b5-f9a3-44ed-fdc7-9d7bf24f1934",
        "colab": {
          "base_uri": "https://localhost:8080/",
          "height": 34
        }
      },
      "source": [
        "# Linux command to read the content of the file\n",
        "!cat my_file_1.txt"
      ],
      "execution_count": 0,
      "outputs": [
        {
          "output_type": "stream",
          "text": [
            "sample content 1more content"
          ],
          "name": "stdout"
        }
      ]
    },
    {
      "cell_type": "markdown",
      "metadata": {
        "id": "EyTnZxP1W7CU",
        "colab_type": "text"
      },
      "source": [
        "## Overwrite File"
      ]
    },
    {
      "cell_type": "code",
      "metadata": {
        "id": "MeAZsX2FXAp-",
        "colab_type": "code",
        "colab": {}
      },
      "source": [
        "with open(\"my_file_1.txt\",\"w\") as f:\n",
        "    f.write(\"new content\")"
      ],
      "execution_count": 0,
      "outputs": []
    },
    {
      "cell_type": "code",
      "metadata": {
        "id": "RlnWB7OVXGU0",
        "colab_type": "code",
        "outputId": "6a97ad55-277b-4f4b-a3ff-b0f08750c908",
        "colab": {
          "base_uri": "https://localhost:8080/",
          "height": 34
        }
      },
      "source": [
        "# Linux command to read the content of the file\n",
        "!cat my_file_1.txt"
      ],
      "execution_count": 0,
      "outputs": [
        {
          "output_type": "stream",
          "text": [
            "new content"
          ],
          "name": "stdout"
        }
      ]
    },
    {
      "cell_type": "markdown",
      "metadata": {
        "id": "9dgnmEU5XNXO",
        "colab_type": "text"
      },
      "source": [
        "## Read a File"
      ]
    },
    {
      "cell_type": "code",
      "metadata": {
        "id": "FfbSXr7PXYVH",
        "colab_type": "code",
        "outputId": "63e3902e-2914-44dc-a994-a84105a7fb7b",
        "colab": {
          "base_uri": "https://localhost:8080/",
          "height": 34
        }
      },
      "source": [
        "with open(\"my_file_1.txt\",\"r\") as f:\n",
        "    print(f.read())  "
      ],
      "execution_count": 0,
      "outputs": [
        {
          "output_type": "stream",
          "text": [
            "new content\n"
          ],
          "name": "stdout"
        }
      ]
    },
    {
      "cell_type": "markdown",
      "metadata": {
        "id": "F0Bsc93huvJn",
        "colab_type": "text"
      },
      "source": [
        "## reference\n",
        "\n",
        "## https://www.python.org/"
      ]
    }
  ]
}