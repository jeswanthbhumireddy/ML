{
  "nbformat": 4,
  "nbformat_minor": 0,
  "metadata": {
    "colab": {
      "name": "simple_linear_regression.ipynb",
      "version": "0.3.2",
      "provenance": [],
      "collapsed_sections": [],
      "include_colab_link": true
    },
    "kernelspec": {
      "name": "python3",
      "display_name": "Python 3"
    }
  },
  "cells": [
    {
      "cell_type": "markdown",
      "metadata": {
        "id": "view-in-github",
        "colab_type": "text"
      },
      "source": [
        "<a href=\"https://colab.research.google.com/github/futurexskill/ai/blob/master/simple_linear_regression.ipynb\" target=\"_parent\"><img src=\"https://colab.research.google.com/assets/colab-badge.svg\" alt=\"Open In Colab\"/></a>"
      ]
    },
    {
      "cell_type": "markdown",
      "metadata": {
        "id": "cy2OSgJ8g46J",
        "colab_type": "text"
      },
      "source": [
        "## Import the libraries"
      ]
    },
    {
      "cell_type": "code",
      "metadata": {
        "id": "R9RjGROKHDF0",
        "colab_type": "code",
        "colab": {}
      },
      "source": [
        "import numpy as np\n",
        "import matplotlib.pyplot as plt\n",
        "import pandas as pd\n",
        "\n"
      ],
      "execution_count": 0,
      "outputs": []
    },
    {
      "cell_type": "markdown",
      "metadata": {
        "id": "lcVPI73bg8nZ",
        "colab_type": "text"
      },
      "source": [
        "## Read the dataset"
      ]
    },
    {
      "cell_type": "code",
      "metadata": {
        "id": "Dd6cThS2H_ac",
        "colab_type": "code",
        "colab": {}
      },
      "source": [
        "dataset = pd.read_csv('https://raw.githubusercontent.com/futurexskill/ai/master/studentmarks.csv')\n"
      ],
      "execution_count": 0,
      "outputs": []
    },
    {
      "cell_type": "markdown",
      "metadata": {
        "id": "lN1Gs_1MhH_K",
        "colab_type": "text"
      },
      "source": [
        "## Check sample records "
      ]
    },
    {
      "cell_type": "code",
      "metadata": {
        "id": "s2MUaIIdIMuz",
        "colab_type": "code",
        "outputId": "cfe8709a-99f9-4382-d521-3001b2e4f9c2",
        "colab": {
          "base_uri": "https://localhost:8080/",
          "height": 204
        }
      },
      "source": [
        "dataset.head()"
      ],
      "execution_count": 3,
      "outputs": [
        {
          "output_type": "execute_result",
          "data": {
            "text/html": [
              "<div>\n",
              "<style scoped>\n",
              "    .dataframe tbody tr th:only-of-type {\n",
              "        vertical-align: middle;\n",
              "    }\n",
              "\n",
              "    .dataframe tbody tr th {\n",
              "        vertical-align: top;\n",
              "    }\n",
              "\n",
              "    .dataframe thead th {\n",
              "        text-align: right;\n",
              "    }\n",
              "</style>\n",
              "<table border=\"1\" class=\"dataframe\">\n",
              "  <thead>\n",
              "    <tr style=\"text-align: right;\">\n",
              "      <th></th>\n",
              "      <th>Hours</th>\n",
              "      <th>Mark</th>\n",
              "    </tr>\n",
              "  </thead>\n",
              "  <tbody>\n",
              "    <tr>\n",
              "      <th>0</th>\n",
              "      <td>1.5</td>\n",
              "      <td>17</td>\n",
              "    </tr>\n",
              "    <tr>\n",
              "      <th>1</th>\n",
              "      <td>1.4</td>\n",
              "      <td>11</td>\n",
              "    </tr>\n",
              "    <tr>\n",
              "      <th>2</th>\n",
              "      <td>1.8</td>\n",
              "      <td>17</td>\n",
              "    </tr>\n",
              "    <tr>\n",
              "      <th>3</th>\n",
              "      <td>1.9</td>\n",
              "      <td>19</td>\n",
              "    </tr>\n",
              "    <tr>\n",
              "      <th>4</th>\n",
              "      <td>2.0</td>\n",
              "      <td>23</td>\n",
              "    </tr>\n",
              "  </tbody>\n",
              "</table>\n",
              "</div>"
            ],
            "text/plain": [
              "   Hours  Mark\n",
              "0    1.5    17\n",
              "1    1.4    11\n",
              "2    1.8    17\n",
              "3    1.9    19\n",
              "4    2.0    23"
            ]
          },
          "metadata": {
            "tags": []
          },
          "execution_count": 3
        }
      ]
    },
    {
      "cell_type": "markdown",
      "metadata": {
        "id": "lsYbsMPWhLGc",
        "colab_type": "text"
      },
      "source": [
        "## Get  dataset info"
      ]
    },
    {
      "cell_type": "code",
      "metadata": {
        "id": "SXqv2wK3hSeu",
        "colab_type": "code",
        "outputId": "cb0a7dc7-0d6c-4727-ec99-2561def61dc9",
        "colab": {
          "base_uri": "https://localhost:8080/",
          "height": 136
        }
      },
      "source": [
        "dataset.info()"
      ],
      "execution_count": 4,
      "outputs": [
        {
          "output_type": "stream",
          "text": [
            "<class 'pandas.core.frame.DataFrame'>\n",
            "RangeIndex: 40 entries, 0 to 39\n",
            "Data columns (total 2 columns):\n",
            "Hours    40 non-null float64\n",
            "Mark     40 non-null int64\n",
            "dtypes: float64(1), int64(1)\n",
            "memory usage: 720.0 bytes\n"
          ],
          "name": "stdout"
        }
      ]
    },
    {
      "cell_type": "code",
      "metadata": {
        "id": "q4BzGWVZhaCS",
        "colab_type": "code",
        "outputId": "f0c21976-6d96-44f1-fadb-b8c5c69dd4aa",
        "colab": {
          "base_uri": "https://localhost:8080/",
          "height": 297
        }
      },
      "source": [
        "dataset.describe()"
      ],
      "execution_count": 5,
      "outputs": [
        {
          "output_type": "execute_result",
          "data": {
            "text/html": [
              "<div>\n",
              "<style scoped>\n",
              "    .dataframe tbody tr th:only-of-type {\n",
              "        vertical-align: middle;\n",
              "    }\n",
              "\n",
              "    .dataframe tbody tr th {\n",
              "        vertical-align: top;\n",
              "    }\n",
              "\n",
              "    .dataframe thead th {\n",
              "        text-align: right;\n",
              "    }\n",
              "</style>\n",
              "<table border=\"1\" class=\"dataframe\">\n",
              "  <thead>\n",
              "    <tr style=\"text-align: right;\">\n",
              "      <th></th>\n",
              "      <th>Hours</th>\n",
              "      <th>Mark</th>\n",
              "    </tr>\n",
              "  </thead>\n",
              "  <tbody>\n",
              "    <tr>\n",
              "      <th>count</th>\n",
              "      <td>40.000000</td>\n",
              "      <td>40.000000</td>\n",
              "    </tr>\n",
              "    <tr>\n",
              "      <th>mean</th>\n",
              "      <td>5.607500</td>\n",
              "      <td>56.300000</td>\n",
              "    </tr>\n",
              "    <tr>\n",
              "      <th>std</th>\n",
              "      <td>2.685038</td>\n",
              "      <td>26.660448</td>\n",
              "    </tr>\n",
              "    <tr>\n",
              "      <th>min</th>\n",
              "      <td>1.400000</td>\n",
              "      <td>11.000000</td>\n",
              "    </tr>\n",
              "    <tr>\n",
              "      <th>25%</th>\n",
              "      <td>3.375000</td>\n",
              "      <td>35.250000</td>\n",
              "    </tr>\n",
              "    <tr>\n",
              "      <th>50%</th>\n",
              "      <td>5.450000</td>\n",
              "      <td>55.500000</td>\n",
              "    </tr>\n",
              "    <tr>\n",
              "      <th>75%</th>\n",
              "      <td>7.850000</td>\n",
              "      <td>79.500000</td>\n",
              "    </tr>\n",
              "    <tr>\n",
              "      <th>max</th>\n",
              "      <td>10.000000</td>\n",
              "      <td>97.000000</td>\n",
              "    </tr>\n",
              "  </tbody>\n",
              "</table>\n",
              "</div>"
            ],
            "text/plain": [
              "           Hours       Mark\n",
              "count  40.000000  40.000000\n",
              "mean    5.607500  56.300000\n",
              "std     2.685038  26.660448\n",
              "min     1.400000  11.000000\n",
              "25%     3.375000  35.250000\n",
              "50%     5.450000  55.500000\n",
              "75%     7.850000  79.500000\n",
              "max    10.000000  97.000000"
            ]
          },
          "metadata": {
            "tags": []
          },
          "execution_count": 5
        }
      ]
    },
    {
      "cell_type": "markdown",
      "metadata": {
        "id": "fMrpXcpuhqdb",
        "colab_type": "text"
      },
      "source": [
        "## Separate out the independent and dependent variables"
      ]
    },
    {
      "cell_type": "markdown",
      "metadata": {
        "id": "xb0FiLVEhvoT",
        "colab_type": "text"
      },
      "source": [
        "X - Independent Variable or Hours"
      ]
    },
    {
      "cell_type": "code",
      "metadata": {
        "id": "eLuZQyfjIOqh",
        "colab_type": "code",
        "outputId": "2f8f1f01-22b2-474e-bf2e-1218fc20332f",
        "colab": {
          "base_uri": "https://localhost:8080/",
          "height": 697
        }
      },
      "source": [
        "X = dataset.iloc[:, :-1].values\n",
        "X\n"
      ],
      "execution_count": 6,
      "outputs": [
        {
          "output_type": "execute_result",
          "data": {
            "text/plain": [
              "array([[ 1.5],\n",
              "       [ 1.4],\n",
              "       [ 1.8],\n",
              "       [ 1.9],\n",
              "       [ 2. ],\n",
              "       [ 2.3],\n",
              "       [ 2.5],\n",
              "       [ 2.6],\n",
              "       [ 2.8],\n",
              "       [ 3. ],\n",
              "       [ 3.5],\n",
              "       [ 3.6],\n",
              "       [ 3.8],\n",
              "       [ 4. ],\n",
              "       [ 4.5],\n",
              "       [ 4.6],\n",
              "       [ 4.8],\n",
              "       [ 5. ],\n",
              "       [ 5.3],\n",
              "       [ 5.4],\n",
              "       [ 5.5],\n",
              "       [ 6. ],\n",
              "       [ 6.2],\n",
              "       [ 6.3],\n",
              "       [ 6.5],\n",
              "       [ 6.9],\n",
              "       [ 7. ],\n",
              "       [ 7.2],\n",
              "       [ 7.5],\n",
              "       [ 7.8],\n",
              "       [ 8. ],\n",
              "       [ 8.3],\n",
              "       [ 8.5],\n",
              "       [ 8.8],\n",
              "       [ 9. ],\n",
              "       [ 9.5],\n",
              "       [ 9.5],\n",
              "       [ 9.7],\n",
              "       [ 9.8],\n",
              "       [10. ]])"
            ]
          },
          "metadata": {
            "tags": []
          },
          "execution_count": 6
        }
      ]
    },
    {
      "cell_type": "markdown",
      "metadata": {
        "id": "kzVnOD4Ehyjb",
        "colab_type": "text"
      },
      "source": [
        "y - Dependent Variable or Mark "
      ]
    },
    {
      "cell_type": "code",
      "metadata": {
        "id": "eURgPk99IQf0",
        "colab_type": "code",
        "outputId": "0273e05a-6b2e-4028-e717-281aa6130439",
        "colab": {
          "base_uri": "https://localhost:8080/",
          "height": 68
        }
      },
      "source": [
        "y = dataset.iloc[:, 1].values\n",
        "y\n"
      ],
      "execution_count": 7,
      "outputs": [
        {
          "output_type": "execute_result",
          "data": {
            "text/plain": [
              "array([17, 11, 17, 19, 23, 24, 21, 28, 27, 33, 36, 36, 37, 41, 50, 47, 43,\n",
              "       55, 53, 52, 56, 58, 62, 66, 64, 68, 78, 74, 74, 79, 82, 81, 84, 89,\n",
              "       92, 93, 93, 96, 97, 96])"
            ]
          },
          "metadata": {
            "tags": []
          },
          "execution_count": 7
        }
      ]
    },
    {
      "cell_type": "markdown",
      "metadata": {
        "id": "kzTjBFV-iB3s",
        "colab_type": "text"
      },
      "source": [
        "## Exploratory Data Analysis using MatplotLib"
      ]
    },
    {
      "cell_type": "code",
      "metadata": {
        "id": "13WPQkBEISLL",
        "colab_type": "code",
        "outputId": "b1d32183-8ac2-4f7c-a886-adc89c6da1a0",
        "colab": {
          "base_uri": "https://localhost:8080/",
          "height": 312
        }
      },
      "source": [
        "plt.xlabel('Hours studied')\n",
        "plt.ylabel('Mark scored')\n",
        "plt.title('Student Mark Analysis')\n",
        "plt.scatter(X, y)"
      ],
      "execution_count": 8,
      "outputs": [
        {
          "output_type": "execute_result",
          "data": {
            "text/plain": [
              "<matplotlib.collections.PathCollection at 0x7fb5bc540e48>"
            ]
          },
          "metadata": {
            "tags": []
          },
          "execution_count": 8
        },
        {
          "output_type": "display_data",
          "data": {
            "image/png": "[encoded data removed]",
            "text/plain": [
              "<Figure size 432x288 with 1 Axes>"
            ]
          },
          "metadata": {
            "tags": []
          }
        }
      ]
    },
    {
      "cell_type": "markdown",
      "metadata": {
        "id": "M4JWdtrEilfS",
        "colab_type": "text"
      },
      "source": [
        "## Split the Training and Test Data"
      ]
    },
    {
      "cell_type": "code",
      "metadata": {
        "id": "_dmja3BcITJS",
        "colab_type": "code",
        "colab": {}
      },
      "source": [
        "from sklearn.model_selection import train_test_split"
      ],
      "execution_count": 0,
      "outputs": []
    },
    {
      "cell_type": "code",
      "metadata": {
        "id": "l3x-C4_UIV-M",
        "colab_type": "code",
        "colab": {}
      },
      "source": [
        "X_train, X_test, y_train, y_test = train_test_split(X, y, test_size = .2,random_state=0)\n"
      ],
      "execution_count": 0,
      "outputs": []
    },
    {
      "cell_type": "markdown",
      "metadata": {
        "id": "YorP4SBIi-kk",
        "colab_type": "text"
      },
      "source": [
        "## Build a Linear Regression model"
      ]
    },
    {
      "cell_type": "code",
      "metadata": {
        "id": "RdJkriNbIW3Z",
        "colab_type": "code",
        "colab": {}
      },
      "source": [
        "from sklearn.linear_model import LinearRegression\n",
        "regressor = LinearRegression()"
      ],
      "execution_count": 0,
      "outputs": []
    },
    {
      "cell_type": "markdown",
      "metadata": {
        "id": "8oAr_wx1jKNy",
        "colab_type": "text"
      },
      "source": [
        "Train the model. This step is Machine Learning.  Machine is learning from training data"
      ]
    },
    {
      "cell_type": "code",
      "metadata": {
        "id": "zKCDaaitIY8w",
        "colab_type": "code",
        "outputId": "bf4b80cf-4ac3-4f80-f10d-08f8289f9ac8",
        "colab": {
          "base_uri": "https://localhost:8080/",
          "height": 34
        }
      },
      "source": [
        "regressor.fit(X_train, y_train)"
      ],
      "execution_count": 12,
      "outputs": [
        {
          "output_type": "execute_result",
          "data": {
            "text/plain": [
              "LinearRegression(copy_X=True, fit_intercept=True, n_jobs=None, normalize=False)"
            ]
          },
          "metadata": {
            "tags": []
          },
          "execution_count": 12
        }
      ]
    },
    {
      "cell_type": "markdown",
      "metadata": {
        "id": "GuuV8R_qjTuS",
        "colab_type": "text"
      },
      "source": [
        "## Evaluate the model\n",
        "\n",
        "LinearRegression class has a score method which gives **R Squared** value "
      ]
    },
    {
      "cell_type": "code",
      "metadata": {
        "id": "RTPPNaRFIapE",
        "colab_type": "code",
        "outputId": "994b51e4-80e0-412a-b471-11403c456d44",
        "colab": {
          "base_uri": "https://localhost:8080/",
          "height": 34
        }
      },
      "source": [
        "rsquared = regressor.score(X_test, y_test)\n",
        "rsquared"
      ],
      "execution_count": 13,
      "outputs": [
        {
          "output_type": "execute_result",
          "data": {
            "text/plain": [
              "0.9950783878115944"
            ]
          },
          "metadata": {
            "tags": []
          },
          "execution_count": 13
        }
      ]
    },
    {
      "cell_type": "markdown",
      "metadata": {
        "id": "vc6IGl5ijphP",
        "colab_type": "text"
      },
      "source": [
        "Accuracy is pretty high for tis model as R Sqaured is close to 1"
      ]
    },
    {
      "cell_type": "markdown",
      "metadata": {
        "id": "ypzz9qYSj8ry",
        "colab_type": "text"
      },
      "source": [
        "## Extract the Linear Regression formula \n",
        "\n",
        "### Y = a + b X"
      ]
    },
    {
      "cell_type": "markdown",
      "metadata": {
        "id": "RIyQnzSOkCyt",
        "colab_type": "text"
      },
      "source": [
        "Get the constant or intercept  value of the line"
      ]
    },
    {
      "cell_type": "code",
      "metadata": {
        "id": "dhsaT95EId-V",
        "colab_type": "code",
        "outputId": "8316af09-ba5d-4158-c94e-10d098e01d34",
        "colab": {
          "base_uri": "https://localhost:8080/",
          "height": 34
        }
      },
      "source": [
        "intercept = regressor.intercept_\n",
        "intercept"
      ],
      "execution_count": 14,
      "outputs": [
        {
          "output_type": "execute_result",
          "data": {
            "text/plain": [
              "0.5317409289067143"
            ]
          },
          "metadata": {
            "tags": []
          },
          "execution_count": 14
        }
      ]
    },
    {
      "cell_type": "markdown",
      "metadata": {
        "id": "TFWnL2AZkKwz",
        "colab_type": "text"
      },
      "source": [
        "Get the slope or coefficient of the line"
      ]
    },
    {
      "cell_type": "code",
      "metadata": {
        "id": "TC5wWz8VIf4r",
        "colab_type": "code",
        "outputId": "43d1c780-3832-4007-be6f-7c8e99b18e95",
        "colab": {
          "base_uri": "https://localhost:8080/",
          "height": 34
        }
      },
      "source": [
        "coefficient = regressor.coef_\n",
        "coefficient\n"
      ],
      "execution_count": 15,
      "outputs": [
        {
          "output_type": "execute_result",
          "data": {
            "text/plain": [
              "array([9.9348742])"
            ]
          },
          "metadata": {
            "tags": []
          },
          "execution_count": 15
        }
      ]
    },
    {
      "cell_type": "markdown",
      "metadata": {
        "id": "ko4cresZkeU6",
        "colab_type": "text"
      },
      "source": [
        "### Y = a + b X\n",
        "\n",
        "### Mark = 0.531  + 9.93 Hours "
      ]
    },
    {
      "cell_type": "markdown",
      "metadata": {
        "id": "PQjFg7nJkUCD",
        "colab_type": "text"
      },
      "source": [
        "## Predict for the test set"
      ]
    },
    {
      "cell_type": "code",
      "metadata": {
        "id": "g83hdjlZIhGy",
        "colab_type": "code",
        "outputId": "f7a5ace8-3bb4-4dce-e1a9-72ce87c63e8f",
        "colab": {
          "base_uri": "https://localhost:8080/",
          "height": 51
        }
      },
      "source": [
        "y_pred = regressor.predict(X_test)\n",
        "y_pred\n"
      ],
      "execution_count": 16,
      "outputs": [
        {
          "output_type": "execute_result",
          "data": {
            "text/plain": [
              "array([62.12796098, 55.17354904, 69.08237292, 20.40148933, 35.30380064,\n",
              "       46.23216226, 75.04329744, 36.29728806])"
            ]
          },
          "metadata": {
            "tags": []
          },
          "execution_count": 16
        }
      ]
    },
    {
      "cell_type": "markdown",
      "metadata": {
        "id": "lgaJsZk6gBYn",
        "colab_type": "text"
      },
      "source": [
        "Compare with actual data"
      ]
    },
    {
      "cell_type": "code",
      "metadata": {
        "id": "sjPodE53Iie4",
        "colab_type": "code",
        "outputId": "4b6c0855-8653-4fe8-833b-2a00741d9af4",
        "colab": {
          "base_uri": "https://localhost:8080/",
          "height": 34
        }
      },
      "source": [
        "y_test"
      ],
      "execution_count": 17,
      "outputs": [
        {
          "output_type": "execute_result",
          "data": {
            "text/plain": [
              "array([62, 56, 68, 23, 36, 47, 74, 36])"
            ]
          },
          "metadata": {
            "tags": []
          },
          "execution_count": 17
        }
      ]
    },
    {
      "cell_type": "markdown",
      "metadata": {
        "id": "WO_h41M1kvOc",
        "colab_type": "text"
      },
      "source": [
        "## Plot the Actual Vs Predicted value"
      ]
    },
    {
      "cell_type": "code",
      "metadata": {
        "id": "XqTc1hFJIp2f",
        "colab_type": "code",
        "outputId": "3a208053-161e-45e0-b1c1-6e563fca7656",
        "colab": {
          "base_uri": "https://localhost:8080/",
          "height": 295
        }
      },
      "source": [
        "plt.scatter(X_test, y_test, color = 'red')\n",
        "plt.plot(X_test, y_pred, color = 'blue')\n",
        "plt.title('Mark vs Study Hours (test set)')\n",
        "plt.xlabel('Study Hours')\n",
        "plt.ylabel('Mark')\n",
        "plt.show()\n",
        "\n"
      ],
      "execution_count": 18,
      "outputs": [
        {
          "output_type": "display_data",
          "data": {
            "image/png": "[encoded data removed]",
            "text/plain": [
              "<Figure size 432x288 with 1 Axes>"
            ]
          },
          "metadata": {
            "tags": []
          }
        }
      ]
    },
    {
      "cell_type": "markdown",
      "metadata": {
        "id": "PKb1g2Xfk5is",
        "colab_type": "text"
      },
      "source": [
        "## Predict for new data points"
      ]
    },
    {
      "cell_type": "markdown",
      "metadata": {
        "id": "ZJrON-u3k9bd",
        "colab_type": "text"
      },
      "source": [
        "Predict using the predict method"
      ]
    },
    {
      "cell_type": "code",
      "metadata": {
        "id": "inI_CIcGIu7G",
        "colab_type": "code",
        "outputId": "4d6de4b3-e6c4-4241-d1ae-3f8819c0b9d3",
        "colab": {
          "base_uri": "https://localhost:8080/",
          "height": 34
        }
      },
      "source": [
        "y_new_pred2 = regressor.predict([[3]])\n",
        "print(y_new_pred2)"
      ],
      "execution_count": 19,
      "outputs": [
        {
          "output_type": "stream",
          "text": [
            "[30.33636354]\n"
          ],
          "name": "stdout"
        }
      ]
    },
    {
      "cell_type": "markdown",
      "metadata": {
        "id": "CyQDE9WflAe8",
        "colab_type": "text"
      },
      "source": [
        "Predict using the formula"
      ]
    },
    {
      "cell_type": "code",
      "metadata": {
        "id": "C69s-b8VI7s2",
        "colab_type": "code",
        "outputId": "e50502cc-685c-4a63-9dc6-297caa9876ab",
        "colab": {
          "base_uri": "https://localhost:8080/",
          "height": 34
        }
      },
      "source": [
        "y_new_pred22 = coefficient * 3 + intercept\n",
        "print(y_new_pred2)\n"
      ],
      "execution_count": 20,
      "outputs": [
        {
          "output_type": "stream",
          "text": [
            "[30.33636354]\n"
          ],
          "name": "stdout"
        }
      ]
    },
    {
      "cell_type": "code",
      "metadata": {
        "id": "WjqMtnWeI9dZ",
        "colab_type": "code",
        "colab": {}
      },
      "source": [
        ""
      ],
      "execution_count": 0,
      "outputs": []
    }
  ]
}