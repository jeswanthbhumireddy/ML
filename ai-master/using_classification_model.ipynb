{
  "nbformat": 4,
  "nbformat_minor": 0,
  "metadata": {
    "colab": {
      "name": "using_classification_model.ipynb",
      "version": "0.3.2",
      "provenance": [],
      "collapsed_sections": [],
      "include_colab_link": true
    },
    "kernelspec": {
      "name": "python3",
      "display_name": "Python 3"
    }
  },
  "cells": [
    {
      "cell_type": "markdown",
      "metadata": {
        "id": "view-in-github",
        "colab_type": "text"
      },
      "source": [
        "<a href=\"https://colab.research.google.com/github/futurexskill/ai/blob/master/using_classification_model.ipynb\" target=\"_parent\"><img src=\"https://colab.research.google.com/assets/colab-badge.svg\" alt=\"Open In Colab\"/></a>"
      ]
    },
    {
      "cell_type": "markdown",
      "metadata": {
        "id": "Nv6nhcY_Mpji",
        "colab_type": "text"
      },
      "source": [
        "## Import the libraries"
      ]
    },
    {
      "cell_type": "code",
      "metadata": {
        "id": "9pX4CA1i8XzL",
        "colab_type": "code",
        "colab": {}
      },
      "source": [
        "import pickle\n",
        "import numpy as np"
      ],
      "execution_count": 0,
      "outputs": []
    },
    {
      "cell_type": "code",
      "metadata": {
        "id": "Kk0xX7Qx8ehT",
        "colab_type": "code",
        "colab": {}
      },
      "source": [
        "filename = \"knnmodel.pickle\"\n",
        "filename2 = \"sc.pickle\"\n"
      ],
      "execution_count": 0,
      "outputs": []
    },
    {
      "cell_type": "markdown",
      "metadata": {
        "id": "z5e1U-ElM1zg",
        "colab_type": "text"
      },
      "source": [
        "## Load the Model and the Scaler"
      ]
    },
    {
      "cell_type": "code",
      "metadata": {
        "id": "3iQh-FtK8f53",
        "colab_type": "code",
        "colab": {}
      },
      "source": [
        "classifier = pickle.load(open(filename,'rb'))\n"
      ],
      "execution_count": 0,
      "outputs": []
    },
    {
      "cell_type": "code",
      "metadata": {
        "id": "WVc--g469FTa",
        "colab_type": "code",
        "colab": {}
      },
      "source": [
        "sc = pickle.load(open(filename2,'rb'))\n"
      ],
      "execution_count": 0,
      "outputs": []
    },
    {
      "cell_type": "markdown",
      "metadata": {
        "id": "lSw7caApM5BV",
        "colab_type": "text"
      },
      "source": [
        "## Predict using the Model"
      ]
    },
    {
      "cell_type": "code",
      "metadata": {
        "id": "V3HdfwJE8g0B",
        "colab_type": "code",
        "outputId": "ff527e24-52ec-4d77-f411-7ad9b4851278",
        "colab": {
          "base_uri": "https://localhost:8080/",
          "height": 34
        }
      },
      "source": [
        "new_pred = classifier.predict(sc.transform(np.array([[40,20000]])))\n",
        "new_pred"
      ],
      "execution_count": 0,
      "outputs": [
        {
          "output_type": "execute_result",
          "data": {
            "text/plain": [
              "array([0])"
            ]
          },
          "metadata": {
            "tags": []
          },
          "execution_count": 13
        }
      ]
    },
    {
      "cell_type": "code",
      "metadata": {
        "id": "zym2beW98jCs",
        "colab_type": "code",
        "outputId": "e2bd9967-1c23-47ce-f14a-fa20ef058054",
        "colab": {
          "base_uri": "https://localhost:8080/",
          "height": 34
        }
      },
      "source": [
        "new_pred_proba = classifier.predict_proba(sc.transform(np.array([[40,20000]])))[:,1]\n",
        "new_pred_proba"
      ],
      "execution_count": 0,
      "outputs": [
        {
          "output_type": "execute_result",
          "data": {
            "text/plain": [
              "array([0.2])"
            ]
          },
          "metadata": {
            "tags": []
          },
          "execution_count": 14
        }
      ]
    },
    {
      "cell_type": "code",
      "metadata": {
        "id": "HJYvsZWZ8v3E",
        "colab_type": "code",
        "outputId": "26f464b8-253d-45e5-c585-1eab5ee0131c",
        "colab": {
          "base_uri": "https://localhost:8080/",
          "height": 34
        }
      },
      "source": [
        "new_pred = classifier.predict(sc.transform(np.array([[42,50000]])))\n",
        "new_pred"
      ],
      "execution_count": 0,
      "outputs": [
        {
          "output_type": "execute_result",
          "data": {
            "text/plain": [
              "array([1])"
            ]
          },
          "metadata": {
            "tags": []
          },
          "execution_count": 15
        }
      ]
    },
    {
      "cell_type": "code",
      "metadata": {
        "id": "WMikTDAuNBZM",
        "colab_type": "code",
        "outputId": "153aa261-147a-4907-ecdd-f4636f01be07",
        "colab": {
          "base_uri": "https://localhost:8080/",
          "height": 34
        }
      },
      "source": [
        "new_pred_proba = classifier.predict_proba(sc.transform(np.array([[42,50000]])))[:,1]\n",
        "new_pred_proba"
      ],
      "execution_count": 0,
      "outputs": [
        {
          "output_type": "execute_result",
          "data": {
            "text/plain": [
              "array([0.8])"
            ]
          },
          "metadata": {
            "tags": []
          },
          "execution_count": 16
        }
      ]
    },
    {
      "cell_type": "code",
      "metadata": {
        "id": "oaQJ3iKsNFOT",
        "colab_type": "code",
        "colab": {}
      },
      "source": [
        ""
      ],
      "execution_count": 0,
      "outputs": []
    }
  ]
}